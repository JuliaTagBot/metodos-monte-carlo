{
 "metadata": {
  "language": "Julia",
  "name": "",
  "signature": "sha256:c7fddedf726101d1cfd379da22e51087086da9b3fa9e33651bd96e68ec381fbb"
 },
 "nbformat": 3,
 "nbformat_minor": 0,
 "worksheets": [
  {
   "cells": [
    {
     "cell_type": "markdown",
     "metadata": {},
     "source": [
      "En este notebook, investigaremos cuestiones de f\u00edsica que muestran el modelo de Ising."
     ]
    },
    {
     "cell_type": "heading",
     "level": 2,
     "metadata": {},
     "source": [
      "Escalamiento"
     ]
    },
    {
     "cell_type": "markdown",
     "metadata": {},
     "source": [
      "Usa una versi\u00f3n eficiente del c\u00f3digo del modelo de Ising para las siguientes tareas."
     ]
    },
    {
     "cell_type": "markdown",
     "metadata": {},
     "source": [
      "[1] Define la *energ\u00eda por esp\u00edn* $e := E/N$ y *magnetizaci\u00f3n por esp\u00edn* $m := M/N$.\n",
      "\n",
      "(i) Grafica $\\langle e \\rangle_T$ en funci\u00f3n de la temperatura $T$, para distintos tama\u00f1os del sistema. \n",
      "\n",
      "(ii) Grafica $\\langle |m| \\rangle_T$ en funci\u00f3n de la temperatura $T$, para distintos tama\u00f1os del sistema.\n",
      "\n",
      "\u00bfQu\u00e9 observas? \u00bfA qu\u00e9 corresponde f\u00edsicamente? \u00bfCu\u00e1l es el efecto de aumentar el tama\u00f1o del sistema?\n",
      "\n",
      "N\u00f3tese que es com\u00fan trabajar con tiempos en unidades de *un sweep*, definido como $N$ intentos por voltear un esp\u00edn. Esto corresponde a un \"tiempo f\u00edsico\", ya que da a cada esp\u00edn la oportunidad de voltearse una vez (en promedio)."
     ]
    },
    {
     "cell_type": "markdown",
     "metadata": {},
     "source": [
      "[2] La *capacidad calor\u00edfica* se define como\n",
      "\n",
      "$$ C_T := \\frac{\\partial \\langle E \\rangle(T)}{\\partial T}. $$\n",
      "\n",
      "(i) Encuentra una f\u00f3rmula para $C$ en t\u00e9rminos de la funci\u00f3n de partici\u00f3n $Z$.\n",
      "\n",
      "(ii) Encuentra una f\u00f3rmula para $C$ en t\u00e9rminos de promedios de ensamble."
     ]
    },
    {
     "cell_type": "markdown",
     "metadata": {},
     "source": [
      "[3] Calcula $c_T := C_T/N$ y dib\u00fajalo en funci\u00f3n de $T$. \u00bfQu\u00e9 observas?"
     ]
    },
    {
     "cell_type": "heading",
     "level": 2,
     "metadata": {},
     "source": [
      "Ising con campo externo"
     ]
    },
    {
     "cell_type": "markdown",
     "metadata": {},
     "source": [
      "La f\u00edsica cambia si le agregamos un *campo magn\u00e9tico externo* al modelo, es decir un campo magn\u00e9tico de magnitud $h$ que acopla a cada esp\u00edn.\n",
      "\n",
      "[4] Escribe un Hamiltoniano para la energ\u00eda de una configuraci\u00f3n $\\pmb{\\sigma}$.\n",
      "\n",
      "[5] Haz una simulaci\u00f3n del modelo para temperaturas $T$ m\u00e1s o menos bajas, cambiando el campo de positivo a negativo y de regreso. \u00bfQu\u00e9 se observa?\n",
      "\n",
      "[6] Dibuja configuraciones para entender f\u00edsicamente lo que est\u00e1 pasando."
     ]
    }
   ],
   "metadata": {}
  }
 ]
}