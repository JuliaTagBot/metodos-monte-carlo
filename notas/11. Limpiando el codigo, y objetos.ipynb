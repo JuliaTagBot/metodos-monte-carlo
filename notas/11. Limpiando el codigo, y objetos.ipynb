{
 "cells": [
  {
   "cell_type": "markdown",
   "metadata": {},
   "source": [
    "Hasta ahora, tu código probablemente está regado en uno o varios notebooks.\n",
    "La idea es, primero, recolectarlo en un lugar."
   ]
  },
  {
   "cell_type": "markdown",
   "metadata": {},
   "source": [
    "[1] Revisa la documentación sobre **modules** (módulos) en Julia. Crea un módulo que se llama `Ising` (o `ModeloIsing`, o algo por el estilo), en un archivo `Ising.jl` tal que puedas incluir el código (e.g. desde un notebook) con `using Ising`, y correrlo al llamar una sola función que acepte los parámetros importantes del modelo (tamaño de la caja, temperatura, etc.).  [Se recomienda usar un editor que \"sepa Julia\", e.g. Juno, Sublime Text, Atom (o Emacs o Vim) para este propósito.]\n",
    "\n",
    "[2] Escribe un \"script\" (programa corto con código de Julia) que toma los *argumentos de la línea de comandos* [en Julia, éstos se guardan en la variable `ARGS`, y produce los plots de la energía y magnetización en función de la temperatura."
   ]
  },
  {
   "cell_type": "markdown",
   "metadata": {},
   "source": [
    "# Tipos "
   ]
  },
  {
   "cell_type": "markdown",
   "metadata": {},
   "source": [
    "Hasta ahora, no hay manera de hablar del \"modelo de Ising\" o del \"método de Metropolis\" en tu código --los conceptos están, de igual forma, regados por el programa. Julia permite llevar a cabo la **programación orientada a objetos**, al definir tus propios **tipos** nuevos.\n",
    "\n",
    "Por ejemplo:"
   ]
  },
  {
   "cell_type": "code",
   "execution_count": 1,
   "metadata": {
    "collapsed": false
   },
   "outputs": [],
   "source": [
    "type Hola\n",
    "    a::Int\n",
    "    b\n",
    "end"
   ]
  },
  {
   "cell_type": "markdown",
   "metadata": {},
   "source": [
    "define un *tipo nuevo de objeto*, que se llama `Hola`. Especifica que un objeto de este tipo contendrá una propiedad `a`, que es, a fuerzas, de tipo `Int`, y otro objeto `b`, que puede ser de cualquier tipo."
   ]
  },
  {
   "cell_type": "markdown",
   "metadata": {},
   "source": [
    "[3] Encuentra la manera de *crear un objeto nuevo* de este tipo."
   ]
  },
  {
   "cell_type": "markdown",
   "metadata": {},
   "source": [
    "[4] ¿Cuáles elementos de tu programa podrías tratar como objetos de esta forma? ¿Cómo se deberían comunicar entre ellos? [Nota que ¡no necesariamente hay respuestas únicas ni evidentes a esta pregunta!]"
   ]
  },
  {
   "cell_type": "markdown",
   "metadata": {},
   "source": [
    "[5] La programación orientada a objetos requiere la posibilidad de manipular los objetos, al llamar funciones que actúan con o en función de ellos. Por ejemplo, si uno tiene un tipo `Configuracion`, podría querer tener una función `voltear` que actúa sobre este objeto. ¿Cómo se puede hacer esto en Julia?"
   ]
  },
  {
   "cell_type": "markdown",
   "metadata": {},
   "source": [
    "[6] Escribe una nueva versión de tu código, en el cual se separa los conceptos de esta manera."
   ]
  }
 ],
 "metadata": {
  "kernelspec": {
   "display_name": "Julia 0.3.8-pre",
   "language": "julia",
   "name": "julia 0.3"
  },
  "language_info": {
   "name": "julia",
   "version": "0.3.8"
  }
 },
 "nbformat": 4,
 "nbformat_minor": 0
}
