{
 "metadata": {
  "kernelspec": {
   "display_name": "Julia 0.3.8-pre",
   "language": "julia",
   "name": "julia 0.3"
  },
  "language_info": {
   "name": "julia",
   "version": "0.3.8"
  },
  "name": ""
 },
 "nbformat": 3,
 "nbformat_minor": 0,
 "worksheets": [
  {
   "cells": [
    {
     "cell_type": "heading",
     "level": 1,
     "metadata": {},
     "source": [
      "\u00bfC\u00f3mo representar una part\u00edcula?"
     ]
    },
    {
     "cell_type": "markdown",
     "metadata": {},
     "source": [
      "Necesito: posici\u00f3n $x$, velocidad $v$, masa $m$, [carga $q$, color...]"
     ]
    },
    {
     "cell_type": "code",
     "collapsed": false,
     "input": [
      "x = 3.\n",
      "v = 1.\n",
      "m = 1."
     ],
     "language": "python",
     "metadata": {},
     "outputs": [
      {
       "metadata": {},
       "output_type": "pyout",
       "prompt_number": 5,
       "text": [
        "1.0"
       ]
      }
     ],
     "prompt_number": 5
    },
    {
     "cell_type": "markdown",
     "metadata": {},
     "source": [
      "Mover la part\u00edcula:"
     ]
    },
    {
     "cell_type": "code",
     "collapsed": false,
     "input": [
      "function mover(x, v, \u03b4t) \n",
      "    x = x + v*\u03b4t\n",
      "end"
     ],
     "language": "python",
     "metadata": {},
     "outputs": [
      {
       "metadata": {},
       "output_type": "pyout",
       "prompt_number": 8,
       "text": [
        "mover (generic function with 2 methods)"
       ]
      }
     ],
     "prompt_number": 8
    },
    {
     "cell_type": "code",
     "collapsed": false,
     "input": [
      "mover(1)"
     ],
     "language": "python",
     "metadata": {},
     "outputs": [
      {
       "metadata": {},
       "output_type": "pyout",
       "prompt_number": 7,
       "text": [
        "4.0"
       ]
      }
     ],
     "prompt_number": 7
    },
    {
     "cell_type": "code",
     "collapsed": false,
     "input": [
      "x"
     ],
     "language": "python",
     "metadata": {},
     "outputs": [
      {
       "ename": "LoadError",
       "evalue": "x not defined\nwhile loading In[15], in expression starting on line 1",
       "output_type": "pyerr",
       "traceback": [
        "x not defined\nwhile loading In[15], in expression starting on line 1",
        ""
       ]
      }
     ],
     "prompt_number": 15
    },
    {
     "cell_type": "code",
     "collapsed": false,
     "input": [
      "x2 = 1\n",
      "v2 = 3"
     ],
     "language": "python",
     "metadata": {},
     "outputs": [
      {
       "metadata": {},
       "output_type": "pyout",
       "prompt_number": 16,
       "text": [
        "3"
       ]
      }
     ],
     "prompt_number": 16
    },
    {
     "cell_type": "markdown",
     "metadata": {},
     "source": [
      "Otra representaci\u00f3n:"
     ]
    },
    {
     "cell_type": "code",
     "collapsed": false,
     "input": [
      "particula = [3, 4., \"particulita\"]\n",
      "# son [x, v, etiqueta]"
     ],
     "language": "python",
     "metadata": {},
     "outputs": [
      {
       "metadata": {},
       "output_type": "pyout",
       "prompt_number": 17,
       "text": [
        "3-element Array{Any,1}:\n",
        " 3             \n",
        " 4.0           \n",
        "  \"particulita\""
       ]
      }
     ],
     "prompt_number": 17
    },
    {
     "cell_type": "code",
     "collapsed": false,
     "input": [
      "dt = 0.5\n",
      "particula[1] = particula[1] + dt * particula[2]\n",
      "\n",
      "# NO SE ENTIENDE NADA"
     ],
     "language": "python",
     "metadata": {},
     "outputs": [
      {
       "metadata": {},
       "output_type": "pyout",
       "prompt_number": 18,
       "text": [
        "5.0"
       ]
      }
     ],
     "prompt_number": 18
    },
    {
     "cell_type": "heading",
     "level": 1,
     "metadata": {},
     "source": [
      "La soluci\u00f3n: tipos / objetos / clases "
     ]
    },
    {
     "cell_type": "markdown",
     "metadata": {},
     "source": [
      "Voy hacer una *caja* que contiene cosas con nombres:"
     ]
    },
    {
     "cell_type": "code",
     "collapsed": true,
     "input": [
      "type Particula\n",
      "    x\n",
      "    v\n",
      "    m\n",
      "end"
     ],
     "language": "python",
     "metadata": {},
     "outputs": [],
     "prompt_number": 19
    },
    {
     "cell_type": "code",
     "collapsed": false,
     "input": [
      "Particula"
     ],
     "language": "python",
     "metadata": {},
     "outputs": [
      {
       "metadata": {},
       "output_type": "pyout",
       "prompt_number": 20,
       "text": [
        "Particula (constructor with 1 method)"
       ]
      }
     ],
     "prompt_number": 20
    },
    {
     "cell_type": "code",
     "collapsed": false,
     "input": [
      "methods(Particula)"
     ],
     "language": "python",
     "metadata": {},
     "outputs": [
      {
       "html": [
        "1 method for generic function <b>Particula</b>:<ul><li> Particula(x,v,m)</ul>"
       ],
       "metadata": {},
       "output_type": "pyout",
       "prompt_number": 21,
       "text": [
        "# 1 method for generic function \"Particula\":\n",
        "Particula(x,v,m)"
       ]
      }
     ],
     "prompt_number": 21
    },
    {
     "cell_type": "code",
     "collapsed": false,
     "input": [
      "p = Particula(1, 2, 3)"
     ],
     "language": "python",
     "metadata": {},
     "outputs": [
      {
       "metadata": {},
       "output_type": "pyout",
       "prompt_number": 22,
       "text": [
        "Particula(1,2,3)"
       ]
      }
     ],
     "prompt_number": 22
    },
    {
     "cell_type": "code",
     "collapsed": false,
     "input": [
      "p"
     ],
     "language": "python",
     "metadata": {},
     "outputs": [
      {
       "metadata": {},
       "output_type": "pyout",
       "prompt_number": 23,
       "text": [
        "Particula(1,2,3)"
       ]
      }
     ],
     "prompt_number": 23
    },
    {
     "cell_type": "code",
     "collapsed": false,
     "input": [
      "p.x"
     ],
     "language": "python",
     "metadata": {},
     "outputs": [
      {
       "metadata": {},
       "output_type": "pyout",
       "prompt_number": 24,
       "text": [
        "1"
       ]
      }
     ],
     "prompt_number": 24
    },
    {
     "cell_type": "code",
     "collapsed": false,
     "input": [
      "p.v"
     ],
     "language": "python",
     "metadata": {},
     "outputs": [
      {
       "metadata": {},
       "output_type": "pyout",
       "prompt_number": 25,
       "text": [
        "2"
       ]
      }
     ],
     "prompt_number": 25
    },
    {
     "cell_type": "code",
     "collapsed": false,
     "input": [
      "p.m"
     ],
     "language": "python",
     "metadata": {},
     "outputs": [
      {
       "metadata": {},
       "output_type": "pyout",
       "prompt_number": 26,
       "text": [
        "3"
       ]
      }
     ],
     "prompt_number": 26
    },
    {
     "cell_type": "code",
     "collapsed": false,
     "input": [
      "dt = 0.5\n",
      "p.x += p.v*dt  # equivalente a   p.x = p.x + p.v*dt"
     ],
     "language": "python",
     "metadata": {},
     "outputs": [
      {
       "metadata": {},
       "output_type": "pyout",
       "prompt_number": 27,
       "text": [
        "2.0"
       ]
      }
     ],
     "prompt_number": 27
    },
    {
     "cell_type": "code",
     "collapsed": false,
     "input": [
      "p2 = Particula(4, 5, 6)"
     ],
     "language": "python",
     "metadata": {},
     "outputs": [
      {
       "metadata": {},
       "output_type": "pyout",
       "prompt_number": 28,
       "text": [
        "Particula(4,5,6)"
       ]
      }
     ],
     "prompt_number": 28
    },
    {
     "cell_type": "code",
     "collapsed": false,
     "input": [
      "p"
     ],
     "language": "python",
     "metadata": {},
     "outputs": [
      {
       "metadata": {},
       "output_type": "pyout",
       "prompt_number": 29,
       "text": [
        "Particula(2.0,2,3)"
       ]
      }
     ],
     "prompt_number": 29
    },
    {
     "cell_type": "code",
     "collapsed": false,
     "input": [
      "p2"
     ],
     "language": "python",
     "metadata": {},
     "outputs": [
      {
       "metadata": {},
       "output_type": "pyout",
       "prompt_number": 30,
       "text": [
        "Particula(4,5,6)"
       ]
      }
     ],
     "prompt_number": 30
    },
    {
     "cell_type": "code",
     "collapsed": false,
     "input": [
      "p2.x, p2.v, p2.m"
     ],
     "language": "python",
     "metadata": {},
     "outputs": [
      {
       "metadata": {},
       "output_type": "pyout",
       "prompt_number": 31,
       "text": [
        "(4,5,6)"
       ]
      }
     ],
     "prompt_number": 31
    },
    {
     "cell_type": "code",
     "collapsed": false,
     "input": [
      "p3 = Particula(\"hola\", \"soy\", \"yo\")"
     ],
     "language": "python",
     "metadata": {},
     "outputs": [
      {
       "metadata": {},
       "output_type": "pyout",
       "prompt_number": 32,
       "text": [
        "Particula(\"hola\",\"soy\",\"yo\")"
       ]
      }
     ],
     "prompt_number": 32
    },
    {
     "cell_type": "code",
     "collapsed": true,
     "input": [
      "type Particula2\n",
      "    x::Real\n",
      "    v::Real\n",
      "    m::Real\n",
      "end"
     ],
     "language": "python",
     "metadata": {},
     "outputs": [],
     "prompt_number": 33
    },
    {
     "cell_type": "code",
     "collapsed": false,
     "input": [
      "Particula2(\"HOLA\", \"y\", \"eso\")"
     ],
     "language": "python",
     "metadata": {},
     "outputs": [
      {
       "ename": "LoadError",
       "evalue": "`convert` has no method matching convert(::Type{Real}, ::ASCIIString)\nwhile loading In[34], in expression starting on line 1",
       "output_type": "pyerr",
       "traceback": [
        "`convert` has no method matching convert(::Type{Real}, ::ASCIIString)\nwhile loading In[34], in expression starting on line 1",
        "",
        " in Particula2 at no file"
       ]
      }
     ],
     "prompt_number": 34
    },
    {
     "cell_type": "code",
     "collapsed": false,
     "input": [
      "Particula2(-3, 10, Inf)"
     ],
     "language": "python",
     "metadata": {},
     "outputs": [
      {
       "metadata": {},
       "output_type": "pyout",
       "prompt_number": 35,
       "text": [
        "Particula2(-3,10,Inf)"
       ]
      }
     ],
     "prompt_number": 35
    },
    {
     "cell_type": "code",
     "collapsed": false,
     "input": [
      "p"
     ],
     "language": "python",
     "metadata": {},
     "outputs": [
      {
       "metadata": {},
       "output_type": "pyout",
       "prompt_number": 36,
       "text": [
        "Particula(2.0,2,3)"
       ]
      }
     ],
     "prompt_number": 36
    },
    {
     "cell_type": "code",
     "collapsed": false,
     "input": [
      "function mover!(p::Particula, dt)\n",
      "    p.x += p.v * dt\n",
      "end\n",
      "\n",
      "function mover!(p::Particula2, dt)\n",
      "    p.x += p.v * 3*dt\n",
      "end"
     ],
     "language": "python",
     "metadata": {},
     "outputs": [
      {
       "metadata": {},
       "output_type": "pyout",
       "prompt_number": 42,
       "text": [
        "mover! (generic function with 2 methods)"
       ]
      }
     ],
     "prompt_number": 42
    },
    {
     "cell_type": "code",
     "collapsed": false,
     "input": [
      "methods(mover!)"
     ],
     "language": "python",
     "metadata": {},
     "outputs": [
      {
       "html": [
        "2 methods for generic function <b>mover!</b>:<ul><li> mover!(p::<b>Particula</b>,dt) at In[42]:2<li> mover!(p::<b>Particula2</b>,dt) at In[42]:6</ul>"
       ],
       "metadata": {},
       "output_type": "pyout",
       "prompt_number": 43,
       "text": [
        "# 2 methods for generic function \"mover!\":\n",
        "mover!(p::Particula,dt) at In[42]:2\n",
        "mover!(p::Particula2,dt) at In[42]:6"
       ]
      }
     ],
     "prompt_number": 43
    },
    {
     "cell_type": "code",
     "collapsed": false,
     "input": [
      "methods(+)"
     ],
     "language": "python",
     "metadata": {},
     "outputs": [
      {
       "html": [
        "117 methods for generic function <b>+</b>:<ul><li> +(x::<b>Bool</b>) at <a href=\"https://github.com/JuliaLang/julia/tree/af187c5ac5bfc5059feff71477c28f1f2256a153/base/bool.jl#L36\" target=\"_blank\">bool.jl:36</a><li> +(x::<b>Bool</b>,y::<b>Bool</b>) at <a href=\"https://github.com/JuliaLang/julia/tree/af187c5ac5bfc5059feff71477c28f1f2256a153/base/bool.jl#L39\" target=\"_blank\">bool.jl:39</a><li> +(y::<b>FloatingPoint</b>,x::<b>Bool</b>) at <a href=\"https://github.com/JuliaLang/julia/tree/af187c5ac5bfc5059feff71477c28f1f2256a153/base/bool.jl#L49\" target=\"_blank\">bool.jl:49</a><li> +(A::<b>BitArray{N}</b>,B::<b>BitArray{N}</b>) at <a href=\"https://github.com/JuliaLang/julia/tree/af187c5ac5bfc5059feff71477c28f1f2256a153/base/bitarray.jl#L848\" target=\"_blank\">bitarray.jl:848</a><li> +(A::<b>Union(DenseArray{Bool,N},SubArray{Bool,N,A<:DenseArray{T,N},I<:(Union(Int64,Range{Int64})...,)})</b>,B::<b>Union(DenseArray{Bool,N},SubArray{Bool,N,A<:DenseArray{T,N},I<:(Union(Int64,Range{Int64})...,)})</b>) at <a href=\"https://github.com/JuliaLang/julia/tree/af187c5ac5bfc5059feff71477c28f1f2256a153/base/array.jl#L801\" target=\"_blank\">array.jl:801</a><li> +<i>{S,T}</i>(A::<b>Union(SubArray{S,N,A<:DenseArray{T,N},I<:(Union(Int64,Range{Int64})...,)},DenseArray{S,N})</b>,B::<b>Union(DenseArray{T,N},SubArray{T,N,A<:DenseArray{T,N},I<:(Union(Int64,Range{Int64})...,)})</b>) at <a href=\"https://github.com/JuliaLang/julia/tree/af187c5ac5bfc5059feff71477c28f1f2256a153/base/array.jl#L723\" target=\"_blank\">array.jl:723</a><li> +<i>{T<:Union(Int32,Int16,Int8)}</i>(x::<b>T<:Union(Int32,Int16,Int8)</b>,y::<b>T<:Union(Int32,Int16,Int8)</b>) at <a href=\"https://github.com/JuliaLang/julia/tree/af187c5ac5bfc5059feff71477c28f1f2256a153/base/int.jl#L16\" target=\"_blank\">int.jl:16</a><li> +<i>{T<:Union(Uint8,Uint16,Uint32)}</i>(x::<b>T<:Union(Uint8,Uint16,Uint32)</b>,y::<b>T<:Union(Uint8,Uint16,Uint32)</b>) at <a href=\"https://github.com/JuliaLang/julia/tree/af187c5ac5bfc5059feff71477c28f1f2256a153/base/int.jl#L20\" target=\"_blank\">int.jl:20</a><li> +(x::<b>Int64</b>,y::<b>Int64</b>) at <a href=\"https://github.com/JuliaLang/julia/tree/af187c5ac5bfc5059feff71477c28f1f2256a153/base/int.jl#L33\" target=\"_blank\">int.jl:33</a><li> +(x::<b>Uint64</b>,y::<b>Uint64</b>) at <a href=\"https://github.com/JuliaLang/julia/tree/af187c5ac5bfc5059feff71477c28f1f2256a153/base/int.jl#L34\" target=\"_blank\">int.jl:34</a><li> +(x::<b>Int128</b>,y::<b>Int128</b>) at <a href=\"https://github.com/JuliaLang/julia/tree/af187c5ac5bfc5059feff71477c28f1f2256a153/base/int.jl#L35\" target=\"_blank\">int.jl:35</a><li> +(x::<b>Uint128</b>,y::<b>Uint128</b>) at <a href=\"https://github.com/JuliaLang/julia/tree/af187c5ac5bfc5059feff71477c28f1f2256a153/base/int.jl#L36\" target=\"_blank\">int.jl:36</a><li> +(x::<b>Float32</b>,y::<b>Float32</b>) at <a href=\"https://github.com/JuliaLang/julia/tree/af187c5ac5bfc5059feff71477c28f1f2256a153/base/float.jl#L119\" target=\"_blank\">float.jl:119</a><li> +(x::<b>Float64</b>,y::<b>Float64</b>) at <a href=\"https://github.com/JuliaLang/julia/tree/af187c5ac5bfc5059feff71477c28f1f2256a153/base/float.jl#L120\" target=\"_blank\">float.jl:120</a><li> +(z::<b>Complex{T<:Real}</b>,w::<b>Complex{T<:Real}</b>) at <a href=\"https://github.com/JuliaLang/julia/tree/af187c5ac5bfc5059feff71477c28f1f2256a153/base/complex.jl#L110\" target=\"_blank\">complex.jl:110</a><li> +(x::<b>Real</b>,z::<b>Complex{T<:Real}</b>) at <a href=\"https://github.com/JuliaLang/julia/tree/af187c5ac5bfc5059feff71477c28f1f2256a153/base/complex.jl#L120\" target=\"_blank\">complex.jl:120</a><li> +(z::<b>Complex{T<:Real}</b>,x::<b>Real</b>) at <a href=\"https://github.com/JuliaLang/julia/tree/af187c5ac5bfc5059feff71477c28f1f2256a153/base/complex.jl#L121\" target=\"_blank\">complex.jl:121</a><li> +(x::<b>Rational{T<:Integer}</b>,y::<b>Rational{T<:Integer}</b>) at <a href=\"https://github.com/JuliaLang/julia/tree/af187c5ac5bfc5059feff71477c28f1f2256a153/base/rational.jl#L113\" target=\"_blank\">rational.jl:113</a><li> +(x::<b>Char</b>,y::<b>Char</b>) at <a href=\"https://github.com/JuliaLang/julia/tree/af187c5ac5bfc5059feff71477c28f1f2256a153/base/char.jl#L23\" target=\"_blank\">char.jl:23</a><li> +(x::<b>Char</b>,y::<b>Integer</b>) at <a href=\"https://github.com/JuliaLang/julia/tree/af187c5ac5bfc5059feff71477c28f1f2256a153/base/char.jl#L26\" target=\"_blank\">char.jl:26</a><li> +(x::<b>Integer</b>,y::<b>Char</b>) at <a href=\"https://github.com/JuliaLang/julia/tree/af187c5ac5bfc5059feff71477c28f1f2256a153/base/char.jl#L27\" target=\"_blank\">char.jl:27</a><li> +(a::<b>Float16</b>,b::<b>Float16</b>) at <a href=\"https://github.com/JuliaLang/julia/tree/af187c5ac5bfc5059feff71477c28f1f2256a153/base/float16.jl#L132\" target=\"_blank\">float16.jl:132</a><li> +(x::<b>BigInt</b>,y::<b>BigInt</b>) at <a href=\"https://github.com/JuliaLang/julia/tree/af187c5ac5bfc5059feff71477c28f1f2256a153/base/gmp.jl#L195\" target=\"_blank\">gmp.jl:195</a><li> +(a::<b>BigInt</b>,b::<b>BigInt</b>,c::<b>BigInt</b>) at <a href=\"https://github.com/JuliaLang/julia/tree/af187c5ac5bfc5059feff71477c28f1f2256a153/base/gmp.jl#L218\" target=\"_blank\">gmp.jl:218</a><li> +(a::<b>BigInt</b>,b::<b>BigInt</b>,c::<b>BigInt</b>,d::<b>BigInt</b>) at <a href=\"https://github.com/JuliaLang/julia/tree/af187c5ac5bfc5059feff71477c28f1f2256a153/base/gmp.jl#L224\" target=\"_blank\">gmp.jl:224</a><li> +(a::<b>BigInt</b>,b::<b>BigInt</b>,c::<b>BigInt</b>,d::<b>BigInt</b>,e::<b>BigInt</b>) at <a href=\"https://github.com/JuliaLang/julia/tree/af187c5ac5bfc5059feff71477c28f1f2256a153/base/gmp.jl#L231\" target=\"_blank\">gmp.jl:231</a><li> +(x::<b>BigInt</b>,c::<b>Union(Uint8,Uint16,Uint64,Uint32)</b>) at <a href=\"https://github.com/JuliaLang/julia/tree/af187c5ac5bfc5059feff71477c28f1f2256a153/base/gmp.jl#L243\" target=\"_blank\">gmp.jl:243</a><li> +(c::<b>Union(Uint8,Uint16,Uint64,Uint32)</b>,x::<b>BigInt</b>) at <a href=\"https://github.com/JuliaLang/julia/tree/af187c5ac5bfc5059feff71477c28f1f2256a153/base/gmp.jl#L247\" target=\"_blank\">gmp.jl:247</a><li> +(x::<b>BigInt</b>,c::<b>Union(Int64,Int32,Int16,Int8)</b>) at <a href=\"https://github.com/JuliaLang/julia/tree/af187c5ac5bfc5059feff71477c28f1f2256a153/base/gmp.jl#L259\" target=\"_blank\">gmp.jl:259</a><li> +(c::<b>Union(Int64,Int32,Int16,Int8)</b>,x::<b>BigInt</b>) at <a href=\"https://github.com/JuliaLang/julia/tree/af187c5ac5bfc5059feff71477c28f1f2256a153/base/gmp.jl#L260\" target=\"_blank\">gmp.jl:260</a><li> +(x::<b>BigFloat</b>,y::<b>BigFloat</b>) at <a href=\"https://github.com/JuliaLang/julia/tree/af187c5ac5bfc5059feff71477c28f1f2256a153/base/mpfr.jl#L149\" target=\"_blank\">mpfr.jl:149</a><li> +(x::<b>BigFloat</b>,c::<b>Union(Uint8,Uint16,Uint64,Uint32)</b>) at <a href=\"https://github.com/JuliaLang/julia/tree/af187c5ac5bfc5059feff71477c28f1f2256a153/base/mpfr.jl#L156\" target=\"_blank\">mpfr.jl:156</a><li> +(c::<b>Union(Uint8,Uint16,Uint64,Uint32)</b>,x::<b>BigFloat</b>) at <a href=\"https://github.com/JuliaLang/julia/tree/af187c5ac5bfc5059feff71477c28f1f2256a153/base/mpfr.jl#L160\" target=\"_blank\">mpfr.jl:160</a><li> +(x::<b>BigFloat</b>,c::<b>Union(Int64,Int32,Int16,Int8)</b>) at <a href=\"https://github.com/JuliaLang/julia/tree/af187c5ac5bfc5059feff71477c28f1f2256a153/base/mpfr.jl#L164\" target=\"_blank\">mpfr.jl:164</a><li> +(c::<b>Union(Int64,Int32,Int16,Int8)</b>,x::<b>BigFloat</b>) at <a href=\"https://github.com/JuliaLang/julia/tree/af187c5ac5bfc5059feff71477c28f1f2256a153/base/mpfr.jl#L168\" target=\"_blank\">mpfr.jl:168</a><li> +(x::<b>BigFloat</b>,c::<b>Union(Float16,Float32,Float64)</b>) at <a href=\"https://github.com/JuliaLang/julia/tree/af187c5ac5bfc5059feff71477c28f1f2256a153/base/mpfr.jl#L172\" target=\"_blank\">mpfr.jl:172</a><li> +(c::<b>Union(Float16,Float32,Float64)</b>,x::<b>BigFloat</b>) at <a href=\"https://github.com/JuliaLang/julia/tree/af187c5ac5bfc5059feff71477c28f1f2256a153/base/mpfr.jl#L176\" target=\"_blank\">mpfr.jl:176</a><li> +(x::<b>BigFloat</b>,c::<b>BigInt</b>) at <a href=\"https://github.com/JuliaLang/julia/tree/af187c5ac5bfc5059feff71477c28f1f2256a153/base/mpfr.jl#L180\" target=\"_blank\">mpfr.jl:180</a><li> +(c::<b>BigInt</b>,x::<b>BigFloat</b>) at <a href=\"https://github.com/JuliaLang/julia/tree/af187c5ac5bfc5059feff71477c28f1f2256a153/base/mpfr.jl#L184\" target=\"_blank\">mpfr.jl:184</a><li> +(a::<b>BigFloat</b>,b::<b>BigFloat</b>,c::<b>BigFloat</b>) at <a href=\"https://github.com/JuliaLang/julia/tree/af187c5ac5bfc5059feff71477c28f1f2256a153/base/mpfr.jl#L255\" target=\"_blank\">mpfr.jl:255</a><li> +(a::<b>BigFloat</b>,b::<b>BigFloat</b>,c::<b>BigFloat</b>,d::<b>BigFloat</b>) at <a href=\"https://github.com/JuliaLang/julia/tree/af187c5ac5bfc5059feff71477c28f1f2256a153/base/mpfr.jl#L261\" target=\"_blank\">mpfr.jl:261</a><li> +(a::<b>BigFloat</b>,b::<b>BigFloat</b>,c::<b>BigFloat</b>,d::<b>BigFloat</b>,e::<b>BigFloat</b>) at <a href=\"https://github.com/JuliaLang/julia/tree/af187c5ac5bfc5059feff71477c28f1f2256a153/base/mpfr.jl#L268\" target=\"_blank\">mpfr.jl:268</a><li> +(x::<b>MathConst{sym}</b>,y::<b>MathConst{sym}</b>) at <a href=\"https://github.com/JuliaLang/julia/tree/af187c5ac5bfc5059feff71477c28f1f2256a153/base/constants.jl#L23\" target=\"_blank\">constants.jl:23</a><li> +<i>{T<:Number}</i>(x::<b>T<:Number</b>,y::<b>T<:Number</b>) at <a href=\"https://github.com/JuliaLang/julia/tree/af187c5ac5bfc5059feff71477c28f1f2256a153/base/promotion.jl#L188\" target=\"_blank\">promotion.jl:188</a><li> +<i>{T<:FloatingPoint}</i>(x::<b>Bool</b>,y::<b>T<:FloatingPoint</b>) at <a href=\"https://github.com/JuliaLang/julia/tree/af187c5ac5bfc5059feff71477c28f1f2256a153/base/bool.jl#L46\" target=\"_blank\">bool.jl:46</a><li> +(x::<b>Number</b>,y::<b>Number</b>) at <a href=\"https://github.com/JuliaLang/julia/tree/af187c5ac5bfc5059feff71477c28f1f2256a153/base/promotion.jl#L158\" target=\"_blank\">promotion.jl:158</a><li> +(x::<b>Integer</b>,y::<b>Ptr{T}</b>) at <a href=\"https://github.com/JuliaLang/julia/tree/af187c5ac5bfc5059feff71477c28f1f2256a153/base/pointer.jl#L68\" target=\"_blank\">pointer.jl:68</a><li> +(x::<b>Bool</b>,A::<b>AbstractArray{Bool,N}</b>) at <a href=\"https://github.com/JuliaLang/julia/tree/af187c5ac5bfc5059feff71477c28f1f2256a153/base/array.jl#L771\" target=\"_blank\">array.jl:771</a><li> +(x::<b>Number</b>) at <a href=\"https://github.com/JuliaLang/julia/tree/af187c5ac5bfc5059feff71477c28f1f2256a153/base/operators.jl#L71\" target=\"_blank\">operators.jl:71</a><li> +(r1::<b>OrdinalRange{T,S}</b>,r2::<b>OrdinalRange{T,S}</b>) at <a href=\"https://github.com/JuliaLang/julia/tree/af187c5ac5bfc5059feff71477c28f1f2256a153/base/operators.jl#L325\" target=\"_blank\">operators.jl:325</a><li> +<i>{T<:FloatingPoint}</i>(r1::<b>FloatRange{T<:FloatingPoint}</b>,r2::<b>FloatRange{T<:FloatingPoint}</b>) at <a href=\"https://github.com/JuliaLang/julia/tree/af187c5ac5bfc5059feff71477c28f1f2256a153/base/operators.jl#L331\" target=\"_blank\">operators.jl:331</a><li> +(r1::<b>FloatRange{T<:FloatingPoint}</b>,r2::<b>FloatRange{T<:FloatingPoint}</b>) at <a href=\"https://github.com/JuliaLang/julia/tree/af187c5ac5bfc5059feff71477c28f1f2256a153/base/operators.jl#L348\" target=\"_blank\">operators.jl:348</a><li> +(r1::<b>FloatRange{T<:FloatingPoint}</b>,r2::<b>OrdinalRange{T,S}</b>) at <a href=\"https://github.com/JuliaLang/julia/tree/af187c5ac5bfc5059feff71477c28f1f2256a153/base/operators.jl#L349\" target=\"_blank\">operators.jl:349</a><li> +(r1::<b>OrdinalRange{T,S}</b>,r2::<b>FloatRange{T<:FloatingPoint}</b>) at <a href=\"https://github.com/JuliaLang/julia/tree/af187c5ac5bfc5059feff71477c28f1f2256a153/base/operators.jl#L350\" target=\"_blank\">operators.jl:350</a><li> +(x::<b>Ptr{T}</b>,y::<b>Integer</b>) at <a href=\"https://github.com/JuliaLang/julia/tree/af187c5ac5bfc5059feff71477c28f1f2256a153/base/pointer.jl#L66\" target=\"_blank\">pointer.jl:66</a><li> +<i>{S,T<:Real}</i>(A::<b>Union(SubArray{S,N,A<:DenseArray{T,N},I<:(Union(Int64,Range{Int64})...,)},DenseArray{S,N})</b>,B::<b>Range{T<:Real}</b>) at <a href=\"https://github.com/JuliaLang/julia/tree/af187c5ac5bfc5059feff71477c28f1f2256a153/base/array.jl#L731\" target=\"_blank\">array.jl:731</a><li> +<i>{S<:Real,T}</i>(A::<b>Range{S<:Real}</b>,B::<b>Union(DenseArray{T,N},SubArray{T,N,A<:DenseArray{T,N},I<:(Union(Int64,Range{Int64})...,)})</b>) at <a href=\"https://github.com/JuliaLang/julia/tree/af187c5ac5bfc5059feff71477c28f1f2256a153/base/array.jl#L740\" target=\"_blank\">array.jl:740</a><li> +(A::<b>AbstractArray{Bool,N}</b>,x::<b>Bool</b>) at <a href=\"https://github.com/JuliaLang/julia/tree/af187c5ac5bfc5059feff71477c28f1f2256a153/base/array.jl#L770\" target=\"_blank\">array.jl:770</a><li> +<i>{Tv,Ti}</i>(A::<b>SparseMatrixCSC{Tv,Ti}</b>,B::<b>SparseMatrixCSC{Tv,Ti}</b>) at <a href=\"https://github.com/JuliaLang/julia/tree/af187c5ac5bfc5059feff71477c28f1f2256a153/base/sparse/sparsematrix.jl#L552\" target=\"_blank\">sparse/sparsematrix.jl:552</a><li> +<i>{TvA,TiA,TvB,TiB}</i>(A::<b>SparseMatrixCSC{TvA,TiA}</b>,B::<b>SparseMatrixCSC{TvB,TiB}</b>) at <a href=\"https://github.com/JuliaLang/julia/tree/af187c5ac5bfc5059feff71477c28f1f2256a153/base/sparse/sparsematrix.jl#L544\" target=\"_blank\">sparse/sparsematrix.jl:544</a><li> +(A::<b>SparseMatrixCSC{Tv,Ti<:Integer}</b>,B::<b>Array{T,N}</b>) at <a href=\"https://github.com/JuliaLang/julia/tree/af187c5ac5bfc5059feff71477c28f1f2256a153/base/sparse/sparsematrix.jl#L643\" target=\"_blank\">sparse/sparsematrix.jl:643</a><li> +(A::<b>Array{T,N}</b>,B::<b>SparseMatrixCSC{Tv,Ti<:Integer}</b>) at <a href=\"https://github.com/JuliaLang/julia/tree/af187c5ac5bfc5059feff71477c28f1f2256a153/base/sparse/sparsematrix.jl#L645\" target=\"_blank\">sparse/sparsematrix.jl:645</a><li> +(A::<b>SymTridiagonal{T}</b>,B::<b>SymTridiagonal{T}</b>) at <a href=\"https://github.com/JuliaLang/julia/tree/af187c5ac5bfc5059feff71477c28f1f2256a153/base/linalg/tridiag.jl#L57\" target=\"_blank\">linalg/tridiag.jl:57</a><li> +(A::<b>Tridiagonal{T}</b>,B::<b>Tridiagonal{T}</b>) at <a href=\"https://github.com/JuliaLang/julia/tree/af187c5ac5bfc5059feff71477c28f1f2256a153/base/linalg/tridiag.jl#L247\" target=\"_blank\">linalg/tridiag.jl:247</a><li> +(A::<b>Tridiagonal{T}</b>,B::<b>SymTridiagonal{T}</b>) at <a href=\"https://github.com/JuliaLang/julia/tree/af187c5ac5bfc5059feff71477c28f1f2256a153/base/linalg/special.jl#L99\" target=\"_blank\">linalg/special.jl:99</a><li> +(A::<b>SymTridiagonal{T}</b>,B::<b>Tridiagonal{T}</b>) at <a href=\"https://github.com/JuliaLang/julia/tree/af187c5ac5bfc5059feff71477c28f1f2256a153/base/linalg/special.jl#L98\" target=\"_blank\">linalg/special.jl:98</a><li> +<i>{T,MT,uplo}</i>(A::<b>Triangular{T,MT,uplo,IsUnit}</b>,B::<b>Triangular{T,MT,uplo,IsUnit}</b>) at <a href=\"https://github.com/JuliaLang/julia/tree/af187c5ac5bfc5059feff71477c28f1f2256a153/base/linalg/triangular.jl#L11\" target=\"_blank\">linalg/triangular.jl:11</a><li> +<i>{T,MT,uplo1,uplo2}</i>(A::<b>Triangular{T,MT,uplo1,IsUnit}</b>,B::<b>Triangular{T,MT,uplo2,IsUnit}</b>) at <a href=\"https://github.com/JuliaLang/julia/tree/af187c5ac5bfc5059feff71477c28f1f2256a153/base/linalg/triangular.jl#L12\" target=\"_blank\">linalg/triangular.jl:12</a><li> +(Da::<b>Diagonal{T}</b>,Db::<b>Diagonal{T}</b>) at <a href=\"https://github.com/JuliaLang/julia/tree/af187c5ac5bfc5059feff71477c28f1f2256a153/base/linalg/diagonal.jl#L47\" target=\"_blank\">linalg/diagonal.jl:47</a><li> +(A::<b>Bidiagonal{T}</b>,B::<b>Bidiagonal{T}</b>) at <a href=\"https://github.com/JuliaLang/julia/tree/af187c5ac5bfc5059feff71477c28f1f2256a153/base/linalg/bidiag.jl#L92\" target=\"_blank\">linalg/bidiag.jl:92</a><li> +<i>{T}</i>(B::<b>BitArray{2}</b>,J::<b>UniformScaling{T}</b>) at <a href=\"https://github.com/JuliaLang/julia/tree/af187c5ac5bfc5059feff71477c28f1f2256a153/base/linalg/uniformscaling.jl#L26\" target=\"_blank\">linalg/uniformscaling.jl:26</a><li> +(A::<b>Diagonal{T}</b>,B::<b>Bidiagonal{T}</b>) at <a href=\"https://github.com/JuliaLang/julia/tree/af187c5ac5bfc5059feff71477c28f1f2256a153/base/linalg/special.jl#L89\" target=\"_blank\">linalg/special.jl:89</a><li> +(A::<b>Bidiagonal{T}</b>,B::<b>Diagonal{T}</b>) at <a href=\"https://github.com/JuliaLang/julia/tree/af187c5ac5bfc5059feff71477c28f1f2256a153/base/linalg/special.jl#L90\" target=\"_blank\">linalg/special.jl:90</a><li> +(A::<b>Diagonal{T}</b>,B::<b>Tridiagonal{T}</b>) at <a href=\"https://github.com/JuliaLang/julia/tree/af187c5ac5bfc5059feff71477c28f1f2256a153/base/linalg/special.jl#L89\" target=\"_blank\">linalg/special.jl:89</a><li> +(A::<b>Tridiagonal{T}</b>,B::<b>Diagonal{T}</b>) at <a href=\"https://github.com/JuliaLang/julia/tree/af187c5ac5bfc5059feff71477c28f1f2256a153/base/linalg/special.jl#L90\" target=\"_blank\">linalg/special.jl:90</a><li> +(A::<b>Diagonal{T}</b>,B::<b>Triangular{T,S<:AbstractArray{T,2},UpLo,IsUnit}</b>) at <a href=\"https://github.com/JuliaLang/julia/tree/af187c5ac5bfc5059feff71477c28f1f2256a153/base/linalg/special.jl#L89\" target=\"_blank\">linalg/special.jl:89</a><li> +(A::<b>Triangular{T,S<:AbstractArray{T,2},UpLo,IsUnit}</b>,B::<b>Diagonal{T}</b>) at <a href=\"https://github.com/JuliaLang/julia/tree/af187c5ac5bfc5059feff71477c28f1f2256a153/base/linalg/special.jl#L90\" target=\"_blank\">linalg/special.jl:90</a><li> +(A::<b>Diagonal{T}</b>,B::<b>Array{T,2}</b>) at <a href=\"https://github.com/JuliaLang/julia/tree/af187c5ac5bfc5059feff71477c28f1f2256a153/base/linalg/special.jl#L89\" target=\"_blank\">linalg/special.jl:89</a><li> +(A::<b>Array{T,2}</b>,B::<b>Diagonal{T}</b>) at <a href=\"https://github.com/JuliaLang/julia/tree/af187c5ac5bfc5059feff71477c28f1f2256a153/base/linalg/special.jl#L90\" target=\"_blank\">linalg/special.jl:90</a><li> +(A::<b>Bidiagonal{T}</b>,B::<b>Tridiagonal{T}</b>) at <a href=\"https://github.com/JuliaLang/julia/tree/af187c5ac5bfc5059feff71477c28f1f2256a153/base/linalg/special.jl#L89\" target=\"_blank\">linalg/special.jl:89</a><li> +(A::<b>Tridiagonal{T}</b>,B::<b>Bidiagonal{T}</b>) at <a href=\"https://github.com/JuliaLang/julia/tree/af187c5ac5bfc5059feff71477c28f1f2256a153/base/linalg/special.jl#L90\" target=\"_blank\">linalg/special.jl:90</a><li> +(A::<b>Bidiagonal{T}</b>,B::<b>Triangular{T,S<:AbstractArray{T,2},UpLo,IsUnit}</b>) at <a href=\"https://github.com/JuliaLang/julia/tree/af187c5ac5bfc5059feff71477c28f1f2256a153/base/linalg/special.jl#L89\" target=\"_blank\">linalg/special.jl:89</a><li> +(A::<b>Triangular{T,S<:AbstractArray{T,2},UpLo,IsUnit}</b>,B::<b>Bidiagonal{T}</b>) at <a href=\"https://github.com/JuliaLang/julia/tree/af187c5ac5bfc5059feff71477c28f1f2256a153/base/linalg/special.jl#L90\" target=\"_blank\">linalg/special.jl:90</a><li> +(A::<b>Bidiagonal{T}</b>,B::<b>Array{T,2}</b>) at <a href=\"https://github.com/JuliaLang/julia/tree/af187c5ac5bfc5059feff71477c28f1f2256a153/base/linalg/special.jl#L89\" target=\"_blank\">linalg/special.jl:89</a><li> +(A::<b>Array{T,2}</b>,B::<b>Bidiagonal{T}</b>) at <a href=\"https://github.com/JuliaLang/julia/tree/af187c5ac5bfc5059feff71477c28f1f2256a153/base/linalg/special.jl#L90\" target=\"_blank\">linalg/special.jl:90</a><li> +(A::<b>Tridiagonal{T}</b>,B::<b>Triangular{T,S<:AbstractArray{T,2},UpLo,IsUnit}</b>) at <a href=\"https://github.com/JuliaLang/julia/tree/af187c5ac5bfc5059feff71477c28f1f2256a153/base/linalg/special.jl#L89\" target=\"_blank\">linalg/special.jl:89</a><li> +(A::<b>Triangular{T,S<:AbstractArray{T,2},UpLo,IsUnit}</b>,B::<b>Tridiagonal{T}</b>) at <a href=\"https://github.com/JuliaLang/julia/tree/af187c5ac5bfc5059feff71477c28f1f2256a153/base/linalg/special.jl#L90\" target=\"_blank\">linalg/special.jl:90</a><li> +(A::<b>Tridiagonal{T}</b>,B::<b>Array{T,2}</b>) at <a href=\"https://github.com/JuliaLang/julia/tree/af187c5ac5bfc5059feff71477c28f1f2256a153/base/linalg/special.jl#L89\" target=\"_blank\">linalg/special.jl:89</a><li> +(A::<b>Array{T,2}</b>,B::<b>Tridiagonal{T}</b>) at <a href=\"https://github.com/JuliaLang/julia/tree/af187c5ac5bfc5059feff71477c28f1f2256a153/base/linalg/special.jl#L90\" target=\"_blank\">linalg/special.jl:90</a><li> +(A::<b>Triangular{T,S<:AbstractArray{T,2},UpLo,IsUnit}</b>,B::<b>Array{T,2}</b>) at <a href=\"https://github.com/JuliaLang/julia/tree/af187c5ac5bfc5059feff71477c28f1f2256a153/base/linalg/special.jl#L89\" target=\"_blank\">linalg/special.jl:89</a><li> +(A::<b>Array{T,2}</b>,B::<b>Triangular{T,S<:AbstractArray{T,2},UpLo,IsUnit}</b>) at <a href=\"https://github.com/JuliaLang/julia/tree/af187c5ac5bfc5059feff71477c28f1f2256a153/base/linalg/special.jl#L90\" target=\"_blank\">linalg/special.jl:90</a><li> +(A::<b>SymTridiagonal{T}</b>,B::<b>Triangular{T,S<:AbstractArray{T,2},UpLo,IsUnit}</b>) at <a href=\"https://github.com/JuliaLang/julia/tree/af187c5ac5bfc5059feff71477c28f1f2256a153/base/linalg/special.jl#L98\" target=\"_blank\">linalg/special.jl:98</a><li> +(A::<b>Triangular{T,S<:AbstractArray{T,2},UpLo,IsUnit}</b>,B::<b>SymTridiagonal{T}</b>) at <a href=\"https://github.com/JuliaLang/julia/tree/af187c5ac5bfc5059feff71477c28f1f2256a153/base/linalg/special.jl#L99\" target=\"_blank\">linalg/special.jl:99</a><li> +(A::<b>SymTridiagonal{T}</b>,B::<b>Array{T,2}</b>) at <a href=\"https://github.com/JuliaLang/julia/tree/af187c5ac5bfc5059feff71477c28f1f2256a153/base/linalg/special.jl#L98\" target=\"_blank\">linalg/special.jl:98</a><li> +(A::<b>Array{T,2}</b>,B::<b>SymTridiagonal{T}</b>) at <a href=\"https://github.com/JuliaLang/julia/tree/af187c5ac5bfc5059feff71477c28f1f2256a153/base/linalg/special.jl#L99\" target=\"_blank\">linalg/special.jl:99</a><li> +(A::<b>Diagonal{T}</b>,B::<b>SymTridiagonal{T}</b>) at <a href=\"https://github.com/JuliaLang/julia/tree/af187c5ac5bfc5059feff71477c28f1f2256a153/base/linalg/special.jl#L107\" target=\"_blank\">linalg/special.jl:107</a><li> +(A::<b>SymTridiagonal{T}</b>,B::<b>Diagonal{T}</b>) at <a href=\"https://github.com/JuliaLang/julia/tree/af187c5ac5bfc5059feff71477c28f1f2256a153/base/linalg/special.jl#L108\" target=\"_blank\">linalg/special.jl:108</a><li> +(A::<b>Bidiagonal{T}</b>,B::<b>SymTridiagonal{T}</b>) at <a href=\"https://github.com/JuliaLang/julia/tree/af187c5ac5bfc5059feff71477c28f1f2256a153/base/linalg/special.jl#L107\" target=\"_blank\">linalg/special.jl:107</a><li> +(A::<b>SymTridiagonal{T}</b>,B::<b>Bidiagonal{T}</b>) at <a href=\"https://github.com/JuliaLang/julia/tree/af187c5ac5bfc5059feff71477c28f1f2256a153/base/linalg/special.jl#L108\" target=\"_blank\">linalg/special.jl:108</a><li> +<i>{T<:Number}</i>(x::<b>AbstractArray{T<:Number,N}</b>) at <a href=\"https://github.com/JuliaLang/julia/tree/af187c5ac5bfc5059feff71477c28f1f2256a153/base/abstractarray.jl#L362\" target=\"_blank\">abstractarray.jl:362</a><li> +(A::<b>AbstractArray{T,N}</b>,x::<b>Number</b>) at <a href=\"https://github.com/JuliaLang/julia/tree/af187c5ac5bfc5059feff71477c28f1f2256a153/base/array.jl#L774\" target=\"_blank\">array.jl:774</a><li> +(x::<b>Number</b>,A::<b>AbstractArray{T,N}</b>) at <a href=\"https://github.com/JuliaLang/julia/tree/af187c5ac5bfc5059feff71477c28f1f2256a153/base/array.jl#L775\" target=\"_blank\">array.jl:775</a><li> +(J1::<b>UniformScaling{T<:Number}</b>,J2::<b>UniformScaling{T<:Number}</b>) at <a href=\"https://github.com/JuliaLang/julia/tree/af187c5ac5bfc5059feff71477c28f1f2256a153/base/linalg/uniformscaling.jl#L25\" target=\"_blank\">linalg/uniformscaling.jl:25</a><li> +(J::<b>UniformScaling{T<:Number}</b>,B::<b>BitArray{2}</b>) at <a href=\"https://github.com/JuliaLang/julia/tree/af187c5ac5bfc5059feff71477c28f1f2256a153/base/linalg/uniformscaling.jl#L27\" target=\"_blank\">linalg/uniformscaling.jl:27</a><li> +(J::<b>UniformScaling{T<:Number}</b>,A::<b>AbstractArray{T,2}</b>) at <a href=\"https://github.com/JuliaLang/julia/tree/af187c5ac5bfc5059feff71477c28f1f2256a153/base/linalg/uniformscaling.jl#L28\" target=\"_blank\">linalg/uniformscaling.jl:28</a><li> +(J::<b>UniformScaling{T<:Number}</b>,x::<b>Number</b>) at <a href=\"https://github.com/JuliaLang/julia/tree/af187c5ac5bfc5059feff71477c28f1f2256a153/base/linalg/uniformscaling.jl#L29\" target=\"_blank\">linalg/uniformscaling.jl:29</a><li> +(x::<b>Number</b>,J::<b>UniformScaling{T<:Number}</b>) at <a href=\"https://github.com/JuliaLang/julia/tree/af187c5ac5bfc5059feff71477c28f1f2256a153/base/linalg/uniformscaling.jl#L30\" target=\"_blank\">linalg/uniformscaling.jl:30</a><li> +<i>{TA,TJ}</i>(A::<b>AbstractArray{TA,2}</b>,J::<b>UniformScaling{TJ}</b>) at <a href=\"https://github.com/JuliaLang/julia/tree/af187c5ac5bfc5059feff71477c28f1f2256a153/base/linalg/uniformscaling.jl#L33\" target=\"_blank\">linalg/uniformscaling.jl:33</a><li> +<i>{T}</i>(a::<b>HierarchicalValue{T}</b>,b::<b>HierarchicalValue{T}</b>) at <a href=\"https://github.com/JuliaLang/julia/tree/af187c5ac5bfc5059feff71477c28f1f2256a153/base/pkg/resolve/versionweight.jl#L19\" target=\"_blank\">pkg/resolve/versionweight.jl:19</a><li> +(a::<b>VWPreBuildItem</b>,b::<b>VWPreBuildItem</b>) at <a href=\"https://github.com/JuliaLang/julia/tree/af187c5ac5bfc5059feff71477c28f1f2256a153/base/pkg/resolve/versionweight.jl#L82\" target=\"_blank\">pkg/resolve/versionweight.jl:82</a><li> +(a::<b>VWPreBuild</b>,b::<b>VWPreBuild</b>) at <a href=\"https://github.com/JuliaLang/julia/tree/af187c5ac5bfc5059feff71477c28f1f2256a153/base/pkg/resolve/versionweight.jl#L120\" target=\"_blank\">pkg/resolve/versionweight.jl:120</a><li> +(a::<b>VersionWeight</b>,b::<b>VersionWeight</b>) at <a href=\"https://github.com/JuliaLang/julia/tree/af187c5ac5bfc5059feff71477c28f1f2256a153/base/pkg/resolve/versionweight.jl#L164\" target=\"_blank\">pkg/resolve/versionweight.jl:164</a><li> +(a::<b>FieldValue</b>,b::<b>FieldValue</b>) at <a href=\"https://github.com/JuliaLang/julia/tree/af187c5ac5bfc5059feff71477c28f1f2256a153/base/pkg/resolve/fieldvalue.jl#L41\" target=\"_blank\">pkg/resolve/fieldvalue.jl:41</a><li> +(a::<b>Vec2</b>,b::<b>Vec2</b>) at <a href=\"https://github.com/JuliaLang/julia/tree/af187c5ac5bfc5059feff71477c28f1f2256a153/base/graphics.jl#L60\" target=\"_blank\">graphics.jl:60</a><li> +(bb1::<b>BoundingBox</b>,bb2::<b>BoundingBox</b>) at <a href=\"https://github.com/JuliaLang/julia/tree/af187c5ac5bfc5059feff71477c28f1f2256a153/base/graphics.jl#L123\" target=\"_blank\">graphics.jl:123</a><li> +(a,b,c) at <a href=\"https://github.com/JuliaLang/julia/tree/af187c5ac5bfc5059feff71477c28f1f2256a153/base/operators.jl#L82\" target=\"_blank\">operators.jl:82</a><li> +(a,b,c,xs...) at <a href=\"https://github.com/JuliaLang/julia/tree/af187c5ac5bfc5059feff71477c28f1f2256a153/base/operators.jl#L83\" target=\"_blank\">operators.jl:83</a></ul>"
       ],
       "metadata": {},
       "output_type": "pyout",
       "prompt_number": 44,
       "text": [
        "# 117 methods for generic function \"+\":\n",
        "+(x::Bool) at bool.jl:36\n",
        "+(x::Bool,y::Bool) at bool.jl:39\n",
        "+(y::FloatingPoint,x::Bool) at bool.jl:49\n",
        "+(A::BitArray{N},B::BitArray{N}) at bitarray.jl:848\n",
        "+(A::Union(DenseArray{Bool,N},SubArray{Bool,N,A<:DenseArray{T,N},I<:(Union(Int64,Range{Int64})...,)}),B::Union(DenseArray{Bool,N},SubArray{Bool,N,A<:DenseArray{T,N},I<:(Union(Int64,Range{Int64})...,)})) at array.jl:801\n",
        "+{S,T}(A::Union(SubArray{S,N,A<:DenseArray{T,N},I<:(Union(Int64,Range{Int64})...,)},DenseArray{S,N}),B::Union(DenseArray{T,N},SubArray{T,N,A<:DenseArray{T,N},I<:(Union(Int64,Range{Int64})...,)})) at array.jl:723\n",
        "+{T<:Union(Int32,Int16,Int8)}(x::T<:Union(Int32,Int16,Int8),y::T<:Union(Int32,Int16,Int8)) at int.jl:16\n",
        "+{T<:Union(Uint8,Uint16,Uint32)}(x::T<:Union(Uint8,Uint16,Uint32),y::T<:Union(Uint8,Uint16,Uint32)) at int.jl:20\n",
        "+(x::Int64,y::Int64) at int.jl:33\n",
        "+(x::Uint64,y::Uint64) at int.jl:34\n",
        "+(x::Int128,y::Int128) at int.jl:35\n",
        "+(x::Uint128,y::Uint128) at int.jl:36\n",
        "+(x::Float32,y::Float32) at float.jl:119\n",
        "+(x::Float64,y::Float64) at float.jl:120\n",
        "+(z::Complex{T<:Real},w::Complex{T<:Real}) at complex.jl:110\n",
        "+(x::Real,z::Complex{T<:Real}) at complex.jl:120\n",
        "+(z::Complex{T<:Real},x::Real) at complex.jl:121\n",
        "+(x::Rational{T<:Integer},y::Rational{T<:Integer}) at rational.jl:113\n",
        "+(x::Char,y::Char) at char.jl:23\n",
        "+(x::Char,y::Integer) at char.jl:26\n",
        "+(x::Integer,y::Char) at char.jl:27\n",
        "+(a::Float16,b::Float16) at float16.jl:132\n",
        "+(x::BigInt,y::BigInt) at gmp.jl:195\n",
        "+(a::BigInt,b::BigInt,c::BigInt) at gmp.jl:218\n",
        "+(a::BigInt,b::BigInt,c::BigInt,d::BigInt) at gmp.jl:224\n",
        "+(a::BigInt,b::BigInt,c::BigInt,d::BigInt,e::BigInt) at gmp.jl:231\n",
        "+(x::BigInt,c::Union(Uint8,Uint16,Uint64,Uint32)) at gmp.jl:243\n",
        "+(c::Union(Uint8,Uint16,Uint64,Uint32),x::BigInt) at gmp.jl:247\n",
        "+(x::BigInt,c::Union(Int64,Int32,Int16,Int8)) at gmp.jl:259\n",
        "+(c::Union(Int64,Int32,Int16,Int8),x::BigInt) at gmp.jl:260\n",
        "+(x::BigFloat,y::BigFloat) at mpfr.jl:149\n",
        "+(x::BigFloat,c::Union(Uint8,Uint16,Uint64,Uint32)) at mpfr.jl:156\n",
        "+(c::Union(Uint8,Uint16,Uint64,Uint32),x::BigFloat) at mpfr.jl:160\n",
        "+(x::BigFloat,c::Union(Int64,Int32,Int16,Int8)) at mpfr.jl:164\n",
        "+(c::Union(Int64,Int32,Int16,Int8),x::BigFloat) at mpfr.jl:168\n",
        "+(x::BigFloat,c::Union(Float16,Float32,Float64)) at mpfr.jl:172\n",
        "+(c::Union(Float16,Float32,Float64),x::BigFloat) at mpfr.jl:176\n",
        "+(x::BigFloat,c::BigInt) at mpfr.jl:180\n",
        "+(c::BigInt,x::BigFloat) at mpfr.jl:184\n",
        "+(a::BigFloat,b::BigFloat,c::BigFloat) at mpfr.jl:255\n",
        "+(a::BigFloat,b::BigFloat,c::BigFloat,d::BigFloat) at mpfr.jl:261\n",
        "+(a::BigFloat,b::BigFloat,c::BigFloat,d::BigFloat,e::BigFloat) at mpfr.jl:268\n",
        "+(x::MathConst{sym},y::MathConst{sym}) at constants.jl:23\n",
        "+{T<:Number}(x::T<:Number,y::T<:Number) at promotion.jl:188\n",
        "+{T<:FloatingPoint}(x::Bool,y::T<:FloatingPoint) at bool.jl:46\n",
        "+(x::Number,y::Number) at promotion.jl:158\n",
        "+(x::Integer,y::Ptr{T}) at pointer.jl:68\n",
        "+(x::Bool,A::AbstractArray{Bool,N}) at array.jl:771\n",
        "+(x::Number) at operators.jl:71\n",
        "+(r1::OrdinalRange{T,S},r2::OrdinalRange{T,S}) at operators.jl:325\n",
        "+{T<:FloatingPoint}(r1::FloatRange{T<:FloatingPoint},r2::FloatRange{T<:FloatingPoint}) at operators.jl:331\n",
        "+(r1::FloatRange{T<:FloatingPoint},r2::FloatRange{T<:FloatingPoint}) at operators.jl:348\n",
        "+(r1::FloatRange{T<:FloatingPoint},r2::OrdinalRange{T,S}) at operators.jl:349\n",
        "+(r1::OrdinalRange{T,S},r2::FloatRange{T<:FloatingPoint}) at operators.jl:350\n",
        "+(x::Ptr{T},y::Integer) at pointer.jl:66\n",
        "+{S,T<:Real}(A::Union(SubArray{S,N,A<:DenseArray{T,N},I<:(Union(Int64,Range{Int64})...,)},DenseArray{S,N}),B::Range{T<:Real}) at array.jl:731\n",
        "+{S<:Real,T}(A::Range{S<:Real},B::Union(DenseArray{T,N},SubArray{T,N,A<:DenseArray{T,N},I<:(Union(Int64,Range{Int64})...,)})) at array.jl:740\n",
        "+(A::AbstractArray{Bool,N},x::Bool) at array.jl:770\n",
        "+{Tv,Ti}(A::SparseMatrixCSC{Tv,Ti},B::SparseMatrixCSC{Tv,Ti}) at sparse/sparsematrix.jl:552\n",
        "+{TvA,TiA,TvB,TiB}(A::SparseMatrixCSC{TvA,TiA},B::SparseMatrixCSC{TvB,TiB}) at sparse/sparsematrix.jl:544\n",
        "+(A::SparseMatrixCSC{Tv,Ti<:Integer},B::Array{T,N}) at sparse/sparsematrix.jl:643\n",
        "+(A::Array{T,N},B::SparseMatrixCSC{Tv,Ti<:Integer}) at sparse/sparsematrix.jl:645\n",
        "+(A::SymTridiagonal{T},B::SymTridiagonal{T}) at linalg/tridiag.jl:57\n",
        "+(A::Tridiagonal{T},B::Tridiagonal{T}) at linalg/tridiag.jl:247\n",
        "+(A::Tridiagonal{T},B::SymTridiagonal{T}) at linalg/special.jl:99\n",
        "+(A::SymTridiagonal{T},B::Tridiagonal{T}) at linalg/special.jl:98\n",
        "+{T,MT,uplo}(A::Triangular{T,MT,uplo,IsUnit},B::Triangular{T,MT,uplo,IsUnit}) at linalg/triangular.jl:11\n",
        "+{T,MT,uplo1,uplo2}(A::Triangular{T,MT,uplo1,IsUnit},B::Triangular{T,MT,uplo2,IsUnit}) at linalg/triangular.jl:12\n",
        "+(Da::Diagonal{T},Db::Diagonal{T}) at linalg/diagonal.jl:47\n",
        "+(A::Bidiagonal{T},B::Bidiagonal{T}) at linalg/bidiag.jl:92\n",
        "+{T}(B::BitArray{2},J::UniformScaling{T}) at linalg/uniformscaling.jl:26\n",
        "+(A::Diagonal{T},B::Bidiagonal{T}) at linalg/special.jl:89\n",
        "+(A::Bidiagonal{T},B::Diagonal{T}) at linalg/special.jl:90\n",
        "+(A::Diagonal{T},B::Tridiagonal{T}) at linalg/special.jl:89\n",
        "+(A::Tridiagonal{T},B::Diagonal{T}) at linalg/special.jl:90\n",
        "+(A::Diagonal{T},B::Triangular{T,S<:AbstractArray{T,2},UpLo,IsUnit}) at linalg/special.jl:89\n",
        "+(A::Triangular{T,S<:AbstractArray{T,2},UpLo,IsUnit},B::Diagonal{T}) at linalg/special.jl:90\n",
        "+(A::Diagonal{T},B::Array{T,2}) at linalg/special.jl:89\n",
        "+(A::Array{T,2},B::Diagonal{T}) at linalg/special.jl:90\n",
        "+(A::Bidiagonal{T},B::Tridiagonal{T}) at linalg/special.jl:89\n",
        "+(A::Tridiagonal{T},B::Bidiagonal{T}) at linalg/special.jl:90\n",
        "+(A::Bidiagonal{T},B::Triangular{T,S<:AbstractArray{T,2},UpLo,IsUnit}) at linalg/special.jl:89\n",
        "+(A::Triangular{T,S<:AbstractArray{T,2},UpLo,IsUnit},B::Bidiagonal{T}) at linalg/special.jl:90\n",
        "+(A::Bidiagonal{T},B::Array{T,2}) at linalg/special.jl:89\n",
        "+(A::Array{T,2},B::Bidiagonal{T}) at linalg/special.jl:90\n",
        "+(A::Tridiagonal{T},B::Triangular{T,S<:AbstractArray{T,2},UpLo,IsUnit}) at linalg/special.jl:89\n",
        "+(A::Triangular{T,S<:AbstractArray{T,2},UpLo,IsUnit},B::Tridiagonal{T}) at linalg/special.jl:90\n",
        "+(A::Tridiagonal{T},B::Array{T,2}) at linalg/special.jl:89\n",
        "+(A::Array{T,2},B::Tridiagonal{T}) at linalg/special.jl:90\n",
        "+(A::Triangular{T,S<:AbstractArray{T,2},UpLo,IsUnit},B::Array{T,2}) at linalg/special.jl:89\n",
        "+(A::Array{T,2},B::Triangular{T,S<:AbstractArray{T,2},UpLo,IsUnit}) at linalg/special.jl:90\n",
        "+(A::SymTridiagonal{T},B::Triangular{T,S<:AbstractArray{T,2},UpLo,IsUnit}) at linalg/special.jl:98\n",
        "+(A::Triangular{T,S<:AbstractArray{T,2},UpLo,IsUnit},B::SymTridiagonal{T}) at linalg/special.jl:99\n",
        "+(A::SymTridiagonal{T},B::Array{T,2}) at linalg/special.jl:98\n",
        "+(A::Array{T,2},B::SymTridiagonal{T}) at linalg/special.jl:99\n",
        "+(A::Diagonal{T},B::SymTridiagonal{T}) at linalg/special.jl:107\n",
        "+(A::SymTridiagonal{T},B::Diagonal{T}) at linalg/special.jl:108\n",
        "+(A::Bidiagonal{T},B::SymTridiagonal{T}) at linalg/special.jl:107\n",
        "+(A::SymTridiagonal{T},B::Bidiagonal{T}) at linalg/special.jl:108\n",
        "+{T<:Number}(x::AbstractArray{T<:Number,N}) at abstractarray.jl:362\n",
        "+(A::AbstractArray{T,N},x::Number) at array.jl:774\n",
        "+(x::Number,A::AbstractArray{T,N}) at array.jl:775\n",
        "+(J1::UniformScaling{T<:Number},J2::UniformScaling{T<:Number}) at linalg/uniformscaling.jl:25\n",
        "+(J::UniformScaling{T<:Number},B::BitArray{2}) at linalg/uniformscaling.jl:27\n",
        "+(J::UniformScaling{T<:Number},A::AbstractArray{T,2}) at linalg/uniformscaling.jl:28\n",
        "+(J::UniformScaling{T<:Number},x::Number) at linalg/uniformscaling.jl:29\n",
        "+(x::Number,J::UniformScaling{T<:Number}) at linalg/uniformscaling.jl:30\n",
        "+{TA,TJ}(A::AbstractArray{TA,2},J::UniformScaling{TJ}) at linalg/uniformscaling.jl:33\n",
        "+{T}(a::HierarchicalValue{T},b::HierarchicalValue{T}) at pkg/resolve/versionweight.jl:19\n",
        "+(a::VWPreBuildItem,b::VWPreBuildItem) at pkg/resolve/versionweight.jl:82\n",
        "+(a::VWPreBuild,b::VWPreBuild) at pkg/resolve/versionweight.jl:120\n",
        "+(a::VersionWeight,b::VersionWeight) at pkg/resolve/versionweight.jl:164\n",
        "+(a::FieldValue,b::FieldValue) at pkg/resolve/fieldvalue.jl:41\n",
        "+(a::Vec2,b::Vec2) at graphics.jl:60\n",
        "+(bb1::BoundingBox,bb2::BoundingBox) at graphics.jl:123\n",
        "+(a,b,c) at operators.jl:82\n",
        "+(a,b,c,xs...) at operators.jl:83"
       ]
      }
     ],
     "prompt_number": 44
    },
    {
     "cell_type": "code",
     "collapsed": false,
     "input": [
      "mover(p, 1.)"
     ],
     "language": "python",
     "metadata": {},
     "outputs": [
      {
       "metadata": {},
       "output_type": "pyout",
       "prompt_number": 39,
       "text": [
        "4.0"
       ]
      }
     ],
     "prompt_number": 39
    },
    {
     "cell_type": "code",
     "collapsed": false,
     "input": [
      "p"
     ],
     "language": "python",
     "metadata": {},
     "outputs": [
      {
       "metadata": {},
       "output_type": "pyout",
       "prompt_number": 40,
       "text": [
        "Particula(4.0,2,3)"
       ]
      }
     ],
     "prompt_number": 40
    },
    {
     "cell_type": "heading",
     "level": 1,
     "metadata": {},
     "source": [
      "Sobrecarga de operadores "
     ]
    },
    {
     "cell_type": "code",
     "collapsed": false,
     "input": [
      "p1 = Particula(1, 2, 3)\n",
      "p2 = Particula(4, 5, 6)"
     ],
     "language": "python",
     "metadata": {},
     "outputs": [
      {
       "metadata": {},
       "output_type": "pyout",
       "prompt_number": 46,
       "text": [
        "Particula(4,5,6)"
       ]
      }
     ],
     "prompt_number": 46
    },
    {
     "cell_type": "code",
     "collapsed": false,
     "input": [
      "p1 + p2"
     ],
     "language": "python",
     "metadata": {},
     "outputs": [
      {
       "ename": "LoadError",
       "evalue": "`+` has no method matching +(::Particula, ::Particula)\nwhile loading In[47], in expression starting on line 1",
       "output_type": "pyerr",
       "traceback": [
        "`+` has no method matching +(::Particula, ::Particula)\nwhile loading In[47], in expression starting on line 1",
        ""
       ]
      }
     ],
     "prompt_number": 47
    },
    {
     "cell_type": "markdown",
     "metadata": {},
     "source": [
      "S\u00f3lo como ejemplo:"
     ]
    },
    {
     "cell_type": "code",
     "collapsed": false,
     "input": [
      "function +(p1::Particula, p2::Particula)\n",
      "    Particula(p1.x+p2.x, p1.v+p2.v, p1.m+3*p2.m)\n",
      "end"
     ],
     "language": "python",
     "metadata": {},
     "outputs": [
      {
       "metadata": {},
       "output_type": "pyout",
       "prompt_number": 48,
       "text": [
        "+ (generic function with 118 methods)"
       ]
      }
     ],
     "prompt_number": 48
    },
    {
     "cell_type": "code",
     "collapsed": false,
     "input": [
      "p1 + p2"
     ],
     "language": "python",
     "metadata": {},
     "outputs": [
      {
       "metadata": {},
       "output_type": "pyout",
       "prompt_number": 49,
       "text": [
        "Particula(5,7,21)"
       ]
      }
     ],
     "prompt_number": 49
    },
    {
     "cell_type": "code",
     "collapsed": false,
     "input": [
      "+(p1, p2)"
     ],
     "language": "python",
     "metadata": {},
     "outputs": [
      {
       "metadata": {},
       "output_type": "pyout",
       "prompt_number": 50,
       "text": [
        "Particula(5,7,21)"
       ]
      }
     ],
     "prompt_number": 50
    },
    {
     "cell_type": "code",
     "collapsed": false,
     "input": [
      "methods(+)"
     ],
     "language": "python",
     "metadata": {},
     "outputs": [
      {
       "html": [
        "118 methods for generic function <b>+</b>:<ul><li> +(x::<b>Bool</b>) at <a href=\"https://github.com/JuliaLang/julia/tree/af187c5ac5bfc5059feff71477c28f1f2256a153/base/bool.jl#L36\" target=\"_blank\">bool.jl:36</a><li> +(x::<b>Bool</b>,y::<b>Bool</b>) at <a href=\"https://github.com/JuliaLang/julia/tree/af187c5ac5bfc5059feff71477c28f1f2256a153/base/bool.jl#L39\" target=\"_blank\">bool.jl:39</a><li> +(y::<b>FloatingPoint</b>,x::<b>Bool</b>) at <a href=\"https://github.com/JuliaLang/julia/tree/af187c5ac5bfc5059feff71477c28f1f2256a153/base/bool.jl#L49\" target=\"_blank\">bool.jl:49</a><li> +(A::<b>BitArray{N}</b>,B::<b>BitArray{N}</b>) at <a href=\"https://github.com/JuliaLang/julia/tree/af187c5ac5bfc5059feff71477c28f1f2256a153/base/bitarray.jl#L848\" target=\"_blank\">bitarray.jl:848</a><li> +(A::<b>Union(DenseArray{Bool,N},SubArray{Bool,N,A<:DenseArray{T,N},I<:(Union(Int64,Range{Int64})...,)})</b>,B::<b>Union(DenseArray{Bool,N},SubArray{Bool,N,A<:DenseArray{T,N},I<:(Union(Int64,Range{Int64})...,)})</b>) at <a href=\"https://github.com/JuliaLang/julia/tree/af187c5ac5bfc5059feff71477c28f1f2256a153/base/array.jl#L801\" target=\"_blank\">array.jl:801</a><li> +<i>{S,T}</i>(A::<b>Union(SubArray{S,N,A<:DenseArray{T,N},I<:(Union(Int64,Range{Int64})...,)},DenseArray{S,N})</b>,B::<b>Union(DenseArray{T,N},SubArray{T,N,A<:DenseArray{T,N},I<:(Union(Int64,Range{Int64})...,)})</b>) at <a href=\"https://github.com/JuliaLang/julia/tree/af187c5ac5bfc5059feff71477c28f1f2256a153/base/array.jl#L723\" target=\"_blank\">array.jl:723</a><li> +<i>{T<:Union(Int32,Int16,Int8)}</i>(x::<b>T<:Union(Int32,Int16,Int8)</b>,y::<b>T<:Union(Int32,Int16,Int8)</b>) at <a href=\"https://github.com/JuliaLang/julia/tree/af187c5ac5bfc5059feff71477c28f1f2256a153/base/int.jl#L16\" target=\"_blank\">int.jl:16</a><li> +<i>{T<:Union(Uint8,Uint16,Uint32)}</i>(x::<b>T<:Union(Uint8,Uint16,Uint32)</b>,y::<b>T<:Union(Uint8,Uint16,Uint32)</b>) at <a href=\"https://github.com/JuliaLang/julia/tree/af187c5ac5bfc5059feff71477c28f1f2256a153/base/int.jl#L20\" target=\"_blank\">int.jl:20</a><li> +(x::<b>Int64</b>,y::<b>Int64</b>) at <a href=\"https://github.com/JuliaLang/julia/tree/af187c5ac5bfc5059feff71477c28f1f2256a153/base/int.jl#L33\" target=\"_blank\">int.jl:33</a><li> +(x::<b>Uint64</b>,y::<b>Uint64</b>) at <a href=\"https://github.com/JuliaLang/julia/tree/af187c5ac5bfc5059feff71477c28f1f2256a153/base/int.jl#L34\" target=\"_blank\">int.jl:34</a><li> +(x::<b>Int128</b>,y::<b>Int128</b>) at <a href=\"https://github.com/JuliaLang/julia/tree/af187c5ac5bfc5059feff71477c28f1f2256a153/base/int.jl#L35\" target=\"_blank\">int.jl:35</a><li> +(x::<b>Uint128</b>,y::<b>Uint128</b>) at <a href=\"https://github.com/JuliaLang/julia/tree/af187c5ac5bfc5059feff71477c28f1f2256a153/base/int.jl#L36\" target=\"_blank\">int.jl:36</a><li> +(x::<b>Float32</b>,y::<b>Float32</b>) at <a href=\"https://github.com/JuliaLang/julia/tree/af187c5ac5bfc5059feff71477c28f1f2256a153/base/float.jl#L119\" target=\"_blank\">float.jl:119</a><li> +(x::<b>Float64</b>,y::<b>Float64</b>) at <a href=\"https://github.com/JuliaLang/julia/tree/af187c5ac5bfc5059feff71477c28f1f2256a153/base/float.jl#L120\" target=\"_blank\">float.jl:120</a><li> +(z::<b>Complex{T<:Real}</b>,w::<b>Complex{T<:Real}</b>) at <a href=\"https://github.com/JuliaLang/julia/tree/af187c5ac5bfc5059feff71477c28f1f2256a153/base/complex.jl#L110\" target=\"_blank\">complex.jl:110</a><li> +(x::<b>Real</b>,z::<b>Complex{T<:Real}</b>) at <a href=\"https://github.com/JuliaLang/julia/tree/af187c5ac5bfc5059feff71477c28f1f2256a153/base/complex.jl#L120\" target=\"_blank\">complex.jl:120</a><li> +(z::<b>Complex{T<:Real}</b>,x::<b>Real</b>) at <a href=\"https://github.com/JuliaLang/julia/tree/af187c5ac5bfc5059feff71477c28f1f2256a153/base/complex.jl#L121\" target=\"_blank\">complex.jl:121</a><li> +(x::<b>Rational{T<:Integer}</b>,y::<b>Rational{T<:Integer}</b>) at <a href=\"https://github.com/JuliaLang/julia/tree/af187c5ac5bfc5059feff71477c28f1f2256a153/base/rational.jl#L113\" target=\"_blank\">rational.jl:113</a><li> +(x::<b>Char</b>,y::<b>Char</b>) at <a href=\"https://github.com/JuliaLang/julia/tree/af187c5ac5bfc5059feff71477c28f1f2256a153/base/char.jl#L23\" target=\"_blank\">char.jl:23</a><li> +(x::<b>Char</b>,y::<b>Integer</b>) at <a href=\"https://github.com/JuliaLang/julia/tree/af187c5ac5bfc5059feff71477c28f1f2256a153/base/char.jl#L26\" target=\"_blank\">char.jl:26</a><li> +(x::<b>Integer</b>,y::<b>Char</b>) at <a href=\"https://github.com/JuliaLang/julia/tree/af187c5ac5bfc5059feff71477c28f1f2256a153/base/char.jl#L27\" target=\"_blank\">char.jl:27</a><li> +(a::<b>Float16</b>,b::<b>Float16</b>) at <a href=\"https://github.com/JuliaLang/julia/tree/af187c5ac5bfc5059feff71477c28f1f2256a153/base/float16.jl#L132\" target=\"_blank\">float16.jl:132</a><li> +(x::<b>BigInt</b>,y::<b>BigInt</b>) at <a href=\"https://github.com/JuliaLang/julia/tree/af187c5ac5bfc5059feff71477c28f1f2256a153/base/gmp.jl#L195\" target=\"_blank\">gmp.jl:195</a><li> +(a::<b>BigInt</b>,b::<b>BigInt</b>,c::<b>BigInt</b>) at <a href=\"https://github.com/JuliaLang/julia/tree/af187c5ac5bfc5059feff71477c28f1f2256a153/base/gmp.jl#L218\" target=\"_blank\">gmp.jl:218</a><li> +(a::<b>BigInt</b>,b::<b>BigInt</b>,c::<b>BigInt</b>,d::<b>BigInt</b>) at <a href=\"https://github.com/JuliaLang/julia/tree/af187c5ac5bfc5059feff71477c28f1f2256a153/base/gmp.jl#L224\" target=\"_blank\">gmp.jl:224</a><li> +(a::<b>BigInt</b>,b::<b>BigInt</b>,c::<b>BigInt</b>,d::<b>BigInt</b>,e::<b>BigInt</b>) at <a href=\"https://github.com/JuliaLang/julia/tree/af187c5ac5bfc5059feff71477c28f1f2256a153/base/gmp.jl#L231\" target=\"_blank\">gmp.jl:231</a><li> +(x::<b>BigInt</b>,c::<b>Union(Uint8,Uint16,Uint64,Uint32)</b>) at <a href=\"https://github.com/JuliaLang/julia/tree/af187c5ac5bfc5059feff71477c28f1f2256a153/base/gmp.jl#L243\" target=\"_blank\">gmp.jl:243</a><li> +(c::<b>Union(Uint8,Uint16,Uint64,Uint32)</b>,x::<b>BigInt</b>) at <a href=\"https://github.com/JuliaLang/julia/tree/af187c5ac5bfc5059feff71477c28f1f2256a153/base/gmp.jl#L247\" target=\"_blank\">gmp.jl:247</a><li> +(x::<b>BigInt</b>,c::<b>Union(Int64,Int32,Int16,Int8)</b>) at <a href=\"https://github.com/JuliaLang/julia/tree/af187c5ac5bfc5059feff71477c28f1f2256a153/base/gmp.jl#L259\" target=\"_blank\">gmp.jl:259</a><li> +(c::<b>Union(Int64,Int32,Int16,Int8)</b>,x::<b>BigInt</b>) at <a href=\"https://github.com/JuliaLang/julia/tree/af187c5ac5bfc5059feff71477c28f1f2256a153/base/gmp.jl#L260\" target=\"_blank\">gmp.jl:260</a><li> +(x::<b>BigFloat</b>,y::<b>BigFloat</b>) at <a href=\"https://github.com/JuliaLang/julia/tree/af187c5ac5bfc5059feff71477c28f1f2256a153/base/mpfr.jl#L149\" target=\"_blank\">mpfr.jl:149</a><li> +(x::<b>BigFloat</b>,c::<b>Union(Uint8,Uint16,Uint64,Uint32)</b>) at <a href=\"https://github.com/JuliaLang/julia/tree/af187c5ac5bfc5059feff71477c28f1f2256a153/base/mpfr.jl#L156\" target=\"_blank\">mpfr.jl:156</a><li> +(c::<b>Union(Uint8,Uint16,Uint64,Uint32)</b>,x::<b>BigFloat</b>) at <a href=\"https://github.com/JuliaLang/julia/tree/af187c5ac5bfc5059feff71477c28f1f2256a153/base/mpfr.jl#L160\" target=\"_blank\">mpfr.jl:160</a><li> +(x::<b>BigFloat</b>,c::<b>Union(Int64,Int32,Int16,Int8)</b>) at <a href=\"https://github.com/JuliaLang/julia/tree/af187c5ac5bfc5059feff71477c28f1f2256a153/base/mpfr.jl#L164\" target=\"_blank\">mpfr.jl:164</a><li> +(c::<b>Union(Int64,Int32,Int16,Int8)</b>,x::<b>BigFloat</b>) at <a href=\"https://github.com/JuliaLang/julia/tree/af187c5ac5bfc5059feff71477c28f1f2256a153/base/mpfr.jl#L168\" target=\"_blank\">mpfr.jl:168</a><li> +(x::<b>BigFloat</b>,c::<b>Union(Float16,Float32,Float64)</b>) at <a href=\"https://github.com/JuliaLang/julia/tree/af187c5ac5bfc5059feff71477c28f1f2256a153/base/mpfr.jl#L172\" target=\"_blank\">mpfr.jl:172</a><li> +(c::<b>Union(Float16,Float32,Float64)</b>,x::<b>BigFloat</b>) at <a href=\"https://github.com/JuliaLang/julia/tree/af187c5ac5bfc5059feff71477c28f1f2256a153/base/mpfr.jl#L176\" target=\"_blank\">mpfr.jl:176</a><li> +(x::<b>BigFloat</b>,c::<b>BigInt</b>) at <a href=\"https://github.com/JuliaLang/julia/tree/af187c5ac5bfc5059feff71477c28f1f2256a153/base/mpfr.jl#L180\" target=\"_blank\">mpfr.jl:180</a><li> +(c::<b>BigInt</b>,x::<b>BigFloat</b>) at <a href=\"https://github.com/JuliaLang/julia/tree/af187c5ac5bfc5059feff71477c28f1f2256a153/base/mpfr.jl#L184\" target=\"_blank\">mpfr.jl:184</a><li> +(a::<b>BigFloat</b>,b::<b>BigFloat</b>,c::<b>BigFloat</b>) at <a href=\"https://github.com/JuliaLang/julia/tree/af187c5ac5bfc5059feff71477c28f1f2256a153/base/mpfr.jl#L255\" target=\"_blank\">mpfr.jl:255</a><li> +(a::<b>BigFloat</b>,b::<b>BigFloat</b>,c::<b>BigFloat</b>,d::<b>BigFloat</b>) at <a href=\"https://github.com/JuliaLang/julia/tree/af187c5ac5bfc5059feff71477c28f1f2256a153/base/mpfr.jl#L261\" target=\"_blank\">mpfr.jl:261</a><li> +(a::<b>BigFloat</b>,b::<b>BigFloat</b>,c::<b>BigFloat</b>,d::<b>BigFloat</b>,e::<b>BigFloat</b>) at <a href=\"https://github.com/JuliaLang/julia/tree/af187c5ac5bfc5059feff71477c28f1f2256a153/base/mpfr.jl#L268\" target=\"_blank\">mpfr.jl:268</a><li> +(x::<b>MathConst{sym}</b>,y::<b>MathConst{sym}</b>) at <a href=\"https://github.com/JuliaLang/julia/tree/af187c5ac5bfc5059feff71477c28f1f2256a153/base/constants.jl#L23\" target=\"_blank\">constants.jl:23</a><li> +<i>{T<:Number}</i>(x::<b>T<:Number</b>,y::<b>T<:Number</b>) at <a href=\"https://github.com/JuliaLang/julia/tree/af187c5ac5bfc5059feff71477c28f1f2256a153/base/promotion.jl#L188\" target=\"_blank\">promotion.jl:188</a><li> +<i>{T<:FloatingPoint}</i>(x::<b>Bool</b>,y::<b>T<:FloatingPoint</b>) at <a href=\"https://github.com/JuliaLang/julia/tree/af187c5ac5bfc5059feff71477c28f1f2256a153/base/bool.jl#L46\" target=\"_blank\">bool.jl:46</a><li> +(x::<b>Number</b>,y::<b>Number</b>) at <a href=\"https://github.com/JuliaLang/julia/tree/af187c5ac5bfc5059feff71477c28f1f2256a153/base/promotion.jl#L158\" target=\"_blank\">promotion.jl:158</a><li> +(x::<b>Integer</b>,y::<b>Ptr{T}</b>) at <a href=\"https://github.com/JuliaLang/julia/tree/af187c5ac5bfc5059feff71477c28f1f2256a153/base/pointer.jl#L68\" target=\"_blank\">pointer.jl:68</a><li> +(x::<b>Bool</b>,A::<b>AbstractArray{Bool,N}</b>) at <a href=\"https://github.com/JuliaLang/julia/tree/af187c5ac5bfc5059feff71477c28f1f2256a153/base/array.jl#L771\" target=\"_blank\">array.jl:771</a><li> +(x::<b>Number</b>) at <a href=\"https://github.com/JuliaLang/julia/tree/af187c5ac5bfc5059feff71477c28f1f2256a153/base/operators.jl#L71\" target=\"_blank\">operators.jl:71</a><li> +(r1::<b>OrdinalRange{T,S}</b>,r2::<b>OrdinalRange{T,S}</b>) at <a href=\"https://github.com/JuliaLang/julia/tree/af187c5ac5bfc5059feff71477c28f1f2256a153/base/operators.jl#L325\" target=\"_blank\">operators.jl:325</a><li> +<i>{T<:FloatingPoint}</i>(r1::<b>FloatRange{T<:FloatingPoint}</b>,r2::<b>FloatRange{T<:FloatingPoint}</b>) at <a href=\"https://github.com/JuliaLang/julia/tree/af187c5ac5bfc5059feff71477c28f1f2256a153/base/operators.jl#L331\" target=\"_blank\">operators.jl:331</a><li> +(r1::<b>FloatRange{T<:FloatingPoint}</b>,r2::<b>FloatRange{T<:FloatingPoint}</b>) at <a href=\"https://github.com/JuliaLang/julia/tree/af187c5ac5bfc5059feff71477c28f1f2256a153/base/operators.jl#L348\" target=\"_blank\">operators.jl:348</a><li> +(r1::<b>FloatRange{T<:FloatingPoint}</b>,r2::<b>OrdinalRange{T,S}</b>) at <a href=\"https://github.com/JuliaLang/julia/tree/af187c5ac5bfc5059feff71477c28f1f2256a153/base/operators.jl#L349\" target=\"_blank\">operators.jl:349</a><li> +(r1::<b>OrdinalRange{T,S}</b>,r2::<b>FloatRange{T<:FloatingPoint}</b>) at <a href=\"https://github.com/JuliaLang/julia/tree/af187c5ac5bfc5059feff71477c28f1f2256a153/base/operators.jl#L350\" target=\"_blank\">operators.jl:350</a><li> +(x::<b>Ptr{T}</b>,y::<b>Integer</b>) at <a href=\"https://github.com/JuliaLang/julia/tree/af187c5ac5bfc5059feff71477c28f1f2256a153/base/pointer.jl#L66\" target=\"_blank\">pointer.jl:66</a><li> +<i>{S,T<:Real}</i>(A::<b>Union(SubArray{S,N,A<:DenseArray{T,N},I<:(Union(Int64,Range{Int64})...,)},DenseArray{S,N})</b>,B::<b>Range{T<:Real}</b>) at <a href=\"https://github.com/JuliaLang/julia/tree/af187c5ac5bfc5059feff71477c28f1f2256a153/base/array.jl#L731\" target=\"_blank\">array.jl:731</a><li> +<i>{S<:Real,T}</i>(A::<b>Range{S<:Real}</b>,B::<b>Union(DenseArray{T,N},SubArray{T,N,A<:DenseArray{T,N},I<:(Union(Int64,Range{Int64})...,)})</b>) at <a href=\"https://github.com/JuliaLang/julia/tree/af187c5ac5bfc5059feff71477c28f1f2256a153/base/array.jl#L740\" target=\"_blank\">array.jl:740</a><li> +(A::<b>AbstractArray{Bool,N}</b>,x::<b>Bool</b>) at <a href=\"https://github.com/JuliaLang/julia/tree/af187c5ac5bfc5059feff71477c28f1f2256a153/base/array.jl#L770\" target=\"_blank\">array.jl:770</a><li> +<i>{Tv,Ti}</i>(A::<b>SparseMatrixCSC{Tv,Ti}</b>,B::<b>SparseMatrixCSC{Tv,Ti}</b>) at <a href=\"https://github.com/JuliaLang/julia/tree/af187c5ac5bfc5059feff71477c28f1f2256a153/base/sparse/sparsematrix.jl#L552\" target=\"_blank\">sparse/sparsematrix.jl:552</a><li> +<i>{TvA,TiA,TvB,TiB}</i>(A::<b>SparseMatrixCSC{TvA,TiA}</b>,B::<b>SparseMatrixCSC{TvB,TiB}</b>) at <a href=\"https://github.com/JuliaLang/julia/tree/af187c5ac5bfc5059feff71477c28f1f2256a153/base/sparse/sparsematrix.jl#L544\" target=\"_blank\">sparse/sparsematrix.jl:544</a><li> +(A::<b>SparseMatrixCSC{Tv,Ti<:Integer}</b>,B::<b>Array{T,N}</b>) at <a href=\"https://github.com/JuliaLang/julia/tree/af187c5ac5bfc5059feff71477c28f1f2256a153/base/sparse/sparsematrix.jl#L643\" target=\"_blank\">sparse/sparsematrix.jl:643</a><li> +(A::<b>Array{T,N}</b>,B::<b>SparseMatrixCSC{Tv,Ti<:Integer}</b>) at <a href=\"https://github.com/JuliaLang/julia/tree/af187c5ac5bfc5059feff71477c28f1f2256a153/base/sparse/sparsematrix.jl#L645\" target=\"_blank\">sparse/sparsematrix.jl:645</a><li> +(A::<b>SymTridiagonal{T}</b>,B::<b>SymTridiagonal{T}</b>) at <a href=\"https://github.com/JuliaLang/julia/tree/af187c5ac5bfc5059feff71477c28f1f2256a153/base/linalg/tridiag.jl#L57\" target=\"_blank\">linalg/tridiag.jl:57</a><li> +(A::<b>Tridiagonal{T}</b>,B::<b>Tridiagonal{T}</b>) at <a href=\"https://github.com/JuliaLang/julia/tree/af187c5ac5bfc5059feff71477c28f1f2256a153/base/linalg/tridiag.jl#L247\" target=\"_blank\">linalg/tridiag.jl:247</a><li> +(A::<b>Tridiagonal{T}</b>,B::<b>SymTridiagonal{T}</b>) at <a href=\"https://github.com/JuliaLang/julia/tree/af187c5ac5bfc5059feff71477c28f1f2256a153/base/linalg/special.jl#L99\" target=\"_blank\">linalg/special.jl:99</a><li> +(A::<b>SymTridiagonal{T}</b>,B::<b>Tridiagonal{T}</b>) at <a href=\"https://github.com/JuliaLang/julia/tree/af187c5ac5bfc5059feff71477c28f1f2256a153/base/linalg/special.jl#L98\" target=\"_blank\">linalg/special.jl:98</a><li> +<i>{T,MT,uplo}</i>(A::<b>Triangular{T,MT,uplo,IsUnit}</b>,B::<b>Triangular{T,MT,uplo,IsUnit}</b>) at <a href=\"https://github.com/JuliaLang/julia/tree/af187c5ac5bfc5059feff71477c28f1f2256a153/base/linalg/triangular.jl#L11\" target=\"_blank\">linalg/triangular.jl:11</a><li> +<i>{T,MT,uplo1,uplo2}</i>(A::<b>Triangular{T,MT,uplo1,IsUnit}</b>,B::<b>Triangular{T,MT,uplo2,IsUnit}</b>) at <a href=\"https://github.com/JuliaLang/julia/tree/af187c5ac5bfc5059feff71477c28f1f2256a153/base/linalg/triangular.jl#L12\" target=\"_blank\">linalg/triangular.jl:12</a><li> +(Da::<b>Diagonal{T}</b>,Db::<b>Diagonal{T}</b>) at <a href=\"https://github.com/JuliaLang/julia/tree/af187c5ac5bfc5059feff71477c28f1f2256a153/base/linalg/diagonal.jl#L47\" target=\"_blank\">linalg/diagonal.jl:47</a><li> +(A::<b>Bidiagonal{T}</b>,B::<b>Bidiagonal{T}</b>) at <a href=\"https://github.com/JuliaLang/julia/tree/af187c5ac5bfc5059feff71477c28f1f2256a153/base/linalg/bidiag.jl#L92\" target=\"_blank\">linalg/bidiag.jl:92</a><li> +<i>{T}</i>(B::<b>BitArray{2}</b>,J::<b>UniformScaling{T}</b>) at <a href=\"https://github.com/JuliaLang/julia/tree/af187c5ac5bfc5059feff71477c28f1f2256a153/base/linalg/uniformscaling.jl#L26\" target=\"_blank\">linalg/uniformscaling.jl:26</a><li> +(A::<b>Diagonal{T}</b>,B::<b>Bidiagonal{T}</b>) at <a href=\"https://github.com/JuliaLang/julia/tree/af187c5ac5bfc5059feff71477c28f1f2256a153/base/linalg/special.jl#L89\" target=\"_blank\">linalg/special.jl:89</a><li> +(A::<b>Bidiagonal{T}</b>,B::<b>Diagonal{T}</b>) at <a href=\"https://github.com/JuliaLang/julia/tree/af187c5ac5bfc5059feff71477c28f1f2256a153/base/linalg/special.jl#L90\" target=\"_blank\">linalg/special.jl:90</a><li> +(A::<b>Diagonal{T}</b>,B::<b>Tridiagonal{T}</b>) at <a href=\"https://github.com/JuliaLang/julia/tree/af187c5ac5bfc5059feff71477c28f1f2256a153/base/linalg/special.jl#L89\" target=\"_blank\">linalg/special.jl:89</a><li> +(A::<b>Tridiagonal{T}</b>,B::<b>Diagonal{T}</b>) at <a href=\"https://github.com/JuliaLang/julia/tree/af187c5ac5bfc5059feff71477c28f1f2256a153/base/linalg/special.jl#L90\" target=\"_blank\">linalg/special.jl:90</a><li> +(A::<b>Diagonal{T}</b>,B::<b>Triangular{T,S<:AbstractArray{T,2},UpLo,IsUnit}</b>) at <a href=\"https://github.com/JuliaLang/julia/tree/af187c5ac5bfc5059feff71477c28f1f2256a153/base/linalg/special.jl#L89\" target=\"_blank\">linalg/special.jl:89</a><li> +(A::<b>Triangular{T,S<:AbstractArray{T,2},UpLo,IsUnit}</b>,B::<b>Diagonal{T}</b>) at <a href=\"https://github.com/JuliaLang/julia/tree/af187c5ac5bfc5059feff71477c28f1f2256a153/base/linalg/special.jl#L90\" target=\"_blank\">linalg/special.jl:90</a><li> +(A::<b>Diagonal{T}</b>,B::<b>Array{T,2}</b>) at <a href=\"https://github.com/JuliaLang/julia/tree/af187c5ac5bfc5059feff71477c28f1f2256a153/base/linalg/special.jl#L89\" target=\"_blank\">linalg/special.jl:89</a><li> +(A::<b>Array{T,2}</b>,B::<b>Diagonal{T}</b>) at <a href=\"https://github.com/JuliaLang/julia/tree/af187c5ac5bfc5059feff71477c28f1f2256a153/base/linalg/special.jl#L90\" target=\"_blank\">linalg/special.jl:90</a><li> +(A::<b>Bidiagonal{T}</b>,B::<b>Tridiagonal{T}</b>) at <a href=\"https://github.com/JuliaLang/julia/tree/af187c5ac5bfc5059feff71477c28f1f2256a153/base/linalg/special.jl#L89\" target=\"_blank\">linalg/special.jl:89</a><li> +(A::<b>Tridiagonal{T}</b>,B::<b>Bidiagonal{T}</b>) at <a href=\"https://github.com/JuliaLang/julia/tree/af187c5ac5bfc5059feff71477c28f1f2256a153/base/linalg/special.jl#L90\" target=\"_blank\">linalg/special.jl:90</a><li> +(A::<b>Bidiagonal{T}</b>,B::<b>Triangular{T,S<:AbstractArray{T,2},UpLo,IsUnit}</b>) at <a href=\"https://github.com/JuliaLang/julia/tree/af187c5ac5bfc5059feff71477c28f1f2256a153/base/linalg/special.jl#L89\" target=\"_blank\">linalg/special.jl:89</a><li> +(A::<b>Triangular{T,S<:AbstractArray{T,2},UpLo,IsUnit}</b>,B::<b>Bidiagonal{T}</b>) at <a href=\"https://github.com/JuliaLang/julia/tree/af187c5ac5bfc5059feff71477c28f1f2256a153/base/linalg/special.jl#L90\" target=\"_blank\">linalg/special.jl:90</a><li> +(A::<b>Bidiagonal{T}</b>,B::<b>Array{T,2}</b>) at <a href=\"https://github.com/JuliaLang/julia/tree/af187c5ac5bfc5059feff71477c28f1f2256a153/base/linalg/special.jl#L89\" target=\"_blank\">linalg/special.jl:89</a><li> +(A::<b>Array{T,2}</b>,B::<b>Bidiagonal{T}</b>) at <a href=\"https://github.com/JuliaLang/julia/tree/af187c5ac5bfc5059feff71477c28f1f2256a153/base/linalg/special.jl#L90\" target=\"_blank\">linalg/special.jl:90</a><li> +(A::<b>Tridiagonal{T}</b>,B::<b>Triangular{T,S<:AbstractArray{T,2},UpLo,IsUnit}</b>) at <a href=\"https://github.com/JuliaLang/julia/tree/af187c5ac5bfc5059feff71477c28f1f2256a153/base/linalg/special.jl#L89\" target=\"_blank\">linalg/special.jl:89</a><li> +(A::<b>Triangular{T,S<:AbstractArray{T,2},UpLo,IsUnit}</b>,B::<b>Tridiagonal{T}</b>) at <a href=\"https://github.com/JuliaLang/julia/tree/af187c5ac5bfc5059feff71477c28f1f2256a153/base/linalg/special.jl#L90\" target=\"_blank\">linalg/special.jl:90</a><li> +(A::<b>Tridiagonal{T}</b>,B::<b>Array{T,2}</b>) at <a href=\"https://github.com/JuliaLang/julia/tree/af187c5ac5bfc5059feff71477c28f1f2256a153/base/linalg/special.jl#L89\" target=\"_blank\">linalg/special.jl:89</a><li> +(A::<b>Array{T,2}</b>,B::<b>Tridiagonal{T}</b>) at <a href=\"https://github.com/JuliaLang/julia/tree/af187c5ac5bfc5059feff71477c28f1f2256a153/base/linalg/special.jl#L90\" target=\"_blank\">linalg/special.jl:90</a><li> +(A::<b>Triangular{T,S<:AbstractArray{T,2},UpLo,IsUnit}</b>,B::<b>Array{T,2}</b>) at <a href=\"https://github.com/JuliaLang/julia/tree/af187c5ac5bfc5059feff71477c28f1f2256a153/base/linalg/special.jl#L89\" target=\"_blank\">linalg/special.jl:89</a><li> +(A::<b>Array{T,2}</b>,B::<b>Triangular{T,S<:AbstractArray{T,2},UpLo,IsUnit}</b>) at <a href=\"https://github.com/JuliaLang/julia/tree/af187c5ac5bfc5059feff71477c28f1f2256a153/base/linalg/special.jl#L90\" target=\"_blank\">linalg/special.jl:90</a><li> +(A::<b>SymTridiagonal{T}</b>,B::<b>Triangular{T,S<:AbstractArray{T,2},UpLo,IsUnit}</b>) at <a href=\"https://github.com/JuliaLang/julia/tree/af187c5ac5bfc5059feff71477c28f1f2256a153/base/linalg/special.jl#L98\" target=\"_blank\">linalg/special.jl:98</a><li> +(A::<b>Triangular{T,S<:AbstractArray{T,2},UpLo,IsUnit}</b>,B::<b>SymTridiagonal{T}</b>) at <a href=\"https://github.com/JuliaLang/julia/tree/af187c5ac5bfc5059feff71477c28f1f2256a153/base/linalg/special.jl#L99\" target=\"_blank\">linalg/special.jl:99</a><li> +(A::<b>SymTridiagonal{T}</b>,B::<b>Array{T,2}</b>) at <a href=\"https://github.com/JuliaLang/julia/tree/af187c5ac5bfc5059feff71477c28f1f2256a153/base/linalg/special.jl#L98\" target=\"_blank\">linalg/special.jl:98</a><li> +(A::<b>Array{T,2}</b>,B::<b>SymTridiagonal{T}</b>) at <a href=\"https://github.com/JuliaLang/julia/tree/af187c5ac5bfc5059feff71477c28f1f2256a153/base/linalg/special.jl#L99\" target=\"_blank\">linalg/special.jl:99</a><li> +(A::<b>Diagonal{T}</b>,B::<b>SymTridiagonal{T}</b>) at <a href=\"https://github.com/JuliaLang/julia/tree/af187c5ac5bfc5059feff71477c28f1f2256a153/base/linalg/special.jl#L107\" target=\"_blank\">linalg/special.jl:107</a><li> +(A::<b>SymTridiagonal{T}</b>,B::<b>Diagonal{T}</b>) at <a href=\"https://github.com/JuliaLang/julia/tree/af187c5ac5bfc5059feff71477c28f1f2256a153/base/linalg/special.jl#L108\" target=\"_blank\">linalg/special.jl:108</a><li> +(A::<b>Bidiagonal{T}</b>,B::<b>SymTridiagonal{T}</b>) at <a href=\"https://github.com/JuliaLang/julia/tree/af187c5ac5bfc5059feff71477c28f1f2256a153/base/linalg/special.jl#L107\" target=\"_blank\">linalg/special.jl:107</a><li> +(A::<b>SymTridiagonal{T}</b>,B::<b>Bidiagonal{T}</b>) at <a href=\"https://github.com/JuliaLang/julia/tree/af187c5ac5bfc5059feff71477c28f1f2256a153/base/linalg/special.jl#L108\" target=\"_blank\">linalg/special.jl:108</a><li> +<i>{T<:Number}</i>(x::<b>AbstractArray{T<:Number,N}</b>) at <a href=\"https://github.com/JuliaLang/julia/tree/af187c5ac5bfc5059feff71477c28f1f2256a153/base/abstractarray.jl#L362\" target=\"_blank\">abstractarray.jl:362</a><li> +(A::<b>AbstractArray{T,N}</b>,x::<b>Number</b>) at <a href=\"https://github.com/JuliaLang/julia/tree/af187c5ac5bfc5059feff71477c28f1f2256a153/base/array.jl#L774\" target=\"_blank\">array.jl:774</a><li> +(x::<b>Number</b>,A::<b>AbstractArray{T,N}</b>) at <a href=\"https://github.com/JuliaLang/julia/tree/af187c5ac5bfc5059feff71477c28f1f2256a153/base/array.jl#L775\" target=\"_blank\">array.jl:775</a><li> +(J1::<b>UniformScaling{T<:Number}</b>,J2::<b>UniformScaling{T<:Number}</b>) at <a href=\"https://github.com/JuliaLang/julia/tree/af187c5ac5bfc5059feff71477c28f1f2256a153/base/linalg/uniformscaling.jl#L25\" target=\"_blank\">linalg/uniformscaling.jl:25</a><li> +(J::<b>UniformScaling{T<:Number}</b>,B::<b>BitArray{2}</b>) at <a href=\"https://github.com/JuliaLang/julia/tree/af187c5ac5bfc5059feff71477c28f1f2256a153/base/linalg/uniformscaling.jl#L27\" target=\"_blank\">linalg/uniformscaling.jl:27</a><li> +(J::<b>UniformScaling{T<:Number}</b>,A::<b>AbstractArray{T,2}</b>) at <a href=\"https://github.com/JuliaLang/julia/tree/af187c5ac5bfc5059feff71477c28f1f2256a153/base/linalg/uniformscaling.jl#L28\" target=\"_blank\">linalg/uniformscaling.jl:28</a><li> +(J::<b>UniformScaling{T<:Number}</b>,x::<b>Number</b>) at <a href=\"https://github.com/JuliaLang/julia/tree/af187c5ac5bfc5059feff71477c28f1f2256a153/base/linalg/uniformscaling.jl#L29\" target=\"_blank\">linalg/uniformscaling.jl:29</a><li> +(x::<b>Number</b>,J::<b>UniformScaling{T<:Number}</b>) at <a href=\"https://github.com/JuliaLang/julia/tree/af187c5ac5bfc5059feff71477c28f1f2256a153/base/linalg/uniformscaling.jl#L30\" target=\"_blank\">linalg/uniformscaling.jl:30</a><li> +<i>{TA,TJ}</i>(A::<b>AbstractArray{TA,2}</b>,J::<b>UniformScaling{TJ}</b>) at <a href=\"https://github.com/JuliaLang/julia/tree/af187c5ac5bfc5059feff71477c28f1f2256a153/base/linalg/uniformscaling.jl#L33\" target=\"_blank\">linalg/uniformscaling.jl:33</a><li> +<i>{T}</i>(a::<b>HierarchicalValue{T}</b>,b::<b>HierarchicalValue{T}</b>) at <a href=\"https://github.com/JuliaLang/julia/tree/af187c5ac5bfc5059feff71477c28f1f2256a153/base/pkg/resolve/versionweight.jl#L19\" target=\"_blank\">pkg/resolve/versionweight.jl:19</a><li> +(a::<b>VWPreBuildItem</b>,b::<b>VWPreBuildItem</b>) at <a href=\"https://github.com/JuliaLang/julia/tree/af187c5ac5bfc5059feff71477c28f1f2256a153/base/pkg/resolve/versionweight.jl#L82\" target=\"_blank\">pkg/resolve/versionweight.jl:82</a><li> +(a::<b>VWPreBuild</b>,b::<b>VWPreBuild</b>) at <a href=\"https://github.com/JuliaLang/julia/tree/af187c5ac5bfc5059feff71477c28f1f2256a153/base/pkg/resolve/versionweight.jl#L120\" target=\"_blank\">pkg/resolve/versionweight.jl:120</a><li> +(a::<b>VersionWeight</b>,b::<b>VersionWeight</b>) at <a href=\"https://github.com/JuliaLang/julia/tree/af187c5ac5bfc5059feff71477c28f1f2256a153/base/pkg/resolve/versionweight.jl#L164\" target=\"_blank\">pkg/resolve/versionweight.jl:164</a><li> +(a::<b>FieldValue</b>,b::<b>FieldValue</b>) at <a href=\"https://github.com/JuliaLang/julia/tree/af187c5ac5bfc5059feff71477c28f1f2256a153/base/pkg/resolve/fieldvalue.jl#L41\" target=\"_blank\">pkg/resolve/fieldvalue.jl:41</a><li> +(a::<b>Vec2</b>,b::<b>Vec2</b>) at <a href=\"https://github.com/JuliaLang/julia/tree/af187c5ac5bfc5059feff71477c28f1f2256a153/base/graphics.jl#L60\" target=\"_blank\">graphics.jl:60</a><li> +(bb1::<b>BoundingBox</b>,bb2::<b>BoundingBox</b>) at <a href=\"https://github.com/JuliaLang/julia/tree/af187c5ac5bfc5059feff71477c28f1f2256a153/base/graphics.jl#L123\" target=\"_blank\">graphics.jl:123</a><li> +(p1::<b>Particula</b>,p2::<b>Particula</b>) at In[48]:2<li> +(a,b,c) at <a href=\"https://github.com/JuliaLang/julia/tree/af187c5ac5bfc5059feff71477c28f1f2256a153/base/operators.jl#L82\" target=\"_blank\">operators.jl:82</a><li> +(a,b,c,xs...) at <a href=\"https://github.com/JuliaLang/julia/tree/af187c5ac5bfc5059feff71477c28f1f2256a153/base/operators.jl#L83\" target=\"_blank\">operators.jl:83</a></ul>"
       ],
       "metadata": {},
       "output_type": "pyout",
       "prompt_number": 51,
       "text": [
        "# 118 methods for generic function \"+\":\n",
        "+(x::Bool) at bool.jl:36\n",
        "+(x::Bool,y::Bool) at bool.jl:39\n",
        "+(y::FloatingPoint,x::Bool) at bool.jl:49\n",
        "+(A::BitArray{N},B::BitArray{N}) at bitarray.jl:848\n",
        "+(A::Union(DenseArray{Bool,N},SubArray{Bool,N,A<:DenseArray{T,N},I<:(Union(Int64,Range{Int64})...,)}),B::Union(DenseArray{Bool,N},SubArray{Bool,N,A<:DenseArray{T,N},I<:(Union(Int64,Range{Int64})...,)})) at array.jl:801\n",
        "+{S,T}(A::Union(SubArray{S,N,A<:DenseArray{T,N},I<:(Union(Int64,Range{Int64})...,)},DenseArray{S,N}),B::Union(DenseArray{T,N},SubArray{T,N,A<:DenseArray{T,N},I<:(Union(Int64,Range{Int64})...,)})) at array.jl:723\n",
        "+{T<:Union(Int32,Int16,Int8)}(x::T<:Union(Int32,Int16,Int8),y::T<:Union(Int32,Int16,Int8)) at int.jl:16\n",
        "+{T<:Union(Uint8,Uint16,Uint32)}(x::T<:Union(Uint8,Uint16,Uint32),y::T<:Union(Uint8,Uint16,Uint32)) at int.jl:20\n",
        "+(x::Int64,y::Int64) at int.jl:33\n",
        "+(x::Uint64,y::Uint64) at int.jl:34\n",
        "+(x::Int128,y::Int128) at int.jl:35\n",
        "+(x::Uint128,y::Uint128) at int.jl:36\n",
        "+(x::Float32,y::Float32) at float.jl:119\n",
        "+(x::Float64,y::Float64) at float.jl:120\n",
        "+(z::Complex{T<:Real},w::Complex{T<:Real}) at complex.jl:110\n",
        "+(x::Real,z::Complex{T<:Real}) at complex.jl:120\n",
        "+(z::Complex{T<:Real},x::Real) at complex.jl:121\n",
        "+(x::Rational{T<:Integer},y::Rational{T<:Integer}) at rational.jl:113\n",
        "+(x::Char,y::Char) at char.jl:23\n",
        "+(x::Char,y::Integer) at char.jl:26\n",
        "+(x::Integer,y::Char) at char.jl:27\n",
        "+(a::Float16,b::Float16) at float16.jl:132\n",
        "+(x::BigInt,y::BigInt) at gmp.jl:195\n",
        "+(a::BigInt,b::BigInt,c::BigInt) at gmp.jl:218\n",
        "+(a::BigInt,b::BigInt,c::BigInt,d::BigInt) at gmp.jl:224\n",
        "+(a::BigInt,b::BigInt,c::BigInt,d::BigInt,e::BigInt) at gmp.jl:231\n",
        "+(x::BigInt,c::Union(Uint8,Uint16,Uint64,Uint32)) at gmp.jl:243\n",
        "+(c::Union(Uint8,Uint16,Uint64,Uint32),x::BigInt) at gmp.jl:247\n",
        "+(x::BigInt,c::Union(Int64,Int32,Int16,Int8)) at gmp.jl:259\n",
        "+(c::Union(Int64,Int32,Int16,Int8),x::BigInt) at gmp.jl:260\n",
        "+(x::BigFloat,y::BigFloat) at mpfr.jl:149\n",
        "+(x::BigFloat,c::Union(Uint8,Uint16,Uint64,Uint32)) at mpfr.jl:156\n",
        "+(c::Union(Uint8,Uint16,Uint64,Uint32),x::BigFloat) at mpfr.jl:160\n",
        "+(x::BigFloat,c::Union(Int64,Int32,Int16,Int8)) at mpfr.jl:164\n",
        "+(c::Union(Int64,Int32,Int16,Int8),x::BigFloat) at mpfr.jl:168\n",
        "+(x::BigFloat,c::Union(Float16,Float32,Float64)) at mpfr.jl:172\n",
        "+(c::Union(Float16,Float32,Float64),x::BigFloat) at mpfr.jl:176\n",
        "+(x::BigFloat,c::BigInt) at mpfr.jl:180\n",
        "+(c::BigInt,x::BigFloat) at mpfr.jl:184\n",
        "+(a::BigFloat,b::BigFloat,c::BigFloat) at mpfr.jl:255\n",
        "+(a::BigFloat,b::BigFloat,c::BigFloat,d::BigFloat) at mpfr.jl:261\n",
        "+(a::BigFloat,b::BigFloat,c::BigFloat,d::BigFloat,e::BigFloat) at mpfr.jl:268\n",
        "+(x::MathConst{sym},y::MathConst{sym}) at constants.jl:23\n",
        "+{T<:Number}(x::T<:Number,y::T<:Number) at promotion.jl:188\n",
        "+{T<:FloatingPoint}(x::Bool,y::T<:FloatingPoint) at bool.jl:46\n",
        "+(x::Number,y::Number) at promotion.jl:158\n",
        "+(x::Integer,y::Ptr{T}) at pointer.jl:68\n",
        "+(x::Bool,A::AbstractArray{Bool,N}) at array.jl:771\n",
        "+(x::Number) at operators.jl:71\n",
        "+(r1::OrdinalRange{T,S},r2::OrdinalRange{T,S}) at operators.jl:325\n",
        "+{T<:FloatingPoint}(r1::FloatRange{T<:FloatingPoint},r2::FloatRange{T<:FloatingPoint}) at operators.jl:331\n",
        "+(r1::FloatRange{T<:FloatingPoint},r2::FloatRange{T<:FloatingPoint}) at operators.jl:348\n",
        "+(r1::FloatRange{T<:FloatingPoint},r2::OrdinalRange{T,S}) at operators.jl:349\n",
        "+(r1::OrdinalRange{T,S},r2::FloatRange{T<:FloatingPoint}) at operators.jl:350\n",
        "+(x::Ptr{T},y::Integer) at pointer.jl:66\n",
        "+{S,T<:Real}(A::Union(SubArray{S,N,A<:DenseArray{T,N},I<:(Union(Int64,Range{Int64})...,)},DenseArray{S,N}),B::Range{T<:Real}) at array.jl:731\n",
        "+{S<:Real,T}(A::Range{S<:Real},B::Union(DenseArray{T,N},SubArray{T,N,A<:DenseArray{T,N},I<:(Union(Int64,Range{Int64})...,)})) at array.jl:740\n",
        "+(A::AbstractArray{Bool,N},x::Bool) at array.jl:770\n",
        "+{Tv,Ti}(A::SparseMatrixCSC{Tv,Ti},B::SparseMatrixCSC{Tv,Ti}) at sparse/sparsematrix.jl:552\n",
        "+{TvA,TiA,TvB,TiB}(A::SparseMatrixCSC{TvA,TiA},B::SparseMatrixCSC{TvB,TiB}) at sparse/sparsematrix.jl:544\n",
        "+(A::SparseMatrixCSC{Tv,Ti<:Integer},B::Array{T,N}) at sparse/sparsematrix.jl:643\n",
        "+(A::Array{T,N},B::SparseMatrixCSC{Tv,Ti<:Integer}) at sparse/sparsematrix.jl:645\n",
        "+(A::SymTridiagonal{T},B::SymTridiagonal{T}) at linalg/tridiag.jl:57\n",
        "+(A::Tridiagonal{T},B::Tridiagonal{T}) at linalg/tridiag.jl:247\n",
        "+(A::Tridiagonal{T},B::SymTridiagonal{T}) at linalg/special.jl:99\n",
        "+(A::SymTridiagonal{T},B::Tridiagonal{T}) at linalg/special.jl:98\n",
        "+{T,MT,uplo}(A::Triangular{T,MT,uplo,IsUnit},B::Triangular{T,MT,uplo,IsUnit}) at linalg/triangular.jl:11\n",
        "+{T,MT,uplo1,uplo2}(A::Triangular{T,MT,uplo1,IsUnit},B::Triangular{T,MT,uplo2,IsUnit}) at linalg/triangular.jl:12\n",
        "+(Da::Diagonal{T},Db::Diagonal{T}) at linalg/diagonal.jl:47\n",
        "+(A::Bidiagonal{T},B::Bidiagonal{T}) at linalg/bidiag.jl:92\n",
        "+{T}(B::BitArray{2},J::UniformScaling{T}) at linalg/uniformscaling.jl:26\n",
        "+(A::Diagonal{T},B::Bidiagonal{T}) at linalg/special.jl:89\n",
        "+(A::Bidiagonal{T},B::Diagonal{T}) at linalg/special.jl:90\n",
        "+(A::Diagonal{T},B::Tridiagonal{T}) at linalg/special.jl:89\n",
        "+(A::Tridiagonal{T},B::Diagonal{T}) at linalg/special.jl:90\n",
        "+(A::Diagonal{T},B::Triangular{T,S<:AbstractArray{T,2},UpLo,IsUnit}) at linalg/special.jl:89\n",
        "+(A::Triangular{T,S<:AbstractArray{T,2},UpLo,IsUnit},B::Diagonal{T}) at linalg/special.jl:90\n",
        "+(A::Diagonal{T},B::Array{T,2}) at linalg/special.jl:89\n",
        "+(A::Array{T,2},B::Diagonal{T}) at linalg/special.jl:90\n",
        "+(A::Bidiagonal{T},B::Tridiagonal{T}) at linalg/special.jl:89\n",
        "+(A::Tridiagonal{T},B::Bidiagonal{T}) at linalg/special.jl:90\n",
        "+(A::Bidiagonal{T},B::Triangular{T,S<:AbstractArray{T,2},UpLo,IsUnit}) at linalg/special.jl:89\n",
        "+(A::Triangular{T,S<:AbstractArray{T,2},UpLo,IsUnit},B::Bidiagonal{T}) at linalg/special.jl:90\n",
        "+(A::Bidiagonal{T},B::Array{T,2}) at linalg/special.jl:89\n",
        "+(A::Array{T,2},B::Bidiagonal{T}) at linalg/special.jl:90\n",
        "+(A::Tridiagonal{T},B::Triangular{T,S<:AbstractArray{T,2},UpLo,IsUnit}) at linalg/special.jl:89\n",
        "+(A::Triangular{T,S<:AbstractArray{T,2},UpLo,IsUnit},B::Tridiagonal{T}) at linalg/special.jl:90\n",
        "+(A::Tridiagonal{T},B::Array{T,2}) at linalg/special.jl:89\n",
        "+(A::Array{T,2},B::Tridiagonal{T}) at linalg/special.jl:90\n",
        "+(A::Triangular{T,S<:AbstractArray{T,2},UpLo,IsUnit},B::Array{T,2}) at linalg/special.jl:89\n",
        "+(A::Array{T,2},B::Triangular{T,S<:AbstractArray{T,2},UpLo,IsUnit}) at linalg/special.jl:90\n",
        "+(A::SymTridiagonal{T},B::Triangular{T,S<:AbstractArray{T,2},UpLo,IsUnit}) at linalg/special.jl:98\n",
        "+(A::Triangular{T,S<:AbstractArray{T,2},UpLo,IsUnit},B::SymTridiagonal{T}) at linalg/special.jl:99\n",
        "+(A::SymTridiagonal{T},B::Array{T,2}) at linalg/special.jl:98\n",
        "+(A::Array{T,2},B::SymTridiagonal{T}) at linalg/special.jl:99\n",
        "+(A::Diagonal{T},B::SymTridiagonal{T}) at linalg/special.jl:107\n",
        "+(A::SymTridiagonal{T},B::Diagonal{T}) at linalg/special.jl:108\n",
        "+(A::Bidiagonal{T},B::SymTridiagonal{T}) at linalg/special.jl:107\n",
        "+(A::SymTridiagonal{T},B::Bidiagonal{T}) at linalg/special.jl:108\n",
        "+{T<:Number}(x::AbstractArray{T<:Number,N}) at abstractarray.jl:362\n",
        "+(A::AbstractArray{T,N},x::Number) at array.jl:774\n",
        "+(x::Number,A::AbstractArray{T,N}) at array.jl:775\n",
        "+(J1::UniformScaling{T<:Number},J2::UniformScaling{T<:Number}) at linalg/uniformscaling.jl:25\n",
        "+(J::UniformScaling{T<:Number},B::BitArray{2}) at linalg/uniformscaling.jl:27\n",
        "+(J::UniformScaling{T<:Number},A::AbstractArray{T,2}) at linalg/uniformscaling.jl:28\n",
        "+(J::UniformScaling{T<:Number},x::Number) at linalg/uniformscaling.jl:29\n",
        "+(x::Number,J::UniformScaling{T<:Number}) at linalg/uniformscaling.jl:30\n",
        "+{TA,TJ}(A::AbstractArray{TA,2},J::UniformScaling{TJ}) at linalg/uniformscaling.jl:33\n",
        "+{T}(a::HierarchicalValue{T},b::HierarchicalValue{T}) at pkg/resolve/versionweight.jl:19\n",
        "+(a::VWPreBuildItem,b::VWPreBuildItem) at pkg/resolve/versionweight.jl:82\n",
        "+(a::VWPreBuild,b::VWPreBuild) at pkg/resolve/versionweight.jl:120\n",
        "+(a::VersionWeight,b::VersionWeight) at pkg/resolve/versionweight.jl:164\n",
        "+(a::FieldValue,b::FieldValue) at pkg/resolve/fieldvalue.jl:41\n",
        "+(a::Vec2,b::Vec2) at graphics.jl:60\n",
        "+(bb1::BoundingBox,bb2::BoundingBox) at graphics.jl:123\n",
        "+(p1::Particula,p2::Particula) at In[48]:2\n",
        "+(a,b,c) at operators.jl:82\n",
        "+(a,b,c,xs...) at operators.jl:83"
       ]
      }
     ],
     "prompt_number": 51
    },
    {
     "cell_type": "code",
     "collapsed": false,
     "input": [
      "using ValidatedNumerics"
     ],
     "language": "python",
     "metadata": {},
     "outputs": [
      {
       "output_type": "stream",
       "stream": "stderr",
       "text": [
        "Warning: Method definition IPv4(String,) in module Compat at /Users/dsanders/.julia/v0.3/Compat/src/Compat.jl:31 overwritten in module Compat at /Users/dsanders/.julia/v0.3/Compat/src/Compat.jl:31.\n",
        "Warning: Method definition IPv6(String,) in module Compat at /Users/dsanders/.julia/v0.3/Compat/src/Compat.jl:32 overwritten in module Compat at /Users/dsanders/.julia/v0.3/Compat/src/Compat.jl:32.\n",
        "Warning: Method definition isless(T<:IpAddr,T<:IpAddr) in module Compat at /Users/dsanders/.julia/v0.3/Compat/src/Compat.jl:37 overwritten in module Compat at /Users/dsanders/.julia/v0.3/Compat/src/Compat.jl:37.\n",
        "Warning: Method definition Dict(Any,) in module Compat at /Users/dsanders/.julia/v0.3/Compat/src/Compat.jl:49 overwritten in module Compat at /Users/dsanders/.julia/v0.3/Compat/src/Compat.jl:49.\n",
        "Warning: Method definition round(Type{T<:Integer},Integer) in module Compat at /Users/dsanders/.julia/v0.3/Compat/src/Compat.jl:65 overwritten in module Compat at /Users/dsanders/.julia/v0.3/Compat/src/Compat.jl:65.\n",
        "Warning: Method definition round(Type{T<:Integer},Real) in module Compat at /Users/dsanders/.julia/v0.3/Compat/src/Compat.jl:66 overwritten in module Compat at /Users/dsanders/.julia/v0.3/Compat/src/Compat.jl:66.\n",
        "Warning: Method definition round(Type{T<:Integer},Rational{T<:Integer}) in module Compat at /Users/dsanders/.julia/v0.3/Compat/src/Compat.jl:67 overwritten in module Compat at /Users/dsanders/.julia/v0.3/Compat/src/Compat.jl:67.\n",
        "Warning: Method definition round(Type{T},AbstractArray{R,1}) in module Compat at /Users/dsanders/.julia/v0.3/Compat/src/Compat.jl:69 overwritten in module Compat at /Users/dsanders/.julia/v0.3/Compat/src/Compat.jl:69.\n",
        "Warning: Method definition round(Type{T},AbstractArray{R,2}) in module Compat at /Users/dsanders/.julia/v0.3/Compat/src/Compat.jl:72 overwritten in module Compat at /Users/dsanders/.julia/v0.3/Compat/src/Compat.jl:72.\n",
        "Warning: Method definition round(Type{T},AbstractArray{T,N}) in module Compat at /Users/dsanders/.julia/v0.3/Compat/src/Compat.jl:75 overwritten in module Compat at /Users/dsanders/.julia/v0.3/Compat/src/Compat.jl:75.\n",
        "Warning: Method definition ceil(Type{T<:Integer},Integer) in module Compat at /Users/dsanders/.julia/v0.3/Compat/src/Compat.jl:65 overwritten in module Compat at /Users/dsanders/.julia/v0.3/Compat/src/Compat.jl:65.\n",
        "Warning: Method definition ceil(Type{T<:Integer},Real) in module Compat at /Users/dsanders/.julia/v0.3/Compat/src/Compat.jl:66 overwritten in module Compat at /Users/dsanders/.julia/v0.3/Compat/src/Compat.jl:66.\n",
        "Warning: Method definition ceil(Type{T<:Integer},Rational{T<:Integer}) in module Compat at /Users/dsanders/.julia/v0.3/Compat/src/Compat.jl:67 overwritten in module Compat at /Users/dsanders/.julia/v0.3/Compat/src/Compat.jl:67.\n",
        "Warning: Method definition ceil(Type{T},AbstractArray{R,1}) in module Compat at /Users/dsanders/.julia/v0.3/Compat/src/Compat.jl:69 overwritten in module Compat at /Users/dsanders/.julia/v0.3/Compat/src/Compat.jl:69.\n",
        "Warning: Method definition ceil(Type{T},AbstractArray{R,2}) in module Compat at /Users/dsanders/.julia/v0.3/Compat/src/Compat.jl:72 overwritten in module Compat at /Users/dsanders/.julia/v0.3/Compat/src/Compat.jl:72.\n",
        "Warning: Method definition ceil(Type{T},AbstractArray{T,N}) in module Compat at /Users/dsanders/.julia/v0.3/Compat/src/Compat.jl:75 overwritten in module Compat at /Users/dsanders/.julia/v0.3/Compat/src/Compat.jl:75.\n",
        "Warning: Method definition floor(Type{T<:Integer},Integer) in module Compat at /Users/dsanders/.julia/v0.3/Compat/src/Compat.jl:65 overwritten in module Compat at /Users/dsanders/.julia/v0.3/Compat/src/Compat.jl:65.\n",
        "Warning: Method definition floor(Type{T<:Integer},Real) in module Compat at /Users/dsanders/.julia/v0.3/Compat/src/Compat.jl:66 overwritten in module Compat at /Users/dsanders/.julia/v0.3/Compat/src/Compat.jl:66.\n",
        "Warning: Method definition floor(Type{T<:Integer},Rational{T<:Integer}) in module Compat at /Users/dsanders/.julia/v0.3/Compat/src/Compat.jl:67 overwritten in module Compat at /Users/dsanders/.julia/v0.3/Compat/src/Compat.jl:67.\n",
        "Warning: Method definition floor(Type{T},AbstractArray{R,1}) in module Compat at /Users/dsanders/.julia/v0.3/Compat/src/Compat.jl:69 overwritten in module Compat at /Users/dsanders/.julia/v0.3/Compat/src/Compat.jl:69.\n",
        "Warning: Method definition floor(Type{T},AbstractArray{R,2}) in module Compat at /Users/dsanders/.julia/v0.3/Compat/src/Compat.jl:72 overwritten in module Compat at /Users/dsanders/.julia/v0.3/Compat/src/Compat.jl:72.\n",
        "Warning: Method definition floor(Type{T},AbstractArray{T,N}) in module Compat at /Users/dsanders/.julia/v0.3/Compat/src/Compat.jl:75 overwritten in module Compat at /Users/dsanders/.julia/v0.3/Compat/src/Compat.jl:75.\n",
        "Warning: Method definition trunc(Type{T<:Integer},Integer) in module Compat at /Users/dsanders/.julia/v0.3/Compat/src/Compat.jl:65 overwritten in module Compat at /Users/dsanders/.julia/v0.3/Compat/src/Compat.jl:65.\n",
        "Warning: Method definition trunc(Type{T<:Integer},Real) in module Compat at /Users/dsanders/.julia/v0.3/Compat/src/Compat.jl:66 overwritten in module Compat at /Users/dsanders/.julia/v0.3/Compat/src/Compat.jl:66.\n",
        "Warning: Method definition trunc(Type{T<:Integer},Rational{T<:Integer}) in module Compat at /Users/dsanders/.julia/v0.3/Compat/src/Compat.jl:67 overwritten in module Compat at /Users/dsanders/.julia/v0.3/Compat/src/Compat.jl:67.\n",
        "Warning: Method definition trunc(Type{T},AbstractArray{R,1}) in module Compat at /Users/dsanders/.julia/v0.3/Compat/src/Compat.jl:69 overwritten in module Compat at /Users/dsanders/.julia/v0.3/Compat/src/Compat.jl:69.\n",
        "Warning: Method definition trunc(Type{T},AbstractArray{R,2}) in module Compat at /Users/dsanders/.julia/v0.3/Compat/src/Compat.jl:72 overwritten in module Compat at /Users/dsanders/.julia/v0.3/Compat/src/Compat.jl:72.\n",
        "Warning: Method definition trunc(Type{T},AbstractArray{T,N}) in module Compat at /Users/dsanders/.julia/v0.3/Compat/src/Compat.jl:75 overwritten in module Compat at /Users/dsanders/.julia/v0.3/Compat/src/Compat.jl:75.\n",
        "Warning: Method definition rand(Type{Bool},) in module Compat at /Users/dsanders/.julia/v0.3/Compat/src/Compat.jl:182 overwritten in module Compat at /Users/dsanders/.julia/v0.3/Compat/src/Compat.jl:182.\n",
        "Warning: Method definition parse(Type{T<:Integer},Char) in module Compat at /Users/dsanders/.julia/v0.3/Compat/src/Compat.jl:203 overwritten in module Compat at /Users/dsanders/.julia/v0.3/Compat/src/Compat.jl:203.\n",
        "Warning: Method definition parse(Type{T<:Integer},Char,Integer) in module Compat at /Users/dsanders/.julia/v0.3/Compat/src/Compat.jl:204 overwritten in module Compat at /Users/dsanders/.julia/v0.3/Compat/src/Compat.jl:204.\n",
        "Warning: Method definition parse(Type{T<:Integer},String) in module Compat at /Users/dsanders/.julia/v0.3/Compat/src/Compat.jl:205 overwritten in module Compat at /Users/dsanders/.julia/v0.3/Compat/src/Compat.jl:205.\n",
        "Warning: Method definition parse(Type{T<:Integer},String,Integer) in module Compat at /Users/dsanders/.julia/v0.3/Compat/src/Compat.jl:206 overwritten in module Compat at /Users/dsanders/.julia/v0.3/Compat/src/Compat.jl:206.\n",
        "Warning: Method definition parse(Type{T<:Union(Float32,Float64)},String) in module Compat at /Users/dsanders/.julia/v0.3/Compat/src/Compat.jl:207 overwritten in module Compat at /Users/dsanders/.julia/v0.3/Compat/src/Compat.jl:207.\n"
       ]
      }
     ],
     "prompt_number": 52
    },
    {
     "cell_type": "code",
     "collapsed": false,
     "input": [
      "a = Interval(1, 2)"
     ],
     "language": "python",
     "metadata": {},
     "outputs": [
      {
       "metadata": {},
       "output_type": "pyout",
       "prompt_number": 53,
       "text": [
        "[1, 2]"
       ]
      }
     ],
     "prompt_number": 53
    },
    {
     "cell_type": "code",
     "collapsed": false,
     "input": [
      "b = Interval(3, 4)"
     ],
     "language": "python",
     "metadata": {},
     "outputs": [
      {
       "metadata": {},
       "output_type": "pyout",
       "prompt_number": 54,
       "text": [
        "[3, 4]"
       ]
      }
     ],
     "prompt_number": 54
    },
    {
     "cell_type": "code",
     "collapsed": false,
     "input": [
      "a + b"
     ],
     "language": "python",
     "metadata": {},
     "outputs": [
      {
       "metadata": {},
       "output_type": "pyout",
       "prompt_number": 55,
       "text": [
        "[4, 6]"
       ]
      }
     ],
     "prompt_number": 55
    },
    {
     "cell_type": "code",
     "collapsed": false,
     "input": [
      "a - b"
     ],
     "language": "python",
     "metadata": {},
     "outputs": [
      {
       "metadata": {},
       "output_type": "pyout",
       "prompt_number": 56,
       "text": [
        "[-3, -1]"
       ]
      }
     ],
     "prompt_number": 56
    },
    {
     "cell_type": "code",
     "collapsed": false,
     "input": [
      "Interval(0.1)"
     ],
     "language": "python",
     "metadata": {},
     "outputs": [
      {
       "metadata": {},
       "output_type": "pyout",
       "prompt_number": 57,
       "text": [
        "[0.1, 0.1]"
       ]
      }
     ],
     "prompt_number": 57
    },
    {
     "cell_type": "code",
     "collapsed": false,
     "input": [
      "big(0.1)"
     ],
     "language": "python",
     "metadata": {},
     "outputs": [
      {
       "metadata": {},
       "output_type": "pyout",
       "prompt_number": 58,
       "text": [
        "1.0000000000000001e-01 with 53 bits of precision"
       ]
      }
     ],
     "prompt_number": 58
    },
    {
     "cell_type": "code",
     "collapsed": false,
     "input": [
      "@interval(0.1)"
     ],
     "language": "python",
     "metadata": {},
     "outputs": [
      {
       "metadata": {},
       "output_type": "pyout",
       "prompt_number": 59,
       "text": [
        "[9.9999999999999992e-02, 1.0000000000000001e-01]\u2085\u2083"
       ]
      }
     ],
     "prompt_number": 59
    },
    {
     "cell_type": "code",
     "collapsed": false,
     "input": [
      "macroexpand(:(@interval(0.1)))"
     ],
     "language": "python",
     "metadata": {},
     "outputs": [
      {
       "metadata": {},
       "output_type": "pyout",
       "prompt_number": 60,
       "text": [
        ":(ValidatedNumerics.big_transf(0.1))"
       ]
      }
     ],
     "prompt_number": 60
    },
    {
     "cell_type": "code",
     "collapsed": false,
     "input": [
      "ValidatedNumerics.big_transf(0.1)"
     ],
     "language": "python",
     "metadata": {},
     "outputs": [
      {
       "metadata": {},
       "output_type": "pyout",
       "prompt_number": 61,
       "text": [
        "[9.9999999999999992e-02, 1.0000000000000001e-01]\u2085\u2083"
       ]
      }
     ],
     "prompt_number": 61
    },
    {
     "cell_type": "code",
     "collapsed": false,
     "input": [
      "s = \"x + y\""
     ],
     "language": "python",
     "metadata": {},
     "outputs": [
      {
       "metadata": {},
       "output_type": "pyout",
       "prompt_number": 64,
       "text": [
        "\"x + y\""
       ]
      }
     ],
     "prompt_number": 64
    },
    {
     "cell_type": "code",
     "collapsed": false,
     "input": [
      "typeof(s)"
     ],
     "language": "python",
     "metadata": {},
     "outputs": [
      {
       "metadata": {},
       "output_type": "pyout",
       "prompt_number": 66,
       "text": [
        "ASCIIString (constructor with 2 methods)"
       ]
      }
     ],
     "prompt_number": 66
    },
    {
     "cell_type": "code",
     "collapsed": false,
     "input": [
      "expr = parse(s)"
     ],
     "language": "python",
     "metadata": {},
     "outputs": [
      {
       "metadata": {},
       "output_type": "pyout",
       "prompt_number": 67,
       "text": [
        ":(x + y)"
       ]
      }
     ],
     "prompt_number": 67
    },
    {
     "cell_type": "code",
     "collapsed": false,
     "input": [
      "typeof(expr)"
     ],
     "language": "python",
     "metadata": {},
     "outputs": [
      {
       "metadata": {},
       "output_type": "pyout",
       "prompt_number": 69,
       "text": [
        "Expr"
       ]
      }
     ],
     "prompt_number": 69
    },
    {
     "cell_type": "code",
     "collapsed": false,
     "input": [
      "dump(expr)"
     ],
     "language": "python",
     "metadata": {},
     "outputs": [
      {
       "output_type": "stream",
       "stream": "stdout",
       "text": [
        "Expr \n",
        "  head: Symbol call\n",
        "  args: Array(Any,(3,))\n",
        "    1: Symbol +\n",
        "    2: Symbol x\n",
        "    3: Symbol y\n",
        "  typ: Any\n"
       ]
      }
     ],
     "prompt_number": 70
    },
    {
     "cell_type": "code",
     "collapsed": false,
     "input": [
      "expr.args"
     ],
     "language": "python",
     "metadata": {},
     "outputs": [
      {
       "metadata": {},
       "output_type": "pyout",
       "prompt_number": 71,
       "text": [
        "3-element Array{Any,1}:\n",
        " :+\n",
        " :x\n",
        " :y"
       ]
      }
     ],
     "prompt_number": 71
    },
    {
     "cell_type": "code",
     "collapsed": false,
     "input": [
      "expr.args[2] = :z"
     ],
     "language": "python",
     "metadata": {},
     "outputs": [
      {
       "metadata": {},
       "output_type": "pyout",
       "prompt_number": 72,
       "text": [
        ":z"
       ]
      }
     ],
     "prompt_number": 72
    },
    {
     "cell_type": "code",
     "collapsed": false,
     "input": [
      "expr"
     ],
     "language": "python",
     "metadata": {},
     "outputs": [
      {
       "metadata": {},
       "output_type": "pyout",
       "prompt_number": 73,
       "text": [
        ":(z + y)"
       ]
      }
     ],
     "prompt_number": 73
    },
    {
     "cell_type": "code",
     "collapsed": false,
     "input": [
      "z"
     ],
     "language": "python",
     "metadata": {},
     "outputs": [
      {
       "ename": "LoadError",
       "evalue": "z not defined\nwhile loading In[74], in expression starting on line 1",
       "output_type": "pyerr",
       "traceback": [
        "z not defined\nwhile loading In[74], in expression starting on line 1",
        ""
       ]
      }
     ],
     "prompt_number": 74
    },
    {
     "cell_type": "code",
     "collapsed": false,
     "input": [
      "y"
     ],
     "language": "python",
     "metadata": {},
     "outputs": [
      {
       "ename": "LoadError",
       "evalue": "y not defined\nwhile loading In[75], in expression starting on line 1",
       "output_type": "pyerr",
       "traceback": [
        "y not defined\nwhile loading In[75], in expression starting on line 1",
        ""
       ]
      }
     ],
     "prompt_number": 75
    },
    {
     "cell_type": "code",
     "collapsed": false,
     "input": [
      "z = 3\n",
      "y = 4"
     ],
     "language": "python",
     "metadata": {},
     "outputs": [
      {
       "metadata": {},
       "output_type": "pyout",
       "prompt_number": 76,
       "text": [
        "4"
       ]
      }
     ],
     "prompt_number": 76
    },
    {
     "cell_type": "code",
     "collapsed": false,
     "input": [
      "eval(expr)"
     ],
     "language": "python",
     "metadata": {},
     "outputs": [
      {
       "metadata": {},
       "output_type": "pyout",
       "prompt_number": 77,
       "text": [
        "7"
       ]
      }
     ],
     "prompt_number": 77
    },
    {
     "cell_type": "code",
     "collapsed": false,
     "input": [
      "expr"
     ],
     "language": "python",
     "metadata": {},
     "outputs": [
      {
       "metadata": {},
       "output_type": "pyout",
       "prompt_number": 78,
       "text": [
        ":(z + y)"
       ]
      }
     ],
     "prompt_number": 78
    },
    {
     "cell_type": "code",
     "collapsed": false,
     "input": [
      "z"
     ],
     "language": "python",
     "metadata": {},
     "outputs": [
      {
       "metadata": {},
       "output_type": "pyout",
       "prompt_number": 79,
       "text": [
        "3"
       ]
      }
     ],
     "prompt_number": 79
    },
    {
     "cell_type": "code",
     "collapsed": false,
     "input": [
      ":z"
     ],
     "language": "python",
     "metadata": {},
     "outputs": [
      {
       "metadata": {},
       "output_type": "pyout",
       "prompt_number": 80,
       "text": [
        ":z"
       ]
      }
     ],
     "prompt_number": 80
    },
    {
     "cell_type": "code",
     "collapsed": false,
     "input": [
      "z = [3, 4]\n",
      "y = [4, 5]"
     ],
     "language": "python",
     "metadata": {},
     "outputs": [
      {
       "metadata": {},
       "output_type": "pyout",
       "prompt_number": 81,
       "text": [
        "2-element Array{Int64,1}:\n",
        " 4\n",
        " 5"
       ]
      }
     ],
     "prompt_number": 81
    },
    {
     "cell_type": "code",
     "collapsed": false,
     "input": [
      "eval(expr)"
     ],
     "language": "python",
     "metadata": {},
     "outputs": [
      {
       "metadata": {},
       "output_type": "pyout",
       "prompt_number": 82,
       "text": [
        "2-element Array{Int64,1}:\n",
        " 7\n",
        " 9"
       ]
      }
     ],
     "prompt_number": 82
    },
    {
     "cell_type": "code",
     "collapsed": false,
     "input": [
      "z = Particula(1,2,3)\n",
      "y = Particula(10, 20, 30)"
     ],
     "language": "python",
     "metadata": {},
     "outputs": [
      {
       "metadata": {},
       "output_type": "pyout",
       "prompt_number": 83,
       "text": [
        "Particula(10,20,30)"
       ]
      }
     ],
     "prompt_number": 83
    },
    {
     "cell_type": "code",
     "collapsed": false,
     "input": [
      "eval(expr)"
     ],
     "language": "python",
     "metadata": {},
     "outputs": [
      {
       "metadata": {},
       "output_type": "pyout",
       "prompt_number": 85,
       "text": [
        "Particula(11,22,93)"
       ]
      }
     ],
     "prompt_number": 85
    },
    {
     "cell_type": "code",
     "collapsed": false,
     "input": [],
     "language": "python",
     "metadata": {},
     "outputs": [
      {
       "metadata": {},
       "output_type": "pyout",
       "prompt_number": 86,
       "text": [
        "Particula(11,22,93)"
       ]
      }
     ],
     "prompt_number": 86
    },
    {
     "cell_type": "code",
     "collapsed": true,
     "input": [
      "macro transf(expr)\n",
      "    @show expr\n",
      "    expr.args[2] = :z\n",
      "    @show expr\n",
      "end"
     ],
     "language": "python",
     "metadata": {},
     "outputs": [],
     "prompt_number": 91
    },
    {
     "cell_type": "code",
     "collapsed": false,
     "input": [
      "@transf(x+y)"
     ],
     "language": "python",
     "metadata": {},
     "outputs": [
      {
       "output_type": "stream",
       "stream": "stdout",
       "text": [
        "expr => :(x + y)\n",
        "expr => :(z + y)\n"
       ]
      },
      {
       "metadata": {},
       "output_type": "pyout",
       "prompt_number": 92,
       "text": [
        "Particula(11,22,93)"
       ]
      }
     ],
     "prompt_number": 92
    },
    {
     "cell_type": "code",
     "collapsed": false,
     "input": [
      "@transf(x+x)"
     ],
     "language": "python",
     "metadata": {},
     "outputs": [
      {
       "output_type": "stream",
       "stream": "stdout",
       "text": [
        "expr => :(x + x)\n",
        "expr => :(z + x)\n"
       ]
      },
      {
       "ename": "LoadError",
       "evalue": "x not defined\nwhile loading In[93], in expression starting on line 1",
       "output_type": "pyerr",
       "traceback": [
        "x not defined\nwhile loading In[93], in expression starting on line 1",
        ""
       ]
      }
     ],
     "prompt_number": 93
    },
    {
     "cell_type": "code",
     "collapsed": false,
     "input": [
      "macro transf(expr)\n",
      "    @show expr\n",
      "    for i in 2:length(expr.args)\n",
      "        if expr.args[i] == :x\n",
      "            expr.args[i] = :z\n",
      "        end\n",
      "    end\n",
      "    @show expr\n",
      "end"
     ],
     "language": "python",
     "metadata": {},
     "outputs": [],
     "prompt_number": 95
    },
    {
     "cell_type": "code",
     "collapsed": false,
     "input": [
      "@transf(x+y)"
     ],
     "language": "python",
     "metadata": {},
     "outputs": [
      {
       "output_type": "stream",
       "stream": "stdout",
       "text": [
        "expr => :(x + y)\n",
        "expr => :(z + y)\n"
       ]
      },
      {
       "metadata": {},
       "output_type": "pyout",
       "prompt_number": 96,
       "text": [
        "Particula(11,22,93)"
       ]
      }
     ],
     "prompt_number": 96
    },
    {
     "cell_type": "code",
     "collapsed": false,
     "input": [
      "@transf(x+x)"
     ],
     "language": "python",
     "metadata": {},
     "outputs": [
      {
       "output_type": "stream",
       "stream": "stdout",
       "text": [
        "expr => :(x + x)\n",
        "expr => :(z + z)\n"
       ]
      },
      {
       "metadata": {},
       "output_type": "pyout",
       "prompt_number": 97,
       "text": [
        "Particula(2,4,12)"
       ]
      }
     ],
     "prompt_number": 97
    },
    {
     "cell_type": "code",
     "collapsed": false,
     "input": [
      "@transf(2*x)"
     ],
     "language": "python",
     "metadata": {},
     "outputs": [
      {
       "output_type": "stream",
       "stream": "stdout",
       "text": [
        "expr => :(2x)\n",
        "expr => :(2z)\n"
       ]
      },
      {
       "ename": "LoadError",
       "evalue": "`*` has no method matching *(::Int64, ::Particula)\nwhile loading In[98], in expression starting on line 1",
       "output_type": "pyerr",
       "traceback": [
        "`*` has no method matching *(::Int64, ::Particula)\nwhile loading In[98], in expression starting on line 1",
        ""
       ]
      }
     ],
     "prompt_number": 98
    },
    {
     "cell_type": "code",
     "collapsed": false,
     "input": [
      "z = 3"
     ],
     "language": "python",
     "metadata": {},
     "outputs": [
      {
       "metadata": {},
       "output_type": "pyout",
       "prompt_number": 100,
       "text": [
        "3"
       ]
      }
     ],
     "prompt_number": 100
    },
    {
     "cell_type": "code",
     "collapsed": false,
     "input": [
      "@transf(2*x)"
     ],
     "language": "python",
     "metadata": {},
     "outputs": [
      {
       "output_type": "stream",
       "stream": "stdout",
       "text": [
        "expr => :(2x)\n",
        "expr => :(2z)\n"
       ]
      },
      {
       "metadata": {},
       "output_type": "pyout",
       "prompt_number": 101,
       "text": [
        "6"
       ]
      }
     ],
     "prompt_number": 101
    },
    {
     "cell_type": "code",
     "collapsed": false,
     "input": [
      "macroexpand(:(@transf(x+y)))"
     ],
     "language": "python",
     "metadata": {},
     "outputs": [
      {
       "output_type": "stream",
       "stream": "stdout",
       "text": [
        "expr => :(x + y)\n",
        "expr => :(z + y)\n"
       ]
      },
      {
       "metadata": {},
       "output_type": "pyout",
       "prompt_number": 102,
       "text": [
        ":(z + y)"
       ]
      }
     ],
     "prompt_number": 102
    },
    {
     "cell_type": "code",
     "collapsed": false,
     "input": [
      "macroexpand(:(@time sin(10)))"
     ],
     "language": "python",
     "metadata": {},
     "outputs": [
      {
       "metadata": {},
       "output_type": "pyout",
       "prompt_number": 103,
       "text": [
        "quote  # util.jl, line 53:\n",
        "    local #436#b0 = LastMain.Base.gc_bytes() # line 54:\n",
        "    local #437#t0 = LastMain.Base.time_ns() # line 55:\n",
        "    local #438#g0 = LastMain.Base.gc_time_ns() # line 56:\n",
        "    local #439#val = sin(10) # line 57:\n",
        "    local #440#g1 = LastMain.Base.gc_time_ns() # line 58:\n",
        "    local #441#t1 = LastMain.Base.time_ns() # line 59:\n",
        "    local #442#b1 = LastMain.Base.gc_bytes() # line 60:\n",
        "    LastMain.Base.time_print(LastMain.Base.-(#441#t1,#437#t0),LastMain.Base.-(#442#b1,#436#b0),LastMain.Base.-(#440#g1,#438#g0)) # line 61:\n",
        "    #439#val\n",
        "end"
       ]
      }
     ],
     "prompt_number": 103
    },
    {
     "cell_type": "code",
     "collapsed": false,
     "input": [
      "s = :x"
     ],
     "language": "python",
     "metadata": {},
     "outputs": [
      {
       "metadata": {},
       "output_type": "pyout",
       "prompt_number": 104,
       "text": [
        ":x"
       ]
      }
     ],
     "prompt_number": 104
    },
    {
     "cell_type": "code",
     "collapsed": false,
     "input": [
      "typeof(s)"
     ],
     "language": "python",
     "metadata": {},
     "outputs": [
      {
       "metadata": {},
       "output_type": "pyout",
       "prompt_number": 105,
       "text": [
        "Symbol"
       ]
      }
     ],
     "prompt_number": 105
    },
    {
     "cell_type": "code",
     "collapsed": false,
     "input": [
      "ex = :(x + y)"
     ],
     "language": "python",
     "metadata": {},
     "outputs": [
      {
       "metadata": {},
       "output_type": "pyout",
       "prompt_number": 107,
       "text": [
        ":(x + y)"
       ]
      }
     ],
     "prompt_number": 107
    },
    {
     "cell_type": "code",
     "collapsed": false,
     "input": [
      "typeof(ex)"
     ],
     "language": "python",
     "metadata": {},
     "outputs": [
      {
       "metadata": {},
       "output_type": "pyout",
       "prompt_number": 108,
       "text": [
        "Expr"
       ]
      }
     ],
     "prompt_number": 108
    },
    {
     "cell_type": "code",
     "collapsed": false,
     "input": [
      "ex = :(x + 3y^2 - sin(16))"
     ],
     "language": "python",
     "metadata": {},
     "outputs": [
      {
       "metadata": {},
       "output_type": "pyout",
       "prompt_number": 109,
       "text": [
        ":((x + 3 * y^2) - sin(16))"
       ]
      }
     ],
     "prompt_number": 109
    },
    {
     "cell_type": "code",
     "collapsed": false,
     "input": [
      "typeof(ex)"
     ],
     "language": "python",
     "metadata": {},
     "outputs": [
      {
       "metadata": {},
       "output_type": "pyout",
       "prompt_number": 110,
       "text": [
        "Expr"
       ]
      }
     ],
     "prompt_number": 110
    },
    {
     "cell_type": "code",
     "collapsed": false,
     "input": [
      "dump(ex)"
     ],
     "language": "python",
     "metadata": {
      "scrolled": true
     },
     "outputs": [
      {
       "output_type": "stream",
       "stream": "stdout",
       "text": [
        "Expr \n",
        "  head: Symbol call\n",
        "  args: Array(Any,(3,))\n",
        "    1: Symbol -\n",
        "    2: Expr \n",
        "      head: Symbol call\n",
        "      args: Array(Any,(3,))\n",
        "        1: Symbol +\n",
        "        2: Symbol x\n",
        "        3: Expr \n",
        "          head: Symbol call\n",
        "          args: Array(Any,(3,))\n",
        "          typ: Any\n",
        "      typ: Any\n",
        "    3: Expr \n",
        "      head: Symbol call\n",
        "      args: Array(Any,(2,))\n",
        "        1: Symbol sin\n",
        "        2: Int64 16\n",
        "      typ: Any\n",
        "  typ: Any\n"
       ]
      }
     ],
     "prompt_number": 111
    },
    {
     "cell_type": "code",
     "collapsed": false,
     "input": [
      "ex = :(eig(M))"
     ],
     "language": "python",
     "metadata": {},
     "outputs": [
      {
       "metadata": {},
       "output_type": "pyout",
       "prompt_number": 112,
       "text": [
        ":(eig(M))"
       ]
      }
     ],
     "prompt_number": 112
    },
    {
     "cell_type": "code",
     "collapsed": false,
     "input": [
      "dump"
     ],
     "language": "python",
     "metadata": {},
     "outputs": [
      {
       "metadata": {},
       "output_type": "pyout",
       "prompt_number": 113,
       "text": [
        "dump (generic function with 12 methods)"
       ]
      }
     ],
     "prompt_number": 113
    },
    {
     "cell_type": "code",
     "collapsed": false,
     "input": [
      "dump(ex)"
     ],
     "language": "python",
     "metadata": {},
     "outputs": [
      {
       "output_type": "stream",
       "stream": "stdout",
       "text": [
        "Expr \n",
        "  head: Symbol call\n",
        "  args: Array(Any,(2,))\n",
        "    1: Symbol eig\n",
        "    2: Symbol M\n",
        "  typ: Any\n"
       ]
      }
     ],
     "prompt_number": 114
    },
    {
     "cell_type": "code",
     "collapsed": false,
     "input": [
      "Meta.show_sexpr(ex)"
     ],
     "language": "python",
     "metadata": {},
     "outputs": [
      {
       "output_type": "stream",
       "stream": "stdout",
       "text": [
        "(:call, :eig, :M)"
       ]
      }
     ],
     "prompt_number": 115
    },
    {
     "cell_type": "code",
     "collapsed": true,
     "input": [],
     "language": "python",
     "metadata": {},
     "outputs": [],
     "prompt_number": null
    }
   ],
   "metadata": {}
  }
 ]
}