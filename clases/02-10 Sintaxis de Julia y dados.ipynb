{
 "metadata": {
  "language": "Julia",
  "name": "",
  "signature": "sha256:661b8b2973cf7835e8d4ea8c7866d91d1ff928afa13cd613520b4065bf10a3ce"
 },
 "nbformat": 3,
 "nbformat_minor": 0,
 "worksheets": [
  {
   "cells": [
    {
     "cell_type": "heading",
     "level": 1,
     "metadata": {},
     "source": [
      "Rangos, arreglos y variables"
     ]
    },
    {
     "cell_type": "markdown",
     "metadata": {},
     "source": [
      "Si tecleo algo:"
     ]
    },
    {
     "cell_type": "code",
     "collapsed": false,
     "input": [
      "3"
     ],
     "language": "python",
     "metadata": {},
     "outputs": [
      {
       "metadata": {},
       "output_type": "pyout",
       "prompt_number": 1,
       "text": [
        "3"
       ]
      }
     ],
     "prompt_number": 1
    },
    {
     "cell_type": "markdown",
     "metadata": {},
     "source": [
      "Me devuelve el valor de la expresi\u00f3n."
     ]
    },
    {
     "cell_type": "markdown",
     "metadata": {},
     "source": [
      "Si tecleo 2 cosas:"
     ]
    },
    {
     "cell_type": "code",
     "collapsed": false,
     "input": [
      "3\n",
      "4"
     ],
     "language": "python",
     "metadata": {},
     "outputs": [
      {
       "metadata": {},
       "output_type": "pyout",
       "prompt_number": 2,
       "text": [
        "4"
       ]
      }
     ],
     "prompt_number": 2
    },
    {
     "cell_type": "markdown",
     "metadata": {},
     "source": [
      "Me devuelve la \u00faltima \u00fanicamente."
     ]
    },
    {
     "cell_type": "code",
     "collapsed": false,
     "input": [
      "3\n",
      "4;"
     ],
     "language": "python",
     "metadata": {},
     "outputs": [],
     "prompt_number": 3
    },
    {
     "cell_type": "markdown",
     "metadata": {},
     "source": [
      "`;` implica que no devuelva nada (o al menos, que no lo imprima)."
     ]
    },
    {
     "cell_type": "code",
     "collapsed": false,
     "input": [
      "1:6"
     ],
     "language": "python",
     "metadata": {},
     "outputs": [
      {
       "metadata": {},
       "output_type": "pyout",
       "prompt_number": 5,
       "text": [
        "1:6"
       ]
      }
     ],
     "prompt_number": 5
    },
    {
     "cell_type": "code",
     "collapsed": false,
     "input": [
      "typeof(ans)  # dame el tipo de la \u00faltima respuesta"
     ],
     "language": "python",
     "metadata": {},
     "outputs": [
      {
       "metadata": {},
       "output_type": "pyout",
       "prompt_number": 6,
       "text": [
        "UnitRange{Int64} (constructor with 1 method)"
       ]
      }
     ],
     "prompt_number": 6
    },
    {
     "cell_type": "markdown",
     "metadata": {},
     "source": [
      "El objeto `1:6` es de tipo `UnitRange`, \"rellenado\" con enteros con 64 bits.\n",
      "\n",
      "**No es un arreglo**. Para hacer un arreglo:"
     ]
    },
    {
     "cell_type": "code",
     "collapsed": false,
     "input": [
      "[1:6]"
     ],
     "language": "python",
     "metadata": {},
     "outputs": [
      {
       "metadata": {},
       "output_type": "pyout",
       "prompt_number": 9,
       "text": [
        "6-element Array{Int64,1}:\n",
        " 1\n",
        " 2\n",
        " 3\n",
        " 4\n",
        " 5\n",
        " 6"
       ]
      }
     ],
     "prompt_number": 9
    },
    {
     "cell_type": "markdown",
     "metadata": {},
     "source": [
      "Darle un nombre:"
     ]
    },
    {
     "cell_type": "code",
     "collapsed": false,
     "input": [
      "a = [1:6]"
     ],
     "language": "python",
     "metadata": {},
     "outputs": [
      {
       "metadata": {},
       "output_type": "pyout",
       "prompt_number": 12,
       "text": [
        "6-element Array{Int64,1}:\n",
        " 1\n",
        " 2\n",
        " 3\n",
        " 4\n",
        " 5\n",
        " 6"
       ]
      }
     ],
     "prompt_number": 12
    },
    {
     "cell_type": "code",
     "collapsed": false,
     "input": [
      "a"
     ],
     "language": "python",
     "metadata": {},
     "outputs": [
      {
       "metadata": {},
       "output_type": "pyout",
       "prompt_number": 13,
       "text": [
        "6-element Array{Int64,1}:\n",
        " 1\n",
        " 2\n",
        " 3\n",
        " 4\n",
        " 5\n",
        " 6"
       ]
      }
     ],
     "prompt_number": 13
    },
    {
     "cell_type": "markdown",
     "metadata": {},
     "source": [
      "Un solo `=` quiere decir asignarle un valor a la variable del lado izquierdo."
     ]
    },
    {
     "cell_type": "markdown",
     "metadata": {},
     "source": [
      "Un rango ocupa (mucho) menos memoria que un arreglo y es m\u00e1s r\u00e1pido. No almacena nada, sino va generando valores en el vuelo."
     ]
    },
    {
     "cell_type": "heading",
     "level": 1,
     "metadata": {},
     "source": [
      "Cosas aleatorias"
     ]
    },
    {
     "cell_type": "code",
     "collapsed": false,
     "input": [
      "rand"
     ],
     "language": "python",
     "metadata": {},
     "outputs": [
      {
       "metadata": {},
       "output_type": "pyout",
       "prompt_number": 14,
       "text": [
        "rand (generic function with 33 methods)"
       ]
      }
     ],
     "prompt_number": 14
    },
    {
     "cell_type": "markdown",
     "metadata": {},
     "source": [
      "Si s\u00f3lo pongo el nombre de una funci\u00f3n, me dice que es una funci\u00f3n."
     ]
    },
    {
     "cell_type": "markdown",
     "metadata": {},
     "source": [
      "Para llamarla, uso par\u00e9ntesis:"
     ]
    },
    {
     "cell_type": "code",
     "collapsed": false,
     "input": [
      "rand()"
     ],
     "language": "python",
     "metadata": {},
     "outputs": [
      {
       "metadata": {},
       "output_type": "pyout",
       "prompt_number": 15,
       "text": [
        "0.04356307688870609"
       ]
      }
     ],
     "prompt_number": 15
    },
    {
     "cell_type": "markdown",
     "metadata": {},
     "source": [
      "Regresa un n\u00famero ((p)seudo-)aleatorio uniformemente entre $0$ y $1$."
     ]
    },
    {
     "cell_type": "code",
     "collapsed": false,
     "input": [
      "rand()"
     ],
     "language": "python",
     "metadata": {},
     "outputs": [
      {
       "metadata": {},
       "output_type": "pyout",
       "prompt_number": 16,
       "text": [
        "0.789999205620963"
       ]
      }
     ],
     "prompt_number": 16
    },
    {
     "cell_type": "markdown",
     "metadata": {},
     "source": [
      "En Julia, para averiguar cu\u00e1l funci\u00f3n se est\u00e1 llamando, usamos `@which` y ponemos la llamada completa de la funci\u00f3n:"
     ]
    },
    {
     "cell_type": "code",
     "collapsed": false,
     "input": [
      "@which rand()"
     ],
     "language": "python",
     "metadata": {},
     "outputs": [
      {
       "html": [
        "rand() at <a href=\"https://github.com/JuliaLang/julia/tree/2dfde6b8266493e6d680b48ed01c188b4e4ba3ac/base/random.jl#L90\" target=\"_blank\">random.jl:90</a>"
       ],
       "metadata": {},
       "output_type": "pyout",
       "prompt_number": 17,
       "text": [
        "rand() at random.jl:90"
       ]
      }
     ],
     "prompt_number": 17
    },
    {
     "cell_type": "code",
     "collapsed": false,
     "input": [
      "rand(1:6)"
     ],
     "language": "python",
     "metadata": {},
     "outputs": [
      {
       "metadata": {},
       "output_type": "pyout",
       "prompt_number": 18,
       "text": [
        "6"
       ]
      }
     ],
     "prompt_number": 18
    },
    {
     "cell_type": "markdown",
     "metadata": {},
     "source": [
      "[Si uso `Ctrl-Enter`, se queda en la misma celda.]"
     ]
    },
    {
     "cell_type": "code",
     "collapsed": false,
     "input": [
      "6 * rand()"
     ],
     "language": "python",
     "metadata": {},
     "outputs": [
      {
       "metadata": {},
       "output_type": "pyout",
       "prompt_number": 30,
       "text": [
        "3.3084213096475072"
       ]
      }
     ],
     "prompt_number": 30
    },
    {
     "cell_type": "markdown",
     "metadata": {},
     "source": [
      "Quiero enteros:"
     ]
    },
    {
     "cell_type": "code",
     "collapsed": false,
     "input": [
      "int(6 * rand())"
     ],
     "language": "python",
     "metadata": {},
     "outputs": [
      {
       "metadata": {},
       "output_type": "pyout",
       "prompt_number": 55,
       "text": [
        "2"
       ]
      }
     ],
     "prompt_number": 55
    },
    {
     "cell_type": "code",
     "collapsed": false,
     "input": [
      "int(3.6)"
     ],
     "language": "python",
     "metadata": {},
     "outputs": [
      {
       "metadata": {},
       "output_type": "pyout",
       "prompt_number": 56,
       "text": [
        "4"
       ]
      }
     ],
     "prompt_number": 56
    },
    {
     "cell_type": "markdown",
     "metadata": {},
     "source": [
      "\u00a1`int` redondea!"
     ]
    },
    {
     "cell_type": "code",
     "collapsed": false,
     "input": [
      "floor(3.6)"
     ],
     "language": "python",
     "metadata": {},
     "outputs": [
      {
       "metadata": {},
       "output_type": "pyout",
       "prompt_number": 58,
       "text": [
        "3.0"
       ]
      }
     ],
     "prompt_number": 58
    },
    {
     "cell_type": "code",
     "collapsed": false,
     "input": [
      "floor(-3.6)"
     ],
     "language": "python",
     "metadata": {},
     "outputs": [
      {
       "metadata": {},
       "output_type": "pyout",
       "prompt_number": 59,
       "text": [
        "-4.0"
       ]
      }
     ],
     "prompt_number": 59
    },
    {
     "cell_type": "code",
     "collapsed": false,
     "input": [
      "floor(6 * rand())"
     ],
     "language": "python",
     "metadata": {},
     "outputs": [
      {
       "metadata": {},
       "output_type": "pyout",
       "prompt_number": 60,
       "text": [
        "1.0"
       ]
      }
     ],
     "prompt_number": 60
    },
    {
     "cell_type": "code",
     "collapsed": false,
     "input": [
      "ceil(6 * rand())"
     ],
     "language": "python",
     "metadata": {},
     "outputs": [
      {
       "metadata": {},
       "output_type": "pyout",
       "prompt_number": 80,
       "text": [
        "3.0"
       ]
      }
     ],
     "prompt_number": 80
    },
    {
     "cell_type": "code",
     "collapsed": false,
     "input": [
      "1 + floor(6 * rand())"
     ],
     "language": "python",
     "metadata": {},
     "outputs": [
      {
       "metadata": {},
       "output_type": "pyout",
       "prompt_number": 81,
       "text": [
        "4.0"
       ]
      }
     ],
     "prompt_number": 81
    },
    {
     "cell_type": "code",
     "collapsed": false,
     "input": [
      "function dado()\n",
      "    int( 1 + floor(6 * rand()) )\n",
      "end"
     ],
     "language": "python",
     "metadata": {},
     "outputs": [
      {
       "metadata": {},
       "output_type": "pyout",
       "prompt_number": 85,
       "text": [
        "dado (generic function with 1 method)"
       ]
      }
     ],
     "prompt_number": 85
    },
    {
     "cell_type": "code",
     "collapsed": false,
     "input": [
      "function dado2()\n",
      "    rand(1:6)\n",
      "end"
     ],
     "language": "python",
     "metadata": {},
     "outputs": [
      {
       "metadata": {},
       "output_type": "pyout",
       "prompt_number": 86,
       "text": [
        "dado2 (generic function with 1 method)"
       ]
      }
     ],
     "prompt_number": 86
    },
    {
     "cell_type": "code",
     "collapsed": false,
     "input": [
      "function dado(num_caras)\n",
      "    int( 1 + floor(num_caras * rand()) )\n",
      "end"
     ],
     "language": "python",
     "metadata": {},
     "outputs": [
      {
       "metadata": {},
       "output_type": "pyout",
       "prompt_number": 88,
       "text": [
        "dado (generic function with 2 methods)"
       ]
      }
     ],
     "prompt_number": 88
    },
    {
     "cell_type": "code",
     "collapsed": false,
     "input": [
      "dado"
     ],
     "language": "python",
     "metadata": {},
     "outputs": [
      {
       "metadata": {},
       "output_type": "pyout",
       "prompt_number": 89,
       "text": [
        "dado (generic function with 2 methods)"
       ]
      }
     ],
     "prompt_number": 89
    },
    {
     "cell_type": "code",
     "collapsed": false,
     "input": [
      "dado()"
     ],
     "language": "python",
     "metadata": {},
     "outputs": [
      {
       "metadata": {},
       "output_type": "pyout",
       "prompt_number": 102,
       "text": [
        "4"
       ]
      }
     ],
     "prompt_number": 102
    },
    {
     "cell_type": "code",
     "collapsed": false,
     "input": [
      "dado(2) # una moneda"
     ],
     "language": "python",
     "metadata": {},
     "outputs": [
      {
       "metadata": {},
       "output_type": "pyout",
       "prompt_number": 137,
       "text": [
        "1"
       ]
      }
     ],
     "prompt_number": 137
    },
    {
     "cell_type": "code",
     "collapsed": false,
     "input": [
      "dado"
     ],
     "language": "python",
     "metadata": {},
     "outputs": [
      {
       "metadata": {},
       "output_type": "pyout",
       "prompt_number": 138,
       "text": [
        "dado (generic function with 2 methods)"
       ]
      }
     ],
     "prompt_number": 138
    },
    {
     "cell_type": "code",
     "collapsed": false,
     "input": [
      "methods(dado)"
     ],
     "language": "python",
     "metadata": {},
     "outputs": [
      {
       "html": [
        "2 methods for generic function <b>dado</b>:<ul><li> dado() at In[85]:2<li> dado(num_caras) at In[88]:2</ul>"
       ],
       "metadata": {},
       "output_type": "pyout",
       "prompt_number": 139,
       "text": [
        "# 2 methods for generic function \"dado\":\n",
        "dado() at In[85]:2\n",
        "dado(num_caras) at In[88]:2"
       ]
      }
     ],
     "prompt_number": 139
    },
    {
     "cell_type": "code",
     "collapsed": false,
     "input": [
      "function dado(num_caras=6)\n",
      "    int( 1 + floor(num_caras * rand()) )\n",
      "end"
     ],
     "language": "python",
     "metadata": {},
     "outputs": [
      {
       "metadata": {},
       "output_type": "pyout",
       "prompt_number": 140,
       "text": [
        "dado (generic function with 2 methods)"
       ]
      }
     ],
     "prompt_number": 140
    },
    {
     "cell_type": "code",
     "collapsed": false,
     "input": [
      "methods(dado)"
     ],
     "language": "python",
     "metadata": {},
     "outputs": [
      {
       "html": [
        "2 methods for generic function <b>dado</b>:<ul><li> dado() at In[140]:2<li> dado(num_caras) at In[140]:2</ul>"
       ],
       "metadata": {},
       "output_type": "pyout",
       "prompt_number": 141,
       "text": [
        "# 2 methods for generic function \"dado\":\n",
        "dado() at In[140]:2\n",
        "dado(num_caras) at In[140]:2"
       ]
      }
     ],
     "prompt_number": 141
    },
    {
     "cell_type": "code",
     "collapsed": false,
     "input": [
      "dado()"
     ],
     "language": "python",
     "metadata": {},
     "outputs": [
      {
       "metadata": {},
       "output_type": "pyout",
       "prompt_number": 142,
       "text": [
        "5"
       ]
      }
     ],
     "prompt_number": 142
    },
    {
     "cell_type": "code",
     "collapsed": false,
     "input": [
      "dado(10)"
     ],
     "language": "python",
     "metadata": {},
     "outputs": [
      {
       "metadata": {},
       "output_type": "pyout",
       "prompt_number": 143,
       "text": [
        "9"
       ]
      }
     ],
     "prompt_number": 143
    },
    {
     "cell_type": "markdown",
     "metadata": {},
     "source": [
      "El valor por default (`num_caras=6`) hace *dos* m\u00e9todos distintos de la funci\u00f3n."
     ]
    },
    {
     "cell_type": "code",
     "collapsed": false,
     "input": [
      "methods(rand)"
     ],
     "language": "python",
     "metadata": {},
     "outputs": [
      {
       "html": [
        "33 methods for generic function <b>rand</b>:<ul><li> rand(::<b>Type{Float64}</b>) at <a href=\"https://github.com/JuliaLang/julia/tree/2dfde6b8266493e6d680b48ed01c188b4e4ba3ac/base/random.jl#L89\" target=\"_blank\">random.jl:89</a><li> rand() at <a href=\"https://github.com/JuliaLang/julia/tree/2dfde6b8266493e6d680b48ed01c188b4e4ba3ac/base/random.jl#L90\" target=\"_blank\">random.jl:90</a><li> rand(::<b>Type{Float32}</b>) at <a href=\"https://github.com/JuliaLang/julia/tree/2dfde6b8266493e6d680b48ed01c188b4e4ba3ac/base/random.jl#L92\" target=\"_blank\">random.jl:92</a><li> rand(::<b>Type{Float16}</b>) at <a href=\"https://github.com/JuliaLang/julia/tree/2dfde6b8266493e6d680b48ed01c188b4e4ba3ac/base/random.jl#L93\" target=\"_blank\">random.jl:93</a><li> rand<i>{T<:Real}</i>(::<b>Type{Complex{T<:Real}}</b>) at <a href=\"https://github.com/JuliaLang/julia/tree/2dfde6b8266493e6d680b48ed01c188b4e4ba3ac/base/random.jl#L95\" target=\"_blank\">random.jl:95</a><li> rand(r::<b>MersenneTwister</b>) at <a href=\"https://github.com/JuliaLang/julia/tree/2dfde6b8266493e6d680b48ed01c188b4e4ba3ac/base/random.jl#L98\" target=\"_blank\">random.jl:98</a><li> rand(::<b>Type{Uint8}</b>) at <a href=\"https://github.com/JuliaLang/julia/tree/2dfde6b8266493e6d680b48ed01c188b4e4ba3ac/base/random.jl#L105\" target=\"_blank\">random.jl:105</a><li> rand(::<b>Type{Uint16}</b>) at <a href=\"https://github.com/JuliaLang/julia/tree/2dfde6b8266493e6d680b48ed01c188b4e4ba3ac/base/random.jl#L106\" target=\"_blank\">random.jl:106</a><li> rand(::<b>Type{Uint32}</b>) at <a href=\"https://github.com/JuliaLang/julia/tree/2dfde6b8266493e6d680b48ed01c188b4e4ba3ac/base/random.jl#L107\" target=\"_blank\">random.jl:107</a><li> rand(::<b>Type{Uint64}</b>) at <a href=\"https://github.com/JuliaLang/julia/tree/2dfde6b8266493e6d680b48ed01c188b4e4ba3ac/base/random.jl#L108\" target=\"_blank\">random.jl:108</a><li> rand(::<b>Type{Uint128}</b>) at <a href=\"https://github.com/JuliaLang/julia/tree/2dfde6b8266493e6d680b48ed01c188b4e4ba3ac/base/random.jl#L109\" target=\"_blank\">random.jl:109</a><li> rand(::<b>Type{Int8}</b>) at <a href=\"https://github.com/JuliaLang/julia/tree/2dfde6b8266493e6d680b48ed01c188b4e4ba3ac/base/random.jl#L111\" target=\"_blank\">random.jl:111</a><li> rand(::<b>Type{Int16}</b>) at <a href=\"https://github.com/JuliaLang/julia/tree/2dfde6b8266493e6d680b48ed01c188b4e4ba3ac/base/random.jl#L112\" target=\"_blank\">random.jl:112</a><li> rand(::<b>Type{Int32}</b>) at <a href=\"https://github.com/JuliaLang/julia/tree/2dfde6b8266493e6d680b48ed01c188b4e4ba3ac/base/random.jl#L113\" target=\"_blank\">random.jl:113</a><li> rand(::<b>Type{Int64}</b>) at <a href=\"https://github.com/JuliaLang/julia/tree/2dfde6b8266493e6d680b48ed01c188b4e4ba3ac/base/random.jl#L114\" target=\"_blank\">random.jl:114</a><li> rand(::<b>Type{Int128}</b>) at <a href=\"https://github.com/JuliaLang/julia/tree/2dfde6b8266493e6d680b48ed01c188b4e4ba3ac/base/random.jl#L115\" target=\"_blank\">random.jl:115</a><li> rand(::<b>Type{Float64}</b>,dims::<b>(Int64...,)</b>) at <a href=\"https://github.com/JuliaLang/julia/tree/2dfde6b8266493e6d680b48ed01c188b4e4ba3ac/base/random.jl#L119\" target=\"_blank\">random.jl:119</a><li> rand(::<b>Type{Float64}</b>,dims::<b>Int64...</b>) at <a href=\"https://github.com/JuliaLang/julia/tree/2dfde6b8266493e6d680b48ed01c188b4e4ba3ac/base/random.jl#L120\" target=\"_blank\">random.jl:120</a><li> rand(dims::<b>(Int64...,)</b>) at <a href=\"https://github.com/JuliaLang/julia/tree/2dfde6b8266493e6d680b48ed01c188b4e4ba3ac/base/random.jl#L122\" target=\"_blank\">random.jl:122</a><li> rand(dims::<b>Int64...</b>) at <a href=\"https://github.com/JuliaLang/julia/tree/2dfde6b8266493e6d680b48ed01c188b4e4ba3ac/base/random.jl#L123\" target=\"_blank\">random.jl:123</a><li> rand(r::<b>AbstractRNG</b>,dims::<b>(Int64...,)</b>) at <a href=\"https://github.com/JuliaLang/julia/tree/2dfde6b8266493e6d680b48ed01c188b4e4ba3ac/base/random.jl#L125\" target=\"_blank\">random.jl:125</a><li> rand(r::<b>AbstractRNG</b>,dims::<b>Int64...</b>) at <a href=\"https://github.com/JuliaLang/julia/tree/2dfde6b8266493e6d680b48ed01c188b4e4ba3ac/base/random.jl#L126\" target=\"_blank\">random.jl:126</a><li> rand(::<b>Type{Bool}</b>) at <a href=\"https://github.com/JuliaLang/Compat.jl/tree/0b4b92a2d9f868eef869c3dcb3e7df7e2a62eca4/src/Compat.jl#L149\" target=\"_blank\">/Users/dsanders/.julia/v0.3/Compat/src/Compat.jl:149</a><li> rand<i>{T<:Number}</i>(::<b>Type{T<:Number}</b>) at <a href=\"https://github.com/JuliaLang/julia/tree/2dfde6b8266493e6d680b48ed01c188b4e4ba3ac/base/random.jl#L143\" target=\"_blank\">random.jl:143</a><li> rand(T::<b>Type{T<:Top}</b>,dims::<b>(Int64...,)</b>) at <a href=\"https://github.com/JuliaLang/julia/tree/2dfde6b8266493e6d680b48ed01c188b4e4ba3ac/base/random.jl#L142\" target=\"_blank\">random.jl:142</a><li> rand<i>{T<:Number}</i>(::<b>Type{T<:Number}</b>,dims::<b>Int64...</b>) at <a href=\"https://github.com/JuliaLang/julia/tree/2dfde6b8266493e6d680b48ed01c188b4e4ba3ac/base/random.jl#L144\" target=\"_blank\">random.jl:144</a><li> rand<i>{T<:Union(Int64,Uint64)}</i>(g::<b>RandIntGen{T<:Union(Int64,Uint64),Uint64}</b>) at <a href=\"https://github.com/JuliaLang/julia/tree/2dfde6b8266493e6d680b48ed01c188b4e4ba3ac/base/random.jl#L186\" target=\"_blank\">random.jl:186</a><li> rand<i>{T<:Integer,U<:Unsigned}</i>(g::<b>RandIntGen{T<:Integer,U<:Unsigned}</b>) at <a href=\"https://github.com/JuliaLang/julia/tree/2dfde6b8266493e6d680b48ed01c188b4e4ba3ac/base/random.jl#L202\" target=\"_blank\">random.jl:202</a><li> rand<i>{T<:Union(Unsigned,Char,Signed,Bool)}</i>(r::<b>UnitRange{T<:Union(Unsigned,Char,Signed,Bool)}</b>) at <a href=\"https://github.com/JuliaLang/julia/tree/2dfde6b8266493e6d680b48ed01c188b4e4ba3ac/base/random.jl#L209\" target=\"_blank\">random.jl:209</a><li> rand<i>{T}</i>(r::<b>Range{T}</b>) at <a href=\"https://github.com/JuliaLang/julia/tree/2dfde6b8266493e6d680b48ed01c188b4e4ba3ac/base/random.jl#L210\" target=\"_blank\">random.jl:210</a><li> rand<i>{T}</i>(r::<b>Range{T}</b>,dims::<b>(Int64...,)</b>) at <a href=\"https://github.com/JuliaLang/julia/tree/2dfde6b8266493e6d680b48ed01c188b4e4ba3ac/base/random.jl#L229\" target=\"_blank\">random.jl:229</a><li> rand(r::<b>Range{T}</b>,dims::<b>Int64...</b>) at <a href=\"https://github.com/JuliaLang/julia/tree/2dfde6b8266493e6d680b48ed01c188b4e4ba3ac/base/random.jl#L230\" target=\"_blank\">random.jl:230</a><li> rand(state::<b>DSFMT_state</b>) at <a href=\"https://github.com/JuliaLang/julia/tree/2dfde6b8266493e6d680b48ed01c188b4e4ba3ac/base/random.jl#L736\" target=\"_blank\">random.jl:736</a></ul>"
       ],
       "metadata": {},
       "output_type": "pyout",
       "prompt_number": 144,
       "text": [
        "# 33 methods for generic function \"rand\":\n",
        "rand(::Type{Float64}) at random.jl:89\n",
        "rand() at random.jl:90\n",
        "rand(::Type{Float32}) at random.jl:92\n",
        "rand(::Type{Float16}) at random.jl:93\n",
        "rand{T<:Real}(::Type{Complex{T<:Real}}) at random.jl:95\n",
        "rand(r::MersenneTwister) at random.jl:98\n",
        "rand(::Type{Uint8}) at random.jl:105\n",
        "rand(::Type{Uint16}) at random.jl:106\n",
        "rand(::Type{Uint32}) at random.jl:107\n",
        "rand(::Type{Uint64}) at random.jl:108\n",
        "rand(::Type{Uint128}) at random.jl:109\n",
        "rand(::Type{Int8}) at random.jl:111\n",
        "rand(::Type{Int16}) at random.jl:112\n",
        "rand(::Type{Int32}) at random.jl:113\n",
        "rand(::Type{Int64}) at random.jl:114\n",
        "rand(::Type{Int128}) at random.jl:115\n",
        "rand(::Type{Float64},dims::(Int64...,)) at random.jl:119\n",
        "rand(::Type{Float64},dims::Int64...) at random.jl:120\n",
        "rand(dims::(Int64...,)) at random.jl:122\n",
        "rand(dims::Int64...) at random.jl:123\n",
        "rand(r::AbstractRNG,dims::(Int64...,)) at random.jl:125\n",
        "rand(r::AbstractRNG,dims::Int64...) at random.jl:126\n",
        "rand(::Type{Bool}) at /Users/dsanders/.julia/v0.3/Compat/src/Compat.jl:149\n",
        "rand{T<:Number}(::Type{T<:Number}) at random.jl:143\n",
        "rand(T::Type{T<:Top},dims::(Int64...,)) at random.jl:142\n",
        "rand{T<:Number}(::Type{T<:Number},dims::Int64...) at random.jl:144\n",
        "rand{T<:Union(Int64,Uint64)}(g::RandIntGen{T<:Union(Int64,Uint64),Uint64}) at random.jl:186\n",
        "rand{T<:Integer,U<:Unsigned}(g::RandIntGen{T<:Integer,U<:Unsigned}) at random.jl:202\n",
        "rand{T<:Union(Unsigned,Char,Signed,Bool)}(r::UnitRange{T<:Union(Unsigned,Char,Signed,Bool)}) at random.jl:209\n",
        "rand{T}(r::Range{T}) at random.jl:210\n",
        "rand{T}(r::Range{T},dims::(Int64...,)) at random.jl:229\n",
        "rand(r::Range{T},dims::Int64...) at random.jl:230\n",
        "rand(state::DSFMT_state) at random.jl:736"
       ]
      }
     ],
     "prompt_number": 144
    },
    {
     "cell_type": "code",
     "collapsed": false,
     "input": [
      "rand(1:6, 10)"
     ],
     "language": "python",
     "metadata": {},
     "outputs": [
      {
       "metadata": {},
       "output_type": "pyout",
       "prompt_number": 145,
       "text": [
        "10-element Array{Int64,1}:\n",
        " 2\n",
        " 2\n",
        " 1\n",
        " 3\n",
        " 2\n",
        " 5\n",
        " 3\n",
        " 5\n",
        " 1\n",
        " 3"
       ]
      }
     ],
     "prompt_number": 145
    },
    {
     "cell_type": "code",
     "collapsed": false,
     "input": [
      "@which rand(1:6, 10)"
     ],
     "language": "python",
     "metadata": {},
     "outputs": [
      {
       "html": [
        "rand(r::<b>Range{T}</b>,dims::<b>Int64...</b>) at <a href=\"https://github.com/JuliaLang/julia/tree/2dfde6b8266493e6d680b48ed01c188b4e4ba3ac/base/random.jl#L230\" target=\"_blank\">random.jl:230</a>"
       ],
       "metadata": {},
       "output_type": "pyout",
       "prompt_number": 146,
       "text": [
        "rand(r::Range{T},dims::Int64...) at random.jl:230"
       ]
      }
     ],
     "prompt_number": 146
    },
    {
     "cell_type": "code",
     "collapsed": false,
     "input": [
      "@which rand(6, 10)"
     ],
     "language": "python",
     "metadata": {},
     "outputs": [
      {
       "html": [
        "rand(dims::<b>Int64...</b>) at <a href=\"https://github.com/JuliaLang/julia/tree/2dfde6b8266493e6d680b48ed01c188b4e4ba3ac/base/random.jl#L123\" target=\"_blank\">random.jl:123</a>"
       ],
       "metadata": {},
       "output_type": "pyout",
       "prompt_number": 148,
       "text": [
        "rand(dims::Int64...) at random.jl:123"
       ]
      }
     ],
     "prompt_number": 148
    },
    {
     "cell_type": "code",
     "collapsed": false,
     "input": [
      "rand(6,10)"
     ],
     "language": "python",
     "metadata": {},
     "outputs": [
      {
       "metadata": {},
       "output_type": "pyout",
       "prompt_number": 149,
       "text": [
        "6x10 Array{Float64,2}:\n",
        " 0.708952  0.742682  0.559812  0.156959   \u2026  0.767235   0.903509   0.219137\n",
        " 0.226769  0.604338  0.935293  0.804932      0.0915998  0.0187165  0.402203\n",
        " 0.90555   0.665427  0.956179  0.32574       0.656727   0.0332827  0.712346\n",
        " 0.517341  0.52146   0.982712  0.888286      0.176674   0.9213     0.381029\n",
        " 0.567297  0.996252  0.29146   0.0787309     0.431528   0.494437   0.721535\n",
        " 0.858869  0.634158  0.538799  0.700424   \u2026  0.815579   0.329559   0.21473 "
       ]
      }
     ],
     "prompt_number": 149
    },
    {
     "cell_type": "code",
     "collapsed": false,
     "input": [
      "rand(1:6, 3,4)"
     ],
     "language": "python",
     "metadata": {},
     "outputs": [
      {
       "metadata": {},
       "output_type": "pyout",
       "prompt_number": 151,
       "text": [
        "3x4 Array{Int64,2}:\n",
        " 1  1  4  6\n",
        " 3  5  6  2\n",
        " 1  4  5  4"
       ]
      }
     ],
     "prompt_number": 151
    },
    {
     "cell_type": "code",
     "collapsed": false,
     "input": [
      "@which rand(1:6, 3,4)"
     ],
     "language": "python",
     "metadata": {},
     "outputs": [
      {
       "html": [
        "rand(r::<b>Range{T}</b>,dims::<b>Int64...</b>) at <a href=\"https://github.com/JuliaLang/julia/tree/2dfde6b8266493e6d680b48ed01c188b4e4ba3ac/base/random.jl#L230\" target=\"_blank\">random.jl:230</a>"
       ],
       "metadata": {},
       "output_type": "pyout",
       "prompt_number": 152,
       "text": [
        "rand(r::Range{T},dims::Int64...) at random.jl:230"
       ]
      }
     ],
     "prompt_number": 152
    },
    {
     "cell_type": "code",
     "collapsed": false,
     "input": [
      "rand(1:2, 2, 2, 2)"
     ],
     "language": "python",
     "metadata": {},
     "outputs": [
      {
       "metadata": {},
       "output_type": "pyout",
       "prompt_number": 154,
       "text": [
        "2x2x2 Array{Int64,3}:\n",
        "[:, :, 1] =\n",
        " 1  2\n",
        " 1  2\n",
        "\n",
        "[:, :, 2] =\n",
        " 1  1\n",
        " 2  1"
       ]
      }
     ],
     "prompt_number": 154
    },
    {
     "cell_type": "code",
     "collapsed": false,
     "input": [
      "rand(1:2, 2, 2, 2, 2)"
     ],
     "language": "python",
     "metadata": {},
     "outputs": [
      {
       "metadata": {},
       "output_type": "pyout",
       "prompt_number": 155,
       "text": [
        "2x2x2x2 Array{Int64,4}:\n",
        "[:, :, 1, 1] =\n",
        " 1  2\n",
        " 1  2\n",
        "\n",
        "[:, :, 2, 1] =\n",
        " 2  2\n",
        " 2  2\n",
        "\n",
        "[:, :, 1, 2] =\n",
        " 2  1\n",
        " 1  2\n",
        "\n",
        "[:, :, 2, 2] =\n",
        " 2  1\n",
        " 2  2"
       ]
      }
     ],
     "prompt_number": 155
    },
    {
     "cell_type": "markdown",
     "metadata": {},
     "source": [
      "Esto se llama **multiple dispatch** (despacho m\u00faltiple)"
     ]
    },
    {
     "cell_type": "code",
     "collapsed": false,
     "input": [
      "function dados(N)\n",
      "    rand(1:6, N)\n",
      "end"
     ],
     "language": "python",
     "metadata": {},
     "outputs": [
      {
       "metadata": {},
       "output_type": "pyout",
       "prompt_number": 156,
       "text": [
        "dados (generic function with 1 method)"
       ]
      }
     ],
     "prompt_number": 156
    },
    {
     "cell_type": "code",
     "collapsed": false,
     "input": [
      "dados(N) = rand(1:6, N)"
     ],
     "language": "python",
     "metadata": {},
     "outputs": [
      {
       "metadata": {},
       "output_type": "pyout",
       "prompt_number": 157,
       "text": [
        "dados (generic function with 1 method)"
       ]
      }
     ],
     "prompt_number": 157
    },
    {
     "cell_type": "code",
     "collapsed": false,
     "input": [
      "N = 10\n",
      "tiros = dados(N)"
     ],
     "language": "python",
     "metadata": {},
     "outputs": [
      {
       "metadata": {},
       "output_type": "pyout",
       "prompt_number": 167,
       "text": [
        "10-element Array{Int64,1}:\n",
        " 5\n",
        " 4\n",
        " 5\n",
        " 3\n",
        " 1\n",
        " 1\n",
        " 3\n",
        " 2\n",
        " 1\n",
        " 6"
       ]
      }
     ],
     "prompt_number": 167
    },
    {
     "cell_type": "code",
     "collapsed": false,
     "input": [
      "cara1 = 0\n",
      "\n",
      "for i in 1:length(tiros)\n",
      "    if tiros[i] == 1\n",
      "        cara1 = cara1 + 1\n",
      "    end\n",
      "end"
     ],
     "language": "python",
     "metadata": {},
     "outputs": [],
     "prompt_number": 168
    },
    {
     "cell_type": "code",
     "collapsed": false,
     "input": [
      "cara1"
     ],
     "language": "python",
     "metadata": {},
     "outputs": [
      {
       "metadata": {},
       "output_type": "pyout",
       "prompt_number": 169,
       "text": [
        "3"
       ]
      }
     ],
     "prompt_number": 169
    },
    {
     "cell_type": "code",
     "collapsed": false,
     "input": [
      "cara1     = 0\n",
      "   for i in 1:length(tiros)\n",
      "if  tiros[i] == 1     cara1 = cara1 + 1 end\n",
      "end"
     ],
     "language": "python",
     "metadata": {},
     "outputs": [],
     "prompt_number": 174
    },
    {
     "cell_type": "code",
     "collapsed": false,
     "input": [
      "cara1"
     ],
     "language": "python",
     "metadata": {},
     "outputs": [
      {
       "metadata": {},
       "output_type": "pyout",
       "prompt_number": 171,
       "text": [
        "3"
       ]
      }
     ],
     "prompt_number": 171
    },
    {
     "cell_type": "code",
     "collapsed": false,
     "input": [
      "c = 0\n",
      "\n",
      "for i in 1:length(t)\n",
      "    if t[i] == 1\n",
      "        c = c + 1\n",
      "    end\n",
      "end"
     ],
     "language": "python",
     "metadata": {},
     "outputs": []
    },
    {
     "cell_type": "markdown",
     "metadata": {},
     "source": [
      "Unas versiones m\u00e1s:"
     ]
    },
    {
     "cell_type": "code",
     "collapsed": false,
     "input": [
      "caras = zeros(6)\n"
     ],
     "language": "python",
     "metadata": {},
     "outputs": [
      {
       "metadata": {},
       "output_type": "pyout",
       "prompt_number": 175,
       "text": [
        "6-element Array{Float64,1}:\n",
        " 0.0\n",
        " 0.0\n",
        " 0.0\n",
        " 0.0\n",
        " 0.0\n",
        " 0.0"
       ]
      }
     ],
     "prompt_number": 175
    },
    {
     "cell_type": "code",
     "collapsed": false,
     "input": [
      "caras = zeros(Int, 6)"
     ],
     "language": "python",
     "metadata": {},
     "outputs": [
      {
       "metadata": {},
       "output_type": "pyout",
       "prompt_number": 177,
       "text": [
        "6-element Array{Int64,1}:\n",
        " 0\n",
        " 0\n",
        " 0\n",
        " 0\n",
        " 0\n",
        " 0"
       ]
      }
     ],
     "prompt_number": 177
    },
    {
     "cell_type": "code",
     "collapsed": false,
     "input": [
      "@which zeros(Int, 6)"
     ],
     "language": "python",
     "metadata": {},
     "outputs": [
      {
       "html": [
        "zeros(T::<b>Type{T<:Top}</b>,dims...) at <a href=\"https://github.com/JuliaLang/julia/tree/2dfde6b8266493e6d680b48ed01c188b4e4ba3ac/base/array.jl#L169\" target=\"_blank\">array.jl:169</a>"
       ],
       "metadata": {},
       "output_type": "pyout",
       "prompt_number": 178,
       "text": [
        "zeros(T::Type{T<:Top},dims...) at array.jl:169"
       ]
      }
     ],
     "prompt_number": 178
    },
    {
     "cell_type": "code",
     "collapsed": false,
     "input": [
      "#caras = [0, 0, 0, 0, 0, 0]\n",
      "caras = zeros(Int, 6)\n",
      "\n",
      "for i in 1:length(tiros)\n",
      "    if tiros[i] == 1\n",
      "        caras[1] = caras[1] + 1\n",
      "    end\n",
      "    if tiros[i] == 2\n",
      "        caras[2] = caras[2] + 1\n",
      "    end\n",
      "end"
     ],
     "language": "python",
     "metadata": {},
     "outputs": [],
     "prompt_number": 179
    },
    {
     "cell_type": "code",
     "collapsed": false,
     "input": [
      "caras"
     ],
     "language": "python",
     "metadata": {},
     "outputs": [
      {
       "metadata": {},
       "output_type": "pyout",
       "prompt_number": 180,
       "text": [
        "6-element Array{Int64,1}:\n",
        " 3\n",
        " 0\n",
        " 0\n",
        " 0\n",
        " 0\n",
        " 0"
       ]
      }
     ],
     "prompt_number": 180
    },
    {
     "cell_type": "code",
     "collapsed": false,
     "input": [
      "caras[1]  # el valor de la primera entrada de caras"
     ],
     "language": "python",
     "metadata": {},
     "outputs": [
      {
       "metadata": {},
       "output_type": "pyout",
       "prompt_number": 182,
       "text": [
        "3"
       ]
      }
     ],
     "prompt_number": 182
    },
    {
     "cell_type": "code",
     "collapsed": false,
     "input": [
      "hola = 10"
     ],
     "language": "python",
     "metadata": {},
     "outputs": [
      {
       "metadata": {},
       "output_type": "pyout",
       "prompt_number": 183,
       "text": [
        "10"
       ]
      }
     ],
     "prompt_number": 183
    },
    {
     "cell_type": "code",
     "collapsed": false,
     "input": [
      "hola[2]"
     ],
     "language": "python",
     "metadata": {},
     "outputs": [
      {
       "ename": "LoadError",
       "evalue": "BoundsError()\nwhile loading In[187], in expression starting on line 1",
       "output_type": "pyerr",
       "traceback": [
        "BoundsError()\nwhile loading In[187], in expression starting on line 1",
        "",
        " in getindex at number.jl:15"
       ]
      }
     ],
     "prompt_number": 187
    },
    {
     "cell_type": "code",
     "collapsed": false,
     "input": [],
     "language": "python",
     "metadata": {},
     "outputs": [
      {
       "metadata": {},
       "output_type": "pyout",
       "prompt_number": 190,
       "text": [
        "true"
       ]
      }
     ],
     "prompt_number": 190
    },
    {
     "cell_type": "markdown",
     "metadata": {},
     "source": [
      "Teorema: Si te encuentras haciendo algo m\u00e1s de 2 veces, \u00a1**hay** que automatizarlo!"
     ]
    },
    {
     "cell_type": "code",
     "collapsed": false,
     "input": [
      "a = 3\n",
      "b = 3.0"
     ],
     "language": "python",
     "metadata": {},
     "outputs": [
      {
       "metadata": {},
       "output_type": "pyout",
       "prompt_number": 194,
       "text": [
        "3.0"
       ]
      }
     ],
     "prompt_number": 194
    },
    {
     "cell_type": "code",
     "collapsed": false,
     "input": [
      "a == b"
     ],
     "language": "python",
     "metadata": {},
     "outputs": [
      {
       "metadata": {},
       "output_type": "pyout",
       "prompt_number": 195,
       "text": [
        "true"
       ]
      }
     ],
     "prompt_number": 195
    },
    {
     "cell_type": "code",
     "collapsed": false,
     "input": [
      "a === b"
     ],
     "language": "python",
     "metadata": {},
     "outputs": [
      {
       "metadata": {},
       "output_type": "pyout",
       "prompt_number": 196,
       "text": [
        "false"
       ]
      }
     ],
     "prompt_number": 196
    },
    {
     "cell_type": "code",
     "collapsed": false,
     "input": [
      "c = int32(10)\n",
      "d = int64(10)\n",
      "c == d, c === d, is(c, d)"
     ],
     "language": "python",
     "metadata": {},
     "outputs": [
      {
       "metadata": {},
       "output_type": "pyout",
       "prompt_number": 199,
       "text": [
        "(true,false,false)"
       ]
      }
     ],
     "prompt_number": 199
    },
    {
     "cell_type": "code",
     "collapsed": false,
     "input": [
      "==="
     ],
     "language": "python",
     "metadata": {},
     "outputs": [
      {
       "metadata": {},
       "output_type": "pyout",
       "prompt_number": 200,
       "text": [
        "is"
       ]
      }
     ],
     "prompt_number": 200
    },
    {
     "cell_type": "code",
     "collapsed": false,
     "input": [
      "is"
     ],
     "language": "python",
     "metadata": {},
     "outputs": [
      {
       "metadata": {},
       "output_type": "pyout",
       "prompt_number": 201,
       "text": [
        "is"
       ]
      }
     ],
     "prompt_number": 201
    },
    {
     "cell_type": "code",
     "collapsed": false,
     "input": [
      "typeof(ans)"
     ],
     "language": "python",
     "metadata": {},
     "outputs": [
      {
       "metadata": {},
       "output_type": "pyout",
       "prompt_number": 202,
       "text": [
        "Function"
       ]
      }
     ],
     "prompt_number": 202
    },
    {
     "cell_type": "code",
     "collapsed": false,
     "input": [
      "is(is, is)"
     ],
     "language": "python",
     "metadata": {},
     "outputs": [
      {
       "metadata": {},
       "output_type": "pyout",
       "prompt_number": 203,
       "text": [
        "true"
       ]
      }
     ],
     "prompt_number": 203
    },
    {
     "cell_type": "code",
     "collapsed": false,
     "input": [
      "is === is"
     ],
     "language": "python",
     "metadata": {},
     "outputs": [
      {
       "metadata": {},
       "output_type": "pyout",
       "prompt_number": 204,
       "text": [
        "true"
       ]
      }
     ],
     "prompt_number": 204
    },
    {
     "cell_type": "markdown",
     "metadata": {},
     "source": [
      "Automatizar:"
     ]
    },
    {
     "cell_type": "code",
     "collapsed": false,
     "input": [
      "caras = zeros(Int, 6)\n",
      "\n",
      "for i in 1:length(tiros)\n",
      "    for valor in 1:6\n",
      "        if tiros[i] == valor\n",
      "            caras[valor] += 1\n",
      "        end\n",
      "    end\n",
      "    \n",
      "end"
     ],
     "language": "python",
     "metadata": {},
     "outputs": [],
     "prompt_number": 207
    },
    {
     "cell_type": "markdown",
     "metadata": {},
     "source": [
      "[El editor de IJulia es CodeMirror]"
     ]
    },
    {
     "cell_type": "code",
     "collapsed": false,
     "input": [
      "caras"
     ],
     "language": "python",
     "metadata": {},
     "outputs": [
      {
       "metadata": {},
       "output_type": "pyout",
       "prompt_number": 208,
       "text": [
        "6-element Array{Int64,1}:\n",
        " 3\n",
        " 1\n",
        " 2\n",
        " 1\n",
        " 2\n",
        " 1"
       ]
      }
     ],
     "prompt_number": 208
    },
    {
     "cell_type": "markdown",
     "metadata": {},
     "source": [
      "Construimos un *histograma* (en la interpretaci\u00f3n estad\u00edstica de la palabra. Ejercicio: Checa si realmente se llame histograma)."
     ]
    },
    {
     "cell_type": "markdown",
     "metadata": {},
     "source": [
      "Normalizar: dividir entre el n\u00famero de tiradas:"
     ]
    },
    {
     "cell_type": "code",
     "collapsed": false,
     "input": [
      "sum(caras)"
     ],
     "language": "python",
     "metadata": {},
     "outputs": [
      {
       "metadata": {},
       "output_type": "pyout",
       "prompt_number": 211,
       "text": [
        "10"
       ]
      }
     ],
     "prompt_number": 211
    },
    {
     "cell_type": "code",
     "collapsed": false,
     "input": [
      "?sum"
     ],
     "language": "python",
     "metadata": {},
     "outputs": [
      {
       "output_type": "stream",
       "stream": "stderr",
       "text": [
        "INFO: Loading help data...\n"
       ]
      },
      {
       "output_type": "stream",
       "stream": "stdout",
       "text": [
        "Base.sum(itr)\n",
        "\n",
        "   Returns the sum of all elements in a collection.\n"
       ]
      },
      {
       "output_type": "stream",
       "stream": "stdout",
       "text": [
        "\n",
        "Base.sum(A, dims)\n",
        "\n",
        "   Sum elements of an array over the given dimensions.\n",
        "\n",
        "Base.sum(f, itr)\n",
        "\n",
        "   Sum the results of calling function \"f\" on each element of\n",
        "   \"itr\".\n"
       ]
      }
     ],
     "prompt_number": 213
    },
    {
     "cell_type": "code",
     "collapsed": false,
     "input": [
      "methods(sum)"
     ],
     "language": "python",
     "metadata": {},
     "outputs": [
      {
       "html": [
        "13 methods for generic function <b>sum</b>:<ul><li> sum(x::<b>(Any,Any...)</b>) at <a href=\"https://github.com/JuliaLang/julia/tree/2dfde6b8266493e6d680b48ed01c188b4e4ba3ac/base/tuple.jl#L119\" target=\"_blank\">tuple.jl:119</a><li> sum<i>{T<:Real}</i>(r::<b>Range{T<:Real}</b>) at <a href=\"https://github.com/JuliaLang/julia/tree/2dfde6b8266493e6d680b48ed01c188b4e4ba3ac/base/range.jl#L540\" target=\"_blank\">range.jl:540</a><li> sum(f::<b>Union(Function,Func{1})</b>,A::<b>AbstractArray{T,N}</b>,region) at <a href=\"https://github.com/JuliaLang/julia/tree/2dfde6b8266493e6d680b48ed01c188b4e4ba3ac/base/reducedim.jl#L224\" target=\"_blank\">reducedim.jl:224</a><li> sum(f::<b>Union(Function,Func{1},DataType)</b>,a) at <a href=\"https://github.com/JuliaLang/julia/tree/2dfde6b8266493e6d680b48ed01c188b4e4ba3ac/base/reduce.jl#L239\" target=\"_blank\">reduce.jl:239</a><li> sum(A::<b>BitArray{N}</b>,region) at <a href=\"https://github.com/JuliaLang/julia/tree/2dfde6b8266493e6d680b48ed01c188b4e4ba3ac/base/bitarray.jl#L1381\" target=\"_blank\">bitarray.jl:1381</a><li> sum(B::<b>BitArray{N}</b>) at <a href=\"https://github.com/JuliaLang/julia/tree/2dfde6b8266493e6d680b48ed01c188b4e4ba3ac/base/bitarray.jl#L1382\" target=\"_blank\">bitarray.jl:1382</a><li> sum<i>{T}</i>(A::<b>SparseMatrixCSC{T,Ti<:Integer}</b>) at <a href=\"https://github.com/JuliaLang/julia/tree/2dfde6b8266493e6d680b48ed01c188b4e4ba3ac/base/sparse/sparsematrix.jl#L734\" target=\"_blank\">sparse/sparsematrix.jl:734</a><li> sum<i>{T}</i>(A::<b>SparseMatrixCSC{T,Ti<:Integer}</b>,region) at <a href=\"https://github.com/JuliaLang/julia/tree/2dfde6b8266493e6d680b48ed01c188b4e4ba3ac/base/sparse/sparsematrix.jl#L735\" target=\"_blank\">sparse/sparsematrix.jl:735</a><li> sum(a::<b>AbstractArray{Bool,N}</b>) at <a href=\"https://github.com/JuliaLang/julia/tree/2dfde6b8266493e6d680b48ed01c188b4e4ba3ac/base/reduce.jl#L241\" target=\"_blank\">reduce.jl:241</a><li> sum(arr::<b>AbstractArray{BigInt,N}</b>) at <a href=\"https://github.com/JuliaLang/julia/tree/2dfde6b8266493e6d680b48ed01c188b4e4ba3ac/base/gmp.jl#L394\" target=\"_blank\">gmp.jl:394</a><li> sum(arr::<b>AbstractArray{BigFloat,N}</b>) at <a href=\"https://github.com/JuliaLang/julia/tree/2dfde6b8266493e6d680b48ed01c188b4e4ba3ac/base/mpfr.jl#L474\" target=\"_blank\">mpfr.jl:474</a><li> sum(A::<b>AbstractArray{T,N}</b>,region) at <a href=\"https://github.com/JuliaLang/julia/tree/2dfde6b8266493e6d680b48ed01c188b4e4ba3ac/base/reducedim.jl#L226\" target=\"_blank\">reducedim.jl:226</a><li> sum(a) at <a href=\"https://github.com/JuliaLang/julia/tree/2dfde6b8266493e6d680b48ed01c188b4e4ba3ac/base/reduce.jl#L240\" target=\"_blank\">reduce.jl:240</a></ul>"
       ],
       "metadata": {},
       "output_type": "pyout",
       "prompt_number": 212,
       "text": [
        "# 13 methods for generic function \"sum\":\n",
        "sum(x::(Any,Any...)) at tuple.jl:119\n",
        "sum{T<:Real}(r::Range{T<:Real}) at range.jl:540\n",
        "sum(f::Union(Function,Func{1}),A::AbstractArray{T,N},region) at reducedim.jl:224\n",
        "sum(f::Union(Function,Func{1},DataType),a) at reduce.jl:239\n",
        "sum(A::BitArray{N},region) at bitarray.jl:1381\n",
        "sum(B::BitArray{N}) at bitarray.jl:1382\n",
        "sum{T}(A::SparseMatrixCSC{T,Ti<:Integer}) at sparse/sparsematrix.jl:734\n",
        "sum{T}(A::SparseMatrixCSC{T,Ti<:Integer},region) at sparse/sparsematrix.jl:735\n",
        "sum(a::AbstractArray{Bool,N}) at reduce.jl:241\n",
        "sum(arr::AbstractArray{BigInt,N}) at gmp.jl:394\n",
        "sum(arr::AbstractArray{BigFloat,N}) at mpfr.jl:474\n",
        "sum(A::AbstractArray{T,N},region) at reducedim.jl:226\n",
        "sum(a) at reduce.jl:240"
       ]
      }
     ],
     "prompt_number": 212
    },
    {
     "cell_type": "code",
     "collapsed": false,
     "input": [
      "caras / suma(caras)"
     ],
     "language": "python",
     "metadata": {},
     "outputs": [
      {
       "ename": "LoadError",
       "evalue": "suma not defined\nwhile loading In[210], in expression starting on line 1",
       "output_type": "pyerr",
       "traceback": [
        "suma not defined\nwhile loading In[210], in expression starting on line 1",
        ""
       ]
      }
     ],
     "prompt_number": 210
    },
    {
     "cell_type": "markdown",
     "metadata": {},
     "source": [
      "`sum` act\u00faa sobre *iterables*, por ejemplo rangos:"
     ]
    },
    {
     "cell_type": "code",
     "collapsed": false,
     "input": [
      "sum(1:6)"
     ],
     "language": "python",
     "metadata": {},
     "outputs": [
      {
       "metadata": {},
       "output_type": "pyout",
       "prompt_number": 214,
       "text": [
        "21"
       ]
      }
     ],
     "prompt_number": 214
    },
    {
     "cell_type": "code",
     "collapsed": false,
     "input": [
      "sum(1:.1:6)"
     ],
     "language": "python",
     "metadata": {},
     "outputs": [
      {
       "metadata": {},
       "output_type": "pyout",
       "prompt_number": 215,
       "text": [
        "178.5"
       ]
      }
     ],
     "prompt_number": 215
    },
    {
     "cell_type": "code",
     "collapsed": false,
     "input": [
      "1:.1:6"
     ],
     "language": "python",
     "metadata": {},
     "outputs": [
      {
       "metadata": {},
       "output_type": "pyout",
       "prompt_number": 216,
       "text": [
        "1.0:0.1:6.0"
       ]
      }
     ],
     "prompt_number": 216
    },
    {
     "cell_type": "code",
     "collapsed": false,
     "input": [
      "typeof(ans)"
     ],
     "language": "python",
     "metadata": {},
     "outputs": [
      {
       "metadata": {},
       "output_type": "pyout",
       "prompt_number": 217,
       "text": [
        "FloatRange{Float64} (constructor with 1 method)"
       ]
      }
     ],
     "prompt_number": 217
    },
    {
     "cell_type": "code",
     "collapsed": false,
     "input": [
      "[1:.1:6]"
     ],
     "language": "python",
     "metadata": {},
     "outputs": [
      {
       "metadata": {},
       "output_type": "pyout",
       "prompt_number": 218,
       "text": [
        "51-element Array{Float64,1}:\n",
        " 1.0\n",
        " 1.1\n",
        " 1.2\n",
        " 1.3\n",
        " 1.4\n",
        " 1.5\n",
        " 1.6\n",
        " 1.7\n",
        " 1.8\n",
        " 1.9\n",
        " 2.0\n",
        " 2.1\n",
        " 2.2\n",
        " \u22ee  \n",
        " 4.9\n",
        " 5.0\n",
        " 5.1\n",
        " 5.2\n",
        " 5.3\n",
        " 5.4\n",
        " 5.5\n",
        " 5.6\n",
        " 5.7\n",
        " 5.8\n",
        " 5.9\n",
        " 6.0"
       ]
      }
     ],
     "prompt_number": 218
    },
    {
     "cell_type": "code",
     "collapsed": false,
     "input": [
      "probabilidades = caras / sum(caras)"
     ],
     "language": "python",
     "metadata": {},
     "outputs": [
      {
       "metadata": {},
       "output_type": "pyout",
       "prompt_number": 219,
       "text": [
        "6-element Array{Float64,1}:\n",
        " 0.3\n",
        " 0.1\n",
        " 0.2\n",
        " 0.1\n",
        " 0.2\n",
        " 0.1"
       ]
      }
     ],
     "prompt_number": 219
    },
    {
     "cell_type": "code",
     "collapsed": false,
     "input": [
      "sum(probabilidades)"
     ],
     "language": "python",
     "metadata": {},
     "outputs": [
      {
       "metadata": {},
       "output_type": "pyout",
       "prompt_number": 220,
       "text": [
        "1.0000000000000002"
       ]
      }
     ],
     "prompt_number": 220
    },
    {
     "cell_type": "code",
     "collapsed": false,
     "input": [
      "big(0.2)"
     ],
     "language": "python",
     "metadata": {},
     "outputs": [
      {
       "metadata": {},
       "output_type": "pyout",
       "prompt_number": 221,
       "text": [
        "2.00000000000000011102230246251565404236316680908203125e-01 with 256 bits of precision"
       ]
      }
     ],
     "prompt_number": 221
    },
    {
     "cell_type": "code",
     "collapsed": false,
     "input": [
      "widen(0.2)"
     ],
     "language": "python",
     "metadata": {},
     "outputs": [
      {
       "metadata": {},
       "output_type": "pyout",
       "prompt_number": 222,
       "text": [
        "2.00000000000000011102230246251565404236316680908203125e-01 with 256 bits of precision"
       ]
      }
     ],
     "prompt_number": 222
    },
    {
     "cell_type": "code",
     "collapsed": false,
     "input": [
      "BigFloat(\"0.2\")"
     ],
     "language": "python",
     "metadata": {},
     "outputs": [
      {
       "metadata": {},
       "output_type": "pyout",
       "prompt_number": 224,
       "text": [
        "2.000000000000000000000000000000000000000000000000000000000000000000000000000004e-01 with 256 bits of precision"
       ]
      }
     ],
     "prompt_number": 224
    },
    {
     "cell_type": "code",
     "collapsed": false,
     "input": [
      "big(10)"
     ],
     "language": "python",
     "metadata": {},
     "outputs": [
      {
       "metadata": {},
       "output_type": "pyout",
       "prompt_number": 225,
       "text": [
        "10"
       ]
      }
     ],
     "prompt_number": 225
    },
    {
     "cell_type": "code",
     "collapsed": false,
     "input": [
      "BigFloat(0.2)"
     ],
     "language": "python",
     "metadata": {},
     "outputs": [
      {
       "metadata": {},
       "output_type": "pyout",
       "prompt_number": 226,
       "text": [
        "2.00000000000000011102230246251565404236316680908203125e-01 with 256 bits of precision"
       ]
      }
     ],
     "prompt_number": 226
    },
    {
     "cell_type": "heading",
     "level": 1,
     "metadata": {},
     "source": [
      "Graficar"
     ]
    },
    {
     "cell_type": "markdown",
     "metadata": {},
     "source": [
      "Necesitamos importar un paquete de gr\u00e1ficos. Usaremos `PyPlot` (wrapper de `matplotlib`)"
     ]
    },
    {
     "cell_type": "code",
     "collapsed": false,
     "input": [
      "using PyPlot"
     ],
     "language": "python",
     "metadata": {},
     "outputs": [],
     "prompt_number": 227
    },
    {
     "cell_type": "code",
     "collapsed": false,
     "input": [],
     "language": "python",
     "metadata": {},
     "outputs": []
    },
    {
     "cell_type": "code",
     "collapsed": false,
     "input": [
      "figure(figsize=(5,3))\n",
      "plot(probabilidades, \"ro-\")\n",
      "ylim(0, 0.4)\n",
      "xlim(-1, 6)\n",
      "xlabel(\"cara\")\n",
      "ylabel(\"probabilidad\")"
     ],
     "language": "python",
     "metadata": {},
     "outputs": [
      {
       "metadata": {},
       "output_type": "display_data",
       "png": "[encoded data removed]",
       "text": [
        "Figure(PyObject <matplotlib.figure.Figure object at 0x11e1d3350>)"
       ]
      },
      {
       "metadata": {},
       "output_type": "pyout",
       "prompt_number": 240,
       "text": [
        "PyObject <matplotlib.text.Text object at 0x11e22d590>"
       ]
      }
     ],
     "prompt_number": 240
    },
    {
     "cell_type": "code",
     "collapsed": false,
     "input": [
      "plt.hist(tiros)"
     ],
     "language": "python",
     "metadata": {},
     "outputs": [
      {
       "metadata": {},
       "output_type": "display_data",
       "png": "[encoded data removed]",
       "text": [
        "Figure(PyObject <matplotlib.figure.Figure object at 0x11e23a110>)"
       ]
      },
      {
       "metadata": {},
       "output_type": "pyout",
       "prompt_number": 241,
       "text": [
        "([3.0,0.0,1.0,0.0,2.0,0.0,1.0,0.0,2.0,1.0],[1.0,1.5,2.0,2.5,3.0,3.5,4.0,4.5,5.0,5.5,6.0],{PyObject <matplotlib.patches.Rectangle object at 0x11e3ef650>,PyObject <matplotlib.patches.Rectangle object at 0x11e3efc90>,PyObject <matplotlib.patches.Rectangle object at 0x11e3fd350>,PyObject <matplotlib.patches.Rectangle object at 0x11e3fd9d0>,PyObject <matplotlib.patches.Rectangle object at 0x11e3fded0>,PyObject <matplotlib.patches.Rectangle object at 0x11e409710>,PyObject <matplotlib.patches.Rectangle object at 0x11e409d90>,PyObject <matplotlib.patches.Rectangle object at 0x11e418450>,PyObject <matplotlib.patches.Rectangle object at 0x11e418ad0>,PyObject <matplotlib.patches.Rectangle object at 0x11e418fd0>})"
       ]
      }
     ],
     "prompt_number": 241
    },
    {
     "cell_type": "markdown",
     "metadata": {},
     "source": [
      "Mi gr\u00e1fica est\u00e1 m\u00e1s bonita que el histograma horrible de PyPlot -- c.f. Edward Tufte"
     ]
    },
    {
     "cell_type": "heading",
     "level": 1,
     "metadata": {},
     "source": [
      "Encapsular todo en una funci\u00f3n"
     ]
    },
    {
     "cell_type": "code",
     "collapsed": false,
     "input": [
      "N = 100\n",
      "tiros = rand(1:6, N);"
     ],
     "language": "python",
     "metadata": {},
     "outputs": [],
     "prompt_number": 248
    },
    {
     "cell_type": "code",
     "collapsed": false,
     "input": [
      "function histograma(datos, num_cajas)\n",
      "    \n",
      "    @show datos\n",
      "    \n",
      "    conteos = zeros(Int, num_cajas)\n",
      "\n",
      "    for i in 1:length(datos)\n",
      "        for caja in 1:num_cajas\n",
      "            if datos[i] == caja\n",
      "                conteos[caja] += 1\n",
      "            end\n",
      "        end\n",
      "\n",
      "    end\n",
      "    \n",
      "    @show conteos\n",
      "    \n",
      "    probabilidades = conteos / length(datos)\n",
      "    \n",
      "end\n",
      "\n",
      "probabilidades = histograma(tiros, 6)\n",
      "\n",
      "plot(probabilidades)"
     ],
     "language": "python",
     "metadata": {},
     "outputs": [
      {
       "output_type": "stream",
       "stream": "stdout",
       "text": [
        "datos => [6,1,5,4,6,1,3,5,2,3,6,5,6,6,3,1,2,6,6,2,6,6,6,3,4,4,4,3,2,2,5,5,2,6,1,4,3,2,6,5,2,6,2,6,6,1,3,3,3,6,2,1,3,6,4,5,1,6,5,6,5,3,4,6,6,5,3,1,3,4,1,6,4,1,3,1,4,4,3,5,2,2,2,3,2,2,3,1,1,4,1,1,3,5,5,2,6,4,3,4]"
       ]
      },
      {
       "output_type": "stream",
       "stream": "stdout",
       "text": [
        "\n",
        "conteos => [15,16,19,14,13,23]\n"
       ]
      },
      {
       "metadata": {},
       "output_type": "display_data",
       "png": "[encoded data removed]",
       "text": [
        "Figure(PyObject <matplotlib.figure.Figure object at 0x11e451f90>)"
       ]
      },
      {
       "metadata": {},
       "output_type": "pyout",
       "prompt_number": 250,
       "text": [
        "1-element Array{Any,1}:\n",
        " PyObject <matplotlib.lines.Line2D object at 0x11e4d15d0>"
       ]
      }
     ],
     "prompt_number": 250
    },
    {
     "cell_type": "code",
     "collapsed": false,
     "input": [
      "function plot_probas(probabilidades)\n",
      "\n",
      "    figure(figsize=(5,3))\n",
      "    plot(probabilidades, \"ro-\")\n",
      "    ylim(0, 0.4)\n",
      "    xlim(-1, 6)\n",
      "    xlabel(\"cara\")\n",
      "    ylabel(\"probabilidad\")\n",
      "end"
     ],
     "language": "python",
     "metadata": {},
     "outputs": [
      {
       "metadata": {},
       "output_type": "pyout",
       "prompt_number": 251,
       "text": [
        "plot_probas (generic function with 1 method)"
       ]
      }
     ],
     "prompt_number": 251
    },
    {
     "cell_type": "code",
     "collapsed": false,
     "input": [
      "plot_probas(probabilidades)"
     ],
     "language": "python",
     "metadata": {},
     "outputs": [
      {
       "metadata": {},
       "output_type": "display_data",
       "png": "[encoded data removed]",
       "text": [
        "Figure(PyObject <matplotlib.figure.Figure object at 0x11df758d0>)"
       ]
      },
      {
       "metadata": {},
       "output_type": "pyout",
       "prompt_number": 252,
       "text": [
        "PyObject <matplotlib.text.Text object at 0x11e51f810>"
       ]
      }
     ],
     "prompt_number": 252
    },
    {
     "cell_type": "code",
     "collapsed": false,
     "input": [
      "pwd()"
     ],
     "language": "python",
     "metadata": {},
     "outputs": [
      {
       "metadata": {},
       "output_type": "pyout",
       "prompt_number": 253,
       "text": [
        "\"/Users/dsanders/Dropbox/docencia/metodos-monte-carlo/2015-2/clases\""
       ]
      }
     ],
     "prompt_number": 253
    },
    {
     "cell_type": "code",
     "collapsed": false,
     "input": [
      ";ls"
     ],
     "language": "python",
     "metadata": {},
     "outputs": [
      {
       "output_type": "stream",
       "stream": "stdout",
       "text": [
        "02-10 Sintaxis de Julia y dados.ipynb\n",
        "histograma.jl\n"
       ]
      }
     ],
     "prompt_number": 254
    },
    {
     "cell_type": "code",
     "collapsed": false,
     "input": [
      "include(\"histograma.jl\")"
     ],
     "language": "python",
     "metadata": {},
     "outputs": [
      {
       "metadata": {},
       "output_type": "pyout",
       "prompt_number": 255,
       "text": [
        "histograma (generic function with 1 method)"
       ]
      }
     ],
     "prompt_number": 255
    },
    {
     "cell_type": "code",
     "collapsed": false,
     "input": [],
     "language": "python",
     "metadata": {},
     "outputs": []
    }
   ],
   "metadata": {}
  }
 ]
}