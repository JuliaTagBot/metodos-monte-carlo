{
 "metadata": {
  "language": "Julia",
  "name": "",
  "signature": "sha256:d14050b72b77426ad312fcb8722cdb4f1d1c963ac74e6e0ce571ea5eb7c5a282"
 },
 "nbformat": 3,
 "nbformat_minor": 0,
 "worksheets": [
  {
   "cells": [
    {
     "cell_type": "heading",
     "level": 1,
     "metadata": {},
     "source": [
      "Construir matrices"
     ]
    },
    {
     "cell_type": "markdown",
     "metadata": {},
     "source": [
      "Si ya conocemos el tama\u00f1o de la matriz:"
     ]
    },
    {
     "cell_type": "code",
     "collapsed": false,
     "input": [
      "zeros(10)"
     ],
     "language": "python",
     "metadata": {},
     "outputs": [
      {
       "metadata": {},
       "output_type": "pyout",
       "prompt_number": 1,
       "text": [
        "10-element Array{Float64,1}:\n",
        " 0.0\n",
        " 0.0\n",
        " 0.0\n",
        " 0.0\n",
        " 0.0\n",
        " 0.0\n",
        " 0.0\n",
        " 0.0\n",
        " 0.0\n",
        " 0.0"
       ]
      }
     ],
     "prompt_number": 1
    },
    {
     "cell_type": "code",
     "collapsed": false,
     "input": [
      "zeros(3, 7)"
     ],
     "language": "python",
     "metadata": {},
     "outputs": [
      {
       "metadata": {},
       "output_type": "pyout",
       "prompt_number": 2,
       "text": [
        "3x7 Array{Float64,2}:\n",
        " 0.0  0.0  0.0  0.0  0.0  0.0  0.0\n",
        " 0.0  0.0  0.0  0.0  0.0  0.0  0.0\n",
        " 0.0  0.0  0.0  0.0  0.0  0.0  0.0"
       ]
      }
     ],
     "prompt_number": 2
    },
    {
     "cell_type": "code",
     "collapsed": false,
     "input": [
      "zeros(2,3,4,5)"
     ],
     "language": "python",
     "metadata": {},
     "outputs": [
      {
       "metadata": {},
       "output_type": "pyout",
       "prompt_number": 3,
       "text": [
        "2x3x4x5 Array{Float64,4}:\n",
        "[:, :, 1, 1] =\n",
        " 0.0  0.0  0.0\n",
        " 0.0  0.0  0.0\n",
        "\n",
        "[:, :, 2, 1] =\n",
        " 0.0  0.0  0.0\n",
        " 0.0  0.0  0.0\n",
        "\n",
        "[:, :, 3, 1] =\n",
        " 0.0  0.0  0.0\n",
        " 0.0  0.0  0.0\n",
        "\n",
        "[:, :, 4, 1] =\n",
        " 0.0  0.0  0.0\n",
        " 0.0  0.0  0.0\n",
        "\n",
        "[:, :, 1, 2] =\n",
        " 0.0  0.0  0.0\n",
        " 0.0  0.0  0.0\n",
        "\n",
        "[:, :, 2, 2] =\n",
        " 0.0  0.0  0.0\n",
        " 0.0  0.0  0.0\n",
        "\n",
        "[:, :, 3, 2] =\n",
        " 0.0  0.0  0.0\n",
        " 0.0  0.0  0.0\n",
        "\n",
        "[:, :, 4, 2] =\n",
        " 0.0  0.0  0.0\n",
        " 0.0  0.0  0.0\n",
        "\n",
        "[:, :, 1, 3] =\n",
        " 0.0  0.0  0.0\n",
        " 0.0  0.0  0.0\n",
        "\n",
        "[:, :, 2, 3] =\n",
        " 0.0  0.0  0.0\n",
        " 0.0  0.0  0.0\n",
        "\n",
        "[:, :, 3, 3] =\n",
        " 0.0  0.0  0.0\n",
        " 0.0  0.0  0.0\n",
        "\n",
        "[:, :, 4, 3] =\n",
        " 0.0  0.0  0.0\n",
        " 0.0  0.0  0.0\n",
        "\n",
        "[:, :, 1, 4] =\n",
        " 0.0  0.0  0.0\n",
        " 0.0  0.0  0.0\n",
        "\n",
        "[:, :, 2, 4] =\n",
        " 0.0  0.0  0.0\n",
        " 0.0  0.0  0.0\n",
        "\n",
        "[:, :, 3, 4] =\n",
        " 0.0  0.0  0.0\n",
        " 0.0  0.0  0.0\n",
        "\n",
        "[:, :, 4, 4] =\n",
        " 0.0  0.0  0.0\n",
        " 0.0  0.0  0.0\n",
        "\n",
        "[:, :, 1, 5] =\n",
        " 0.0  0.0  0.0\n",
        " 0.0  0.0  0.0\n",
        "\n",
        "[:, :, 2, 5] =\n",
        " 0.0  0.0  0.0\n",
        " 0.0  0.0  0.0\n",
        "\n",
        "[:, :, 3, 5] =\n",
        " 0.0  0.0  0.0\n",
        " 0.0  0.0  0.0\n",
        "\n",
        "[:, :, 4, 5] =\n",
        " 0.0  0.0  0.0\n",
        " 0.0  0.0  0.0"
       ]
      }
     ],
     "prompt_number": 3
    },
    {
     "cell_type": "code",
     "collapsed": false,
     "input": [
      "M = Int[]"
     ],
     "language": "python",
     "metadata": {},
     "outputs": [
      {
       "metadata": {},
       "output_type": "pyout",
       "prompt_number": 4,
       "text": [
        "0-element Array{Int64,1}"
       ]
      }
     ],
     "prompt_number": 4
    },
    {
     "cell_type": "code",
     "collapsed": false,
     "input": [
      "push!(M, 10)"
     ],
     "language": "python",
     "metadata": {},
     "outputs": [
      {
       "metadata": {},
       "output_type": "pyout",
       "prompt_number": 5,
       "text": [
        "1-element Array{Int64,1}:\n",
        " 10"
       ]
      }
     ],
     "prompt_number": 5
    },
    {
     "cell_type": "code",
     "collapsed": false,
     "input": [
      "M = Any[]"
     ],
     "language": "python",
     "metadata": {},
     "outputs": [
      {
       "metadata": {},
       "output_type": "pyout",
       "prompt_number": 9,
       "text": [
        "0-element Array{Any,1}"
       ]
      }
     ],
     "prompt_number": 9
    },
    {
     "cell_type": "code",
     "collapsed": false,
     "input": [
      "push!(M, 10)\n",
      "push!(M, 10.5)\n",
      "push!(M, \"hola\")"
     ],
     "language": "python",
     "metadata": {},
     "outputs": [
      {
       "metadata": {},
       "output_type": "pyout",
       "prompt_number": 10,
       "text": [
        "3-element Array{Any,1}:\n",
        " 10      \n",
        " 10.5    \n",
        "   \"hola\""
       ]
      }
     ],
     "prompt_number": 10
    },
    {
     "cell_type": "code",
     "collapsed": false,
     "input": [
      "push!(M, [3, 4])"
     ],
     "language": "python",
     "metadata": {},
     "outputs": [
      {
       "metadata": {},
       "output_type": "pyout",
       "prompt_number": 11,
       "text": [
        "4-element Array{Any,1}:\n",
        " 10      \n",
        " 10.5    \n",
        "   \"hola\"\n",
        "   [3,4] "
       ]
      }
     ],
     "prompt_number": 11
    },
    {
     "cell_type": "code",
     "collapsed": false,
     "input": [
      "M = Vector{Float64}[]"
     ],
     "language": "python",
     "metadata": {},
     "outputs": [
      {
       "metadata": {},
       "output_type": "pyout",
       "prompt_number": 20,
       "text": [
        "0-element Array{Array{Float64,1},1}"
       ]
      }
     ],
     "prompt_number": 20
    },
    {
     "cell_type": "code",
     "collapsed": false,
     "input": [
      "push!(M, [3, 4, 5])"
     ],
     "language": "python",
     "metadata": {},
     "outputs": [
      {
       "metadata": {},
       "output_type": "pyout",
       "prompt_number": 21,
       "text": [
        "1-element Array{Array{Float64,1},1}:\n",
        " [3.0,4.0,5.0]"
       ]
      }
     ],
     "prompt_number": 21
    },
    {
     "cell_type": "code",
     "collapsed": false,
     "input": [
      "push!(M, [6, 7, 8])"
     ],
     "language": "python",
     "metadata": {},
     "outputs": [
      {
       "metadata": {},
       "output_type": "pyout",
       "prompt_number": 23,
       "text": [
        "2-element Array{Array{Float64,1},1}:\n",
        " [3.0,4.0,5.0]\n",
        " [6.0,7.0,8.0]"
       ]
      }
     ],
     "prompt_number": 23
    },
    {
     "cell_type": "code",
     "collapsed": false,
     "input": [
      "A = Array(Any, 3, 4)"
     ],
     "language": "python",
     "metadata": {},
     "outputs": [
      {
       "metadata": {},
       "output_type": "pyout",
       "prompt_number": 18,
       "text": [
        "3x4 Array{Any,2}:\n",
        " #undef  #undef  #undef  #undef\n",
        " #undef  #undef  #undef  #undef\n",
        " #undef  #undef  #undef  #undef"
       ]
      }
     ],
     "prompt_number": 18
    },
    {
     "cell_type": "code",
     "collapsed": false,
     "input": [
      "A[1,2]"
     ],
     "language": "python",
     "metadata": {},
     "outputs": [
      {
       "ename": "LoadError",
       "evalue": "access to undefined reference\nwhile loading In[19], in expression starting on line 1",
       "output_type": "pyerr",
       "traceback": [
        "access to undefined reference\nwhile loading In[19], in expression starting on line 1",
        "",
        " in getindex at array.jl:247"
       ]
      }
     ],
     "prompt_number": 19
    },
    {
     "cell_type": "code",
     "collapsed": false,
     "input": [
      "M"
     ],
     "language": "python",
     "metadata": {},
     "outputs": [
      {
       "metadata": {},
       "output_type": "pyout",
       "prompt_number": 24,
       "text": [
        "2-element Array{Array{Float64,1},1}:\n",
        " [3.0,4.0,5.0]\n",
        " [6.0,7.0,8.0]"
       ]
      }
     ],
     "prompt_number": 24
    },
    {
     "cell_type": "code",
     "collapsed": false,
     "input": [
      "hcat(M[1], M[2])"
     ],
     "language": "python",
     "metadata": {},
     "outputs": [
      {
       "metadata": {},
       "output_type": "pyout",
       "prompt_number": 35,
       "text": [
        "3x2 Array{Float64,2}:\n",
        " 3.0  6.0\n",
        " 4.0  7.0\n",
        " 5.0  8.0"
       ]
      }
     ],
     "prompt_number": 35
    },
    {
     "cell_type": "code",
     "collapsed": false,
     "input": [
      "vcat(M[1]', M[2]')"
     ],
     "language": "python",
     "metadata": {},
     "outputs": [
      {
       "metadata": {},
       "output_type": "pyout",
       "prompt_number": 37,
       "text": [
        "2x3 Array{Float64,2}:\n",
        " 3.0  4.0  5.0\n",
        " 6.0  7.0  8.0"
       ]
      }
     ],
     "prompt_number": 37
    },
    {
     "cell_type": "code",
     "collapsed": false,
     "input": [
      "for i in 1:10\n",
      "    push!(M, [3,4,5])\n",
      "end"
     ],
     "language": "python",
     "metadata": {},
     "outputs": [],
     "prompt_number": 38
    },
    {
     "cell_type": "code",
     "collapsed": false,
     "input": [
      "M"
     ],
     "language": "python",
     "metadata": {},
     "outputs": [
      {
       "metadata": {},
       "output_type": "pyout",
       "prompt_number": 39,
       "text": [
        "12-element Array{Array{Float64,1},1}:\n",
        " [3.0,4.0,5.0]\n",
        " [6.0,7.0,8.0]\n",
        " [3.0,4.0,5.0]\n",
        " [3.0,4.0,5.0]\n",
        " [3.0,4.0,5.0]\n",
        " [3.0,4.0,5.0]\n",
        " [3.0,4.0,5.0]\n",
        " [3.0,4.0,5.0]\n",
        " [3.0,4.0,5.0]\n",
        " [3.0,4.0,5.0]\n",
        " [3.0,4.0,5.0]\n",
        " [3.0,4.0,5.0]"
       ]
      }
     ],
     "prompt_number": 39
    },
    {
     "cell_type": "code",
     "collapsed": false,
     "input": [
      "hcat(M...)'"
     ],
     "language": "python",
     "metadata": {},
     "outputs": [
      {
       "metadata": {},
       "output_type": "pyout",
       "prompt_number": 41,
       "text": [
        "12x3 Array{Float64,2}:\n",
        " 3.0  4.0  5.0\n",
        " 6.0  7.0  8.0\n",
        " 3.0  4.0  5.0\n",
        " 3.0  4.0  5.0\n",
        " 3.0  4.0  5.0\n",
        " 3.0  4.0  5.0\n",
        " 3.0  4.0  5.0\n",
        " 3.0  4.0  5.0\n",
        " 3.0  4.0  5.0\n",
        " 3.0  4.0  5.0\n",
        " 3.0  4.0  5.0\n",
        " 3.0  4.0  5.0"
       ]
      }
     ],
     "prompt_number": 41
    },
    {
     "cell_type": "code",
     "collapsed": false,
     "input": [],
     "language": "python",
     "metadata": {},
     "outputs": []
    }
   ],
   "metadata": {}
  }
 ]
}